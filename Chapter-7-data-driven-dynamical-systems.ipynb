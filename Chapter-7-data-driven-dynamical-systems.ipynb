{
 "cells": [
  {
   "cell_type": "markdown",
   "metadata": {},
   "source": [
    "# Chapter 7: Data-Driven Dynamical Systems"
   ]
  },
  {
   "cell_type": "markdown",
   "metadata": {},
   "source": [
    "Course title:\n",
    "\n",
    "**MECH 575T: Data-driven modeling and control (Self-directed)**\n",
    "\n",
    "Reference text:\n",
    "\n",
    "**Data-Driven Science and Engineering, by Steve Brunton**\n",
    "\n",
    "## Contents\n",
    "\n",
    "1. Computing the DMD"
   ]
  },
  {
   "cell_type": "code",
   "execution_count": 1,
   "metadata": {},
   "outputs": [],
   "source": [
    "import os\n",
    "import numpy as np\n",
    "import pandas as pd\n",
    "import matplotlib.pyplot as plt"
   ]
  },
  {
   "cell_type": "code",
   "execution_count": 2,
   "metadata": {},
   "outputs": [
    {
     "data": {
      "text/plain": [
       "'3.7.4'"
      ]
     },
     "execution_count": 2,
     "metadata": {},
     "output_type": "execute_result"
    }
   ],
   "source": [
    "from platform import python_version\n",
    "python_version()"
   ]
  },
  {
   "cell_type": "code",
   "execution_count": 3,
   "metadata": {},
   "outputs": [],
   "source": [
    "plot_dir = 'plots'\n",
    "if not os.path.exists(plot_dir):\n",
    "    os.mkdir(plot_dir)"
   ]
  },
  {
   "cell_type": "markdown",
   "metadata": {},
   "source": [
    "## Computing the DMD"
   ]
  },
  {
   "cell_type": "code",
   "execution_count": 4,
   "metadata": {},
   "outputs": [],
   "source": [
    "# Code from Steve Brunton's book\n",
    "\n",
    "def DMD_SB(X,Xprime,r):\n",
    "    U,Sigma,VT = np.linalg.svd(X,full_matrices=0) # Step 1\n",
    "    Ur = U[:,:r]\n",
    "    Sigmar = np.diag(Sigma[:r])\n",
    "    VTr = VT[:r,:]\n",
    "    Atilde = np.linalg.solve(Sigmar.T,(Ur.T @ Xprime @ VTr.T).T).T # Step 2\n",
    "    Lambda, W = np.linalg.eig(Atilde) # Step 3\n",
    "    Lambda = np.diag(Lambda)\n",
    "    \n",
    "    Phi = Xprime @ np.linalg.solve(Sigmar.T,VTr).T @ W # Step 4\n",
    "    alpha1 = Sigmar @ VTr[:,0]\n",
    "    b = np.linalg.solve(W @ Lambda,alpha1)\n",
    "    return Phi, Lambda, b\n"
   ]
  },
  {
   "cell_type": "code",
   "execution_count": 5,
   "metadata": {},
   "outputs": [],
   "source": [
    "def dmd(x, x_prime, r):\n",
    "    \"\"\"Compute dynamic matrix decomposition.\n",
    "    \"\"\"\n",
    "\n",
    "    # Step 1\n",
    "    u, sigma, vh = np.linalg.svd(x, full_matrices=False)\n",
    "    \n",
    "    u_r = u[:, :r]\n",
    "    sigma_r = np.diag(sigma[:r])\n",
    "    v_r = vh[:r, :]\n",
    "\n",
    "    # Step 2\n",
    "    a_tilde = np.linalg.solve(sigma_r.T, (u_r.conj().T.dot(x_prime).dot(v_r.conj().T).T).T)\n",
    "    # a_tilde2 = u_r.conj().T.dot(x_prime).dot(v_r).dot(np.linalg.inv(sigma_r))\n",
    "    # assert np.array_equal(a_tilde, a_tilde2)\n",
    "    \n",
    "    # Step 3\n",
    "    lam, w = np.linalg.eig(a_tilde) \n",
    "\n",
    "    # Step 4\n",
    "    phi = x_prime.dot(np.linalg.solve(sigma_r.T, v_r).T).dot(w)\n",
    "    alpha1 = sigma_r.dot(v_r[:, 0])    \n",
    "    b = np.linalg.solve(w.dot(np.diag(lam)), alpha1)\n",
    "    \n",
    "    return phi, lam, b"
   ]
  },
  {
   "cell_type": "code",
   "execution_count": 6,
   "metadata": {},
   "outputs": [
    {
     "data": {
      "image/png": "[encoded data removed]",
      "text/plain": [
       "<Figure size 432x288 with 1 Axes>"
      ]
     },
     "metadata": {
      "needs_background": "light"
     },
     "output_type": "display_data"
    }
   ],
   "source": [
    "t = np.linspace(0, np.pi, 101)\n",
    "df = pd.DataFrame(index=t)\n",
    "df[0] = np.sin(t)\n",
    "df[1] = np.sin(t - 1)\n",
    "df[2] = np.sin(t - 2)\n",
    "assert df.shape == (101, 3)\n",
    "df.plot()\n",
    "plt.grid()"
   ]
  },
  {
   "cell_type": "code",
   "execution_count": 7,
   "metadata": {},
   "outputs": [
    {
     "data": {
      "text/plain": [
       "(3, 100)"
      ]
     },
     "execution_count": 7,
     "metadata": {},
     "output_type": "execute_result"
    }
   ],
   "source": [
    "x = df.iloc[:-1].values.T\n",
    "x_prime = df.iloc[1:].values.T\n",
    "assert x.shape == x_prime.shape\n",
    "x.shape"
   ]
  },
  {
   "cell_type": "code",
   "execution_count": 8,
   "metadata": {},
   "outputs": [
    {
     "data": {
      "text/plain": [
       "array([8.89902569e+00, 8.41470985e+00, 2.48779320e-15])"
      ]
     },
     "execution_count": 8,
     "metadata": {},
     "output_type": "execute_result"
    }
   ],
   "source": [
    "# Step 1\n",
    "U, Sigma, VT = np.linalg.svd(x,full_matrices=0)\n",
    "Sigma"
   ]
  },
  {
   "cell_type": "code",
   "execution_count": 9,
   "metadata": {},
   "outputs": [
    {
     "data": {
      "text/plain": [
       "((3, 2), (2, 2), (2, 100))"
      ]
     },
     "execution_count": 9,
     "metadata": {},
     "output_type": "execute_result"
    }
   ],
   "source": [
    "# Truncate\n",
    "r = 2\n",
    "\n",
    "Ur = U[:,:r]\n",
    "Sigmar = np.diag(Sigma[:r])\n",
    "VTr = VT[:r,:]\n",
    "\n",
    "Ur.shape, Sigmar.shape, VTr.shape"
   ]
  },
  {
   "cell_type": "code",
   "execution_count": 10,
   "metadata": {},
   "outputs": [
    {
     "data": {
      "text/plain": [
       "array([[ 0.99950656, -0.03321863],\n",
       "       [ 0.02970128,  0.99950656]])"
      ]
     },
     "execution_count": 10,
     "metadata": {},
     "output_type": "execute_result"
    }
   ],
   "source": [
    "# Step 2 - Compute Atilde\n",
    "Atilde = np.linalg.solve(Sigmar.T,(Ur.T @ x_prime @ VTr.T).T).T\n",
    "Atilde"
   ]
  },
  {
   "cell_type": "code",
   "execution_count": 11,
   "metadata": {},
   "outputs": [
    {
     "data": {
      "text/plain": [
       "array([[0.99950656+0.03141076j, 0.        +0.j        ],\n",
       "       [0.        +0.j        , 0.99950656-0.03141076j]])"
      ]
     },
     "execution_count": 11,
     "metadata": {},
     "output_type": "execute_result"
    }
   ],
   "source": [
    "# Step 3 - Spectral decomposition of Atilde\n",
    "Lambda, W = np.linalg.eig(Atilde)\n",
    "Lambda = np.diag(Lambda)\n",
    "Lambda"
   ]
  },
  {
   "cell_type": "code",
   "execution_count": 12,
   "metadata": {},
   "outputs": [],
   "source": [
    "# Step 4 - Reconstruct DMD modes\n",
    "Phi = x_prime @ np.linalg.solve(Sigmar.T,VTr).T @ W\n",
    "alpha1 = Sigmar @ VTr[:,0]\n",
    "b = np.linalg.solve(W @ Lambda,alpha1)"
   ]
  },
  {
   "cell_type": "code",
   "execution_count": 13,
   "metadata": {},
   "outputs": [
    {
     "data": {
      "text/plain": [
       "array([[-0.29652967-0.49538216j, -0.29652967+0.49538216j],\n",
       "       [-0.57706538-0.01813501j, -0.57706538+0.01813501j],\n",
       "       [-0.32704984+0.47578539j, -0.32704984-0.47578539j]])"
      ]
     },
     "execution_count": 13,
     "metadata": {},
     "output_type": "execute_result"
    }
   ],
   "source": [
    "Phi"
   ]
  },
  {
   "cell_type": "code",
   "execution_count": 14,
   "metadata": {},
   "outputs": [
    {
     "data": {
      "text/plain": [
       "array([1.05900157, 0.64297038])"
      ]
     },
     "execution_count": 14,
     "metadata": {},
     "output_type": "execute_result"
    }
   ],
   "source": [
    "alpha1"
   ]
  },
  {
   "cell_type": "code",
   "execution_count": 15,
   "metadata": {},
   "outputs": [
    {
     "data": {
      "text/plain": [
       "array([0.74307324+0.44479451j, 0.74307324-0.44479451j])"
      ]
     },
     "execution_count": 15,
     "metadata": {},
     "output_type": "execute_result"
    }
   ],
   "source": [
    "b"
   ]
  },
  {
   "cell_type": "code",
   "execution_count": null,
   "metadata": {},
   "outputs": [],
   "source": []
  },
  {
   "cell_type": "code",
   "execution_count": null,
   "metadata": {},
   "outputs": [],
   "source": []
  },
  {
   "cell_type": "code",
   "execution_count": null,
   "metadata": {},
   "outputs": [],
   "source": []
  },
  {
   "cell_type": "code",
   "execution_count": null,
   "metadata": {},
   "outputs": [],
   "source": []
  },
  {
   "cell_type": "code",
   "execution_count": 16,
   "metadata": {},
   "outputs": [],
   "source": [
    "phi, lam, b = dmd(x, x_prime, r=2)"
   ]
  },
  {
   "cell_type": "code",
   "execution_count": 17,
   "metadata": {},
   "outputs": [
    {
     "data": {
      "text/plain": [
       "array([[ 0.50983759-0.28857342j,  0.50983759+0.28857342j],\n",
       "       [ 0.0186642 -0.56158202j,  0.0186642 +0.56158202j],\n",
       "       [-0.48966897-0.3182747j , -0.48966897+0.3182747j ]])"
      ]
     },
     "execution_count": 17,
     "metadata": {},
     "output_type": "execute_result"
    }
   ],
   "source": [
    "phi"
   ]
  },
  {
   "cell_type": "code",
   "execution_count": 18,
   "metadata": {},
   "outputs": [
    {
     "data": {
      "text/plain": [
       "array([0.99950656+0.03141076j, 0.99950656-0.03141076j])"
      ]
     },
     "execution_count": 18,
     "metadata": {},
     "output_type": "execute_result"
    }
   ],
   "source": [
    "lam"
   ]
  },
  {
   "cell_type": "code",
   "execution_count": 19,
   "metadata": {},
   "outputs": [
    {
     "data": {
      "text/plain": [
       "array([0.43090314-0.76273855j, 0.43090314+0.76273855j])"
      ]
     },
     "execution_count": 19,
     "metadata": {},
     "output_type": "execute_result"
    }
   ],
   "source": [
    "b"
   ]
  },
  {
   "cell_type": "code",
   "execution_count": 20,
   "metadata": {},
   "outputs": [],
   "source": [
    "phi, lam, b = DMD_SB(x, x_prime, r=2)"
   ]
  },
  {
   "cell_type": "code",
   "execution_count": 21,
   "metadata": {},
   "outputs": [
    {
     "data": {
      "text/plain": [
       "array([[-0.29652967-0.49538216j, -0.29652967+0.49538216j],\n",
       "       [-0.57706538-0.01813501j, -0.57706538+0.01813501j],\n",
       "       [-0.32704984+0.47578539j, -0.32704984-0.47578539j]])"
      ]
     },
     "execution_count": 21,
     "metadata": {},
     "output_type": "execute_result"
    }
   ],
   "source": [
    "phi"
   ]
  },
  {
   "cell_type": "code",
   "execution_count": 22,
   "metadata": {},
   "outputs": [
    {
     "data": {
      "text/plain": [
       "array([[0.99950656+0.03141076j, 0.        +0.j        ],\n",
       "       [0.        +0.j        , 0.99950656-0.03141076j]])"
      ]
     },
     "execution_count": 22,
     "metadata": {},
     "output_type": "execute_result"
    }
   ],
   "source": [
    "lam"
   ]
  },
  {
   "cell_type": "code",
   "execution_count": 23,
   "metadata": {},
   "outputs": [
    {
     "data": {
      "text/plain": [
       "array([0.74307324+0.44479451j, 0.74307324-0.44479451j])"
      ]
     },
     "execution_count": 23,
     "metadata": {},
     "output_type": "execute_result"
    }
   ],
   "source": [
    "b"
   ]
  },
  {
   "cell_type": "code",
   "execution_count": null,
   "metadata": {},
   "outputs": [],
   "source": []
  },
  {
   "cell_type": "code",
   "execution_count": null,
   "metadata": {},
   "outputs": [],
   "source": []
  }
 ],
 "metadata": {
  "kernelspec": {
   "display_name": "Python [conda env:torch]",
   "language": "python",
   "name": "conda-env-torch-py"
  },
  "language_info": {
   "codemirror_mode": {
    "name": "ipython",
    "version": 3
   },
   "file_extension": ".py",
   "mimetype": "text/x-python",
   "name": "python",
   "nbconvert_exporter": "python",
   "pygments_lexer": "ipython3",
   "version": "3.7.4"
  }
 },
 "nbformat": 4,
 "nbformat_minor": 2
}
