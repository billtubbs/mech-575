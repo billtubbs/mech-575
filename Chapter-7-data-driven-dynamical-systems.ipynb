{
 "cells": [
  {
   "cell_type": "markdown",
   "metadata": {},
   "source": [
    "# Chapter 7: Data-Driven Dynamical Systems"
   ]
  },
  {
   "cell_type": "markdown",
   "metadata": {},
   "source": [
    "Course title:\n",
    "\n",
    "**MECH 575T: Data-driven modeling and control (Self-directed)**\n",
    "\n",
    "Reference text:\n",
    "\n",
    "**Data-Driven Science and Engineering, by Steve Brunton**\n",
    "\n",
    "## Contents\n",
    "\n",
    "1. Computing the DMD"
   ]
  },
  {
   "cell_type": "code",
   "execution_count": 1,
   "metadata": {},
   "outputs": [],
   "source": [
    "import os\n",
    "import numpy as np\n",
    "import pandas as pd\n",
    "import matplotlib.pyplot as plt"
   ]
  },
  {
   "cell_type": "code",
   "execution_count": 2,
   "metadata": {},
   "outputs": [
    {
     "data": {
      "text/plain": [
       "'3.7.5'"
      ]
     },
     "execution_count": 2,
     "metadata": {},
     "output_type": "execute_result"
    }
   ],
   "source": [
    "from platform import python_version\n",
    "python_version()"
   ]
  },
  {
   "cell_type": "code",
   "execution_count": 3,
   "metadata": {},
   "outputs": [],
   "source": [
    "plot_dir = 'plots'\n",
    "if not os.path.exists(plot_dir):\n",
    "    os.mkdir(plot_dir)"
   ]
  },
  {
   "cell_type": "markdown",
   "metadata": {},
   "source": [
    "## Computing the DMD"
   ]
  },
  {
   "cell_type": "code",
   "execution_count": 4,
   "metadata": {},
   "outputs": [],
   "source": [
    "# Code from Steve Brunton's book\n",
    "\n",
    "def dmd_SB(X, Xprime, r):\n",
    "    # Step 1\n",
    "    U, Sigma, VT = np.linalg.svd(X, full_matrices=0)\n",
    "    Ur = U[:, :r]\n",
    "    Sigmar = np.diag(Sigma[:r])\n",
    "    VTr = VT[:r, :]\n",
    "    \n",
    "    # Step 2\n",
    "    Atilde = np.linalg.solve(Sigmar.T, (Ur.T @ Xprime @ VTr.T).T).T\n",
    "    \n",
    "    # Step 3\n",
    "    Lambda, W = np.linalg.eig(Atilde)\n",
    "    Lambda = np.diag(Lambda)\n",
    "    \n",
    "    # Step 4\n",
    "    Phi = Xprime @ np.linalg.solve(Sigmar.T, VTr).T @ W\n",
    "    alpha1 = Sigmar @ VTr[:, 0]\n",
    "    b = np.linalg.solve(W @ Lambda, alpha1)\n",
    "    return Phi, Lambda, b\n"
   ]
  },
  {
   "cell_type": "code",
   "execution_count": 5,
   "metadata": {},
   "outputs": [
    {
     "data": {
      "image/png": "[encoded data removed]",
      "text/plain": [
       "<Figure size 432x288 with 1 Axes>"
      ]
     },
     "metadata": {
      "needs_background": "light"
     },
     "output_type": "display_data"
    }
   ],
   "source": [
    "t = np.linspace(0, np.pi, 101)\n",
    "df = pd.DataFrame(index=pd.Index(t, name='t'))\n",
    "df['$x_1$'] = np.sin(t)\n",
    "df['$x_2$'] = np.sin(t - 1)\n",
    "df['$x_3$'] = np.sin(t - 2)\n",
    "assert df.shape == (101, 3)\n",
    "df.plot()\n",
    "plt.grid()\n",
    "plt.tight_layout()\n",
    "plt.savefig('plots/dmd_example1.pdf')\n",
    "plt.show()"
   ]
  },
  {
   "cell_type": "code",
   "execution_count": 6,
   "metadata": {},
   "outputs": [
    {
     "data": {
      "text/plain": [
       "((3, 100), (3, 100))"
      ]
     },
     "execution_count": 6,
     "metadata": {},
     "output_type": "execute_result"
    }
   ],
   "source": [
    "# Prepare x and x_prime data\n",
    "x = df.iloc[:-1].values.T\n",
    "x_prime = df.iloc[1:].values.T\n",
    "assert x.shape == x_prime.shape\n",
    "x.shape, x_prime.shape"
   ]
  },
  {
   "cell_type": "code",
   "execution_count": 7,
   "metadata": {},
   "outputs": [
    {
     "name": "stdout",
     "output_type": "stream",
     "text": [
      "x\n",
      "[[ 0.     0.031  0.063  0.094  0.125]\n",
      " [-0.841 -0.824 -0.806 -0.787 -0.767]\n",
      " [-0.909 -0.922 -0.934 -0.944 -0.954]]\n",
      "\n",
      "x_prime\n",
      "[[ 0.031  0.063  0.094  0.125  0.156]\n",
      " [-0.824 -0.806 -0.787 -0.767 -0.747]\n",
      " [-0.922 -0.934 -0.944 -0.954 -0.963]]\n"
     ]
    }
   ],
   "source": [
    "print(f\"x\\n{x[:, :5].round(3)}\")\n",
    "print(f\"\\nx_prime\\n{x_prime[:, :5].round(3)}\")"
   ]
  },
  {
   "cell_type": "markdown",
   "metadata": {},
   "source": [
    "### Step 1 - Compute the SVD of $\\mathbf{X}$"
   ]
  },
  {
   "cell_type": "code",
   "execution_count": 8,
   "metadata": {},
   "outputs": [
    {
     "data": {
      "text/plain": [
       "((3, 3), (3,), (100, 3))"
      ]
     },
     "execution_count": 8,
     "metadata": {},
     "output_type": "execute_result"
    }
   ],
   "source": [
    "U, Sigma, VT = np.linalg.svd(x,full_matrices=0)\n",
    "U.shape, Sigma.shape, VT.conj().T.shape"
   ]
  },
  {
   "cell_type": "code",
   "execution_count": 9,
   "metadata": {},
   "outputs": [
    {
     "data": {
      "text/plain": [
       "array([8.899 , 8.4147, 0.    ])"
      ]
     },
     "execution_count": 9,
     "metadata": {},
     "output_type": "execute_result"
    }
   ],
   "source": [
    "Sigma.round(4)"
   ]
  },
  {
   "cell_type": "code",
   "execution_count": 10,
   "metadata": {},
   "outputs": [
    {
     "data": {
      "text/plain": [
       "((3, 2), (2, 2), (2, 100))"
      ]
     },
     "execution_count": 10,
     "metadata": {},
     "output_type": "execute_result"
    }
   ],
   "source": [
    "# Truncate\n",
    "r = 2\n",
    "\n",
    "Ur = U[:,:r]\n",
    "Sigmar = np.diag(Sigma[:r])\n",
    "VTr = VT[:r,:]\n",
    "\n",
    "Ur.shape, Sigmar.shape, VTr.shape"
   ]
  },
  {
   "cell_type": "markdown",
   "metadata": {},
   "source": [
    "### Step 2 - Compute $\\tilde{\\mathbf{A}}$"
   ]
  },
  {
   "cell_type": "code",
   "execution_count": 11,
   "metadata": {},
   "outputs": [
    {
     "data": {
      "text/plain": [
       "array([[ 0.9995, -0.0332],\n",
       "       [ 0.0297,  0.9995]])"
      ]
     },
     "execution_count": 11,
     "metadata": {},
     "output_type": "execute_result"
    }
   ],
   "source": [
    "Atilde = np.linalg.solve(Sigmar.T,(Ur.T @ x_prime @ VTr.T).T).T\n",
    "Atilde.round(4)"
   ]
  },
  {
   "cell_type": "code",
   "execution_count": 12,
   "metadata": {},
   "outputs": [
    {
     "data": {
      "text/plain": [
       "array([ 0.30901699, -0.63332387, -0.99338969])"
      ]
     },
     "execution_count": 12,
     "metadata": {},
     "output_type": "execute_result"
    }
   ],
   "source": [
    "# Choose a snapshot\n",
    "i = 10\n",
    "x[:, i]"
   ]
  },
  {
   "cell_type": "code",
   "execution_count": 13,
   "metadata": {},
   "outputs": [
    {
     "data": {
      "text/plain": [
       "array([ 0.32990267, -0.62383316])"
      ]
     },
     "execution_count": 13,
     "metadata": {},
     "output_type": "execute_result"
    }
   ],
   "source": [
    "# Reduced state estimate\n",
    "x_tilde = Atilde.dot(x[:r, i])\n",
    "x_tilde"
   ]
  },
  {
   "cell_type": "code",
   "execution_count": 14,
   "metadata": {},
   "outputs": [
    {
     "data": {
      "text/plain": [
       "array([-0.5827499 , -0.26213703,  0.29948342])"
      ]
     },
     "execution_count": 14,
     "metadata": {},
     "output_type": "execute_result"
    }
   ],
   "source": [
    "Ur.dot(x_tilde)"
   ]
  },
  {
   "cell_type": "markdown",
   "metadata": {},
   "source": [
    "### Step 3 - Spectral decomposition of $\\tilde{\\mathbf{A}}$"
   ]
  },
  {
   "cell_type": "code",
   "execution_count": 15,
   "metadata": {},
   "outputs": [
    {
     "data": {
      "text/plain": [
       "array([[0.9995+0.0314j, 0.    +0.j    ],\n",
       "       [0.    +0.j    , 0.9995-0.0314j]])"
      ]
     },
     "execution_count": 15,
     "metadata": {},
     "output_type": "execute_result"
    }
   ],
   "source": [
    "Lambda, W = np.linalg.eig(Atilde)\n",
    "Lambda = np.diag(Lambda)\n",
    "Lambda.round(4)"
   ]
  },
  {
   "cell_type": "markdown",
   "metadata": {},
   "source": [
    "### Step 4 - Reconstruct DMD modes"
   ]
  },
  {
   "cell_type": "code",
   "execution_count": 16,
   "metadata": {},
   "outputs": [],
   "source": [
    "Phi = x_prime @ np.linalg.solve(Sigmar.T,VTr).T @ W\n",
    "alpha1 = Sigmar @ VTr[:,0]\n",
    "b = np.linalg.solve(W @ Lambda,alpha1)"
   ]
  },
  {
   "cell_type": "code",
   "execution_count": 17,
   "metadata": {},
   "outputs": [
    {
     "data": {
      "text/plain": [
       "array([[-0.2965-0.4954j, -0.2965+0.4954j],\n",
       "       [-0.5771-0.0181j, -0.5771+0.0181j],\n",
       "       [-0.327 +0.4758j, -0.327 -0.4758j]])"
      ]
     },
     "execution_count": 17,
     "metadata": {},
     "output_type": "execute_result"
    }
   ],
   "source": [
    "Phi.round(4)"
   ]
  },
  {
   "cell_type": "code",
   "execution_count": 18,
   "metadata": {},
   "outputs": [
    {
     "data": {
      "text/plain": [
       "array([1.059, 0.643])"
      ]
     },
     "execution_count": 18,
     "metadata": {},
     "output_type": "execute_result"
    }
   ],
   "source": [
    "alpha1.round(4)"
   ]
  },
  {
   "cell_type": "code",
   "execution_count": 19,
   "metadata": {},
   "outputs": [
    {
     "data": {
      "text/plain": [
       "array([0.7431+0.4448j, 0.7431-0.4448j])"
      ]
     },
     "execution_count": 19,
     "metadata": {},
     "output_type": "execute_result"
    }
   ],
   "source": [
    "b.round(4)"
   ]
  },
  {
   "cell_type": "code",
   "execution_count": null,
   "metadata": {},
   "outputs": [],
   "source": []
  },
  {
   "cell_type": "code",
   "execution_count": null,
   "metadata": {},
   "outputs": [],
   "source": []
  },
  {
   "cell_type": "code",
   "execution_count": 20,
   "metadata": {},
   "outputs": [],
   "source": [
    "# Check results with Steve Brunton's code for DMD\n",
    "# dmd_SB returns Phi, Lambda, b\n",
    "result_check = dmd_SB(x, x_prime, r)\n",
    "assert np.array_equal(Phi, result_check[0])\n",
    "assert np.array_equal(Lambda, result_check[1])\n",
    "assert np.array_equal(b, result_check[2])"
   ]
  },
  {
   "cell_type": "code",
   "execution_count": null,
   "metadata": {},
   "outputs": [],
   "source": []
  },
  {
   "cell_type": "markdown",
   "metadata": {},
   "source": [
    "## My code"
   ]
  },
  {
   "cell_type": "code",
   "execution_count": 21,
   "metadata": {},
   "outputs": [],
   "source": [
    "def dmd_bt(x, x_prime, r):\n",
    "    \"\"\"Compute dynamic matrix decomposition.\n",
    "    \"\"\"\n",
    "\n",
    "    # Step 1\n",
    "    u, sigma, vh = np.linalg.svd(x, full_matrices=False)\n",
    "    \n",
    "    u_r = u[:, :r]\n",
    "    sigma_r = np.diag(sigma[:r])\n",
    "    v_r = vh[:r, :]\n",
    "\n",
    "    # Step 2\n",
    "    a_tilde = np.linalg.solve(sigma_r.T, (u_r.conj().T.dot(x_prime).dot(v_r.conj().T).T).T)\n",
    "    # a_tilde2 = u_r.conj().T.dot(x_prime).dot(v_r).dot(np.linalg.inv(sigma_r))\n",
    "    # assert np.array_equal(a_tilde, a_tilde2)\n",
    "    \n",
    "    # Step 3\n",
    "    lam, w = np.linalg.eig(a_tilde) \n",
    "\n",
    "    # Step 4\n",
    "    phi = x_prime.dot(np.linalg.solve(sigma_r.T, v_r).T).dot(w)\n",
    "    alpha1 = sigma_r.dot(v_r[:, 0])    \n",
    "    b = np.linalg.solve(w.dot(np.diag(lam)), alpha1)\n",
    "    \n",
    "    return phi, lam, b"
   ]
  },
  {
   "cell_type": "code",
   "execution_count": 22,
   "metadata": {},
   "outputs": [
    {
     "ename": "NameError",
     "evalue": "name 'dmd' is not defined",
     "output_type": "error",
     "traceback": [
      "\u001b[0;31m---------------------------------------------------------------------------\u001b[0m",
      "\u001b[0;31mNameError\u001b[0m                                 Traceback (most recent call last)",
      "\u001b[0;32m<ipython-input-22-fc8e45c02804>\u001b[0m in \u001b[0;36m<module>\u001b[0;34m\u001b[0m\n\u001b[0;32m----> 1\u001b[0;31m \u001b[0mphi\u001b[0m\u001b[0;34m,\u001b[0m \u001b[0mlam\u001b[0m\u001b[0;34m,\u001b[0m \u001b[0mb\u001b[0m \u001b[0;34m=\u001b[0m \u001b[0mdmd\u001b[0m\u001b[0;34m(\u001b[0m\u001b[0mx\u001b[0m\u001b[0;34m,\u001b[0m \u001b[0mx_prime\u001b[0m\u001b[0;34m,\u001b[0m \u001b[0mr\u001b[0m\u001b[0;34m=\u001b[0m\u001b[0;36m2\u001b[0m\u001b[0;34m)\u001b[0m\u001b[0;34m\u001b[0m\u001b[0;34m\u001b[0m\u001b[0m\n\u001b[0m",
      "\u001b[0;31mNameError\u001b[0m: name 'dmd' is not defined"
     ]
    }
   ],
   "source": [
    "phi, lam, b = dmd(x, x_prime, r=2)"
   ]
  },
  {
   "cell_type": "code",
   "execution_count": null,
   "metadata": {},
   "outputs": [],
   "source": [
    "phi"
   ]
  },
  {
   "cell_type": "code",
   "execution_count": null,
   "metadata": {},
   "outputs": [],
   "source": [
    "lam"
   ]
  },
  {
   "cell_type": "code",
   "execution_count": null,
   "metadata": {},
   "outputs": [],
   "source": [
    "b"
   ]
  },
  {
   "cell_type": "code",
   "execution_count": null,
   "metadata": {},
   "outputs": [],
   "source": [
    "phi, lam, b = dmd_SB(x, x_prime, r=2)"
   ]
  },
  {
   "cell_type": "code",
   "execution_count": null,
   "metadata": {},
   "outputs": [],
   "source": [
    "phi"
   ]
  },
  {
   "cell_type": "code",
   "execution_count": null,
   "metadata": {},
   "outputs": [],
   "source": [
    "lam"
   ]
  },
  {
   "cell_type": "code",
   "execution_count": null,
   "metadata": {},
   "outputs": [],
   "source": [
    "b"
   ]
  },
  {
   "cell_type": "code",
   "execution_count": null,
   "metadata": {},
   "outputs": [],
   "source": []
  },
  {
   "cell_type": "code",
   "execution_count": null,
   "metadata": {},
   "outputs": [],
   "source": []
  }
 ],
 "metadata": {
  "kernelspec": {
   "display_name": "Python [conda env:torch]",
   "language": "python",
   "name": "conda-env-torch-py"
  },
  "language_info": {
   "codemirror_mode": {
    "name": "ipython",
    "version": 3
   },
   "file_extension": ".py",
   "mimetype": "text/x-python",
   "name": "python",
   "nbconvert_exporter": "python",
   "pygments_lexer": "ipython3",
   "version": "3.7.5"
  }
 },
 "nbformat": 4,
 "nbformat_minor": 2
}
