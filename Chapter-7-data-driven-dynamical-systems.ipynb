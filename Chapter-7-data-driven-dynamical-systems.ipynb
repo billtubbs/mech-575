{
 "cells": [
  {
   "cell_type": "markdown",
   "metadata": {},
   "source": [
    "# Chapter 7: Data-Driven Dynamical Systems"
   ]
  },
  {
   "cell_type": "markdown",
   "metadata": {},
   "source": [
    "Course title:\n",
    "\n",
    "**MECH 575T: Data-driven modeling and control (Self-directed)**\n",
    "\n",
    "Reference text:\n",
    "\n",
    "**Data-Driven Science and Engineering, by Steve Brunton**\n",
    "\n",
    "## Contents\n",
    "\n",
    "1. Computing the Dynamic Matrix Decomposition (DMD)"
   ]
  },
  {
   "cell_type": "code",
   "execution_count": 1,
   "metadata": {},
   "outputs": [],
   "source": [
    "import os\n",
    "import numpy as np\n",
    "import pandas as pd\n",
    "import matplotlib.pyplot as plt"
   ]
  },
  {
   "cell_type": "code",
   "execution_count": 2,
   "metadata": {},
   "outputs": [
    {
     "data": {
      "text/plain": [
       "'3.6.7'"
      ]
     },
     "execution_count": 2,
     "metadata": {},
     "output_type": "execute_result"
    }
   ],
   "source": [
    "from platform import python_version\n",
    "python_version()"
   ]
  },
  {
   "cell_type": "code",
   "execution_count": 3,
   "metadata": {},
   "outputs": [],
   "source": [
    "plot_dir = 'plots'\n",
    "if not os.path.exists(plot_dir):\n",
    "    os.mkdir(plot_dir)"
   ]
  },
  {
   "cell_type": "markdown",
   "metadata": {},
   "source": [
    "## Computing the DMD"
   ]
  },
  {
   "cell_type": "code",
   "execution_count": 4,
   "metadata": {},
   "outputs": [],
   "source": [
    "# Code from Steve Brunton's book\n",
    "\n",
    "def dmd_SB(X, Xprime, r):\n",
    "    \n",
    "    # Step 1\n",
    "    U, Sigma, VT = np.linalg.svd(X, full_matrices=0)\n",
    "    Ur = U[:, :r]\n",
    "    Sigmar = np.diag(Sigma[:r])\n",
    "    VTr = VT[:r, :]\n",
    "    \n",
    "    # Step 2\n",
    "    Atilde = np.linalg.solve(Sigmar.T, (Ur.T @ Xprime @ VTr.T).T).T\n",
    "    \n",
    "    # Step 3\n",
    "    Lambda, W = np.linalg.eig(Atilde)\n",
    "    Lambda = np.diag(Lambda)\n",
    "    \n",
    "    # Step 4\n",
    "    Phi = Xprime @ np.linalg.solve(Sigmar.T, VTr).T @ W\n",
    "    alpha1 = Sigmar @ VTr[:, 0]\n",
    "    b = np.linalg.solve(W @ Lambda, alpha1)\n",
    "    \n",
    "    return Phi, Lambda, b\n"
   ]
  },
  {
   "cell_type": "code",
   "execution_count": 5,
   "metadata": {},
   "outputs": [
    {
     "data": {
      "text/plain": [
       "array([ 0.        , -0.84147098, -0.90929743])"
      ]
     },
     "execution_count": 5,
     "metadata": {},
     "output_type": "execute_result"
    }
   ],
   "source": [
    "def add_noise(x, sigma):\n",
    "    \"\"\"Adds Gaussian noise to array x.\n",
    "    \"\"\"\n",
    "    return x + sigma * np.random.randn(*x.shape)\n",
    "\n",
    "\n",
    "def system(t, noise=False, sigma=0.01):\n",
    "    \"\"\"Simulates a dynamic system involving sin waves.\n",
    "    \"\"\"\n",
    "    x = np.stack([\n",
    "        np.sin(t), \n",
    "        np.sin(t - 1), \n",
    "        np.sin(t - 2)\n",
    "    ])\n",
    "    if noise:\n",
    "        return add_noise(x, sigma)\n",
    "    else:\n",
    "        return x\n",
    "\n",
    "system(0)"
   ]
  },
  {
   "cell_type": "code",
   "execution_count": 6,
   "metadata": {},
   "outputs": [
    {
     "data": {
      "text/html": [
       "<div>\n",
       "<style scoped>\n",
       "    .dataframe tbody tr th:only-of-type {\n",
       "        vertical-align: middle;\n",
       "    }\n",
       "\n",
       "    .dataframe tbody tr th {\n",
       "        vertical-align: top;\n",
       "    }\n",
       "\n",
       "    .dataframe thead th {\n",
       "        text-align: right;\n",
       "    }\n",
       "</style>\n",
       "<table border=\"1\" class=\"dataframe\">\n",
       "  <thead>\n",
       "    <tr style=\"text-align: right;\">\n",
       "      <th></th>\n",
       "      <th>$x_1$</th>\n",
       "      <th>$x_2$</th>\n",
       "      <th>$x_3$</th>\n",
       "    </tr>\n",
       "    <tr>\n",
       "      <th>t</th>\n",
       "      <th></th>\n",
       "      <th></th>\n",
       "      <th></th>\n",
       "    </tr>\n",
       "  </thead>\n",
       "  <tbody>\n",
       "    <tr>\n",
       "      <th>0.000000</th>\n",
       "      <td>0.000000</td>\n",
       "      <td>-0.841471</td>\n",
       "      <td>-0.909297</td>\n",
       "    </tr>\n",
       "    <tr>\n",
       "      <th>0.031574</th>\n",
       "      <td>0.031569</td>\n",
       "      <td>-0.823995</td>\n",
       "      <td>-0.921981</td>\n",
       "    </tr>\n",
       "    <tr>\n",
       "      <th>0.063148</th>\n",
       "      <td>0.063106</td>\n",
       "      <td>-0.805698</td>\n",
       "      <td>-0.933746</td>\n",
       "    </tr>\n",
       "    <tr>\n",
       "      <th>0.094721</th>\n",
       "      <td>0.094580</td>\n",
       "      <td>-0.786597</td>\n",
       "      <td>-0.944580</td>\n",
       "    </tr>\n",
       "    <tr>\n",
       "      <th>0.126295</th>\n",
       "      <td>0.125960</td>\n",
       "      <td>-0.766713</td>\n",
       "      <td>-0.954473</td>\n",
       "    </tr>\n",
       "  </tbody>\n",
       "</table>\n",
       "</div>"
      ],
      "text/plain": [
       "             $x_1$     $x_2$     $x_3$\n",
       "t                                     \n",
       "0.000000  0.000000 -0.841471 -0.909297\n",
       "0.031574  0.031569 -0.823995 -0.921981\n",
       "0.063148  0.063106 -0.805698 -0.933746\n",
       "0.094721  0.094580 -0.786597 -0.944580\n",
       "0.126295  0.125960 -0.766713 -0.954473"
      ]
     },
     "execution_count": 6,
     "metadata": {},
     "output_type": "execute_result"
    }
   ],
   "source": [
    "# Prepare data sets\n",
    "t = np.linspace(0, 2*np.pi, 200)\n",
    "\n",
    "# With noise\n",
    "df = pd.DataFrame(\n",
    "    data=system(t).T, \n",
    "    index=pd.Index(t, name='t'),\n",
    "    columns=['$x_1$', '$x_2$', '$x_3$']\n",
    ")\n",
    "\n",
    "# Without noise\n",
    "df_noisy = pd.DataFrame(\n",
    "    data=system(t, noise=True).T, \n",
    "    index=pd.Index(t, name='t'),\n",
    "    columns=['$x_1$', '$x_2$', '$x_3$']\n",
    ")\n",
    "\n",
    "assert df.shape == (200, 3)\n",
    "assert df_noisy.shape == (200, 3)\n",
    "df.head()"
   ]
  },
  {
   "cell_type": "code",
   "execution_count": 7,
   "metadata": {},
   "outputs": [
    {
     "data": {
      "text/plain": [
       "((3, 25), (3, 25))"
      ]
     },
     "execution_count": 7,
     "metadata": {},
     "output_type": "execute_result"
    }
   ],
   "source": [
    "# Prepare samples of data for DMD\n",
    "\n",
    "# Only use portion of data\n",
    "nd = 25\n",
    "x = df.iloc[:nd].values.T\n",
    "x_prime = df.iloc[1:nd+1].values.T\n",
    "\n",
    "assert x.shape == x_prime.shape\n",
    "x.shape, x_prime.shape"
   ]
  },
  {
   "cell_type": "code",
   "execution_count": 8,
   "metadata": {},
   "outputs": [
    {
     "data": {
      "image/png": "[encoded data removed]",
      "text/plain": [
       "<Figure size 432x288 with 1 Axes>"
      ]
     },
     "metadata": {
      "needs_background": "light"
     },
     "output_type": "display_data"
    }
   ],
   "source": [
    "ax = pd.DataFrame(x.T, index=pd.Index(t[:nd], name='t')).plot()\n",
    "plt.grid()\n",
    "plt.tight_layout()\n",
    "plt.savefig('plots/dmd_example1.pdf')\n",
    "plt.show()"
   ]
  },
  {
   "cell_type": "code",
   "execution_count": 9,
   "metadata": {},
   "outputs": [
    {
     "name": "stdout",
     "output_type": "stream",
     "text": [
      "x\n",
      "[[ 0.     0.032  0.063  0.095  0.126]\n",
      " [-0.841 -0.824 -0.806 -0.787 -0.767]\n",
      " [-0.909 -0.922 -0.934 -0.945 -0.954]]\n",
      "\n",
      "x_prime\n",
      "[[ 0.032  0.063  0.095  0.126  0.157]\n",
      " [-0.824 -0.806 -0.787 -0.767 -0.746]\n",
      " [-0.922 -0.934 -0.945 -0.954 -0.963]]\n"
     ]
    }
   ],
   "source": [
    "print(f\"x\\n{x[:, :5].round(3)}\")\n",
    "print(f\"\\nx_prime\\n{x_prime[:, :5].round(3)}\")"
   ]
  },
  {
   "cell_type": "markdown",
   "metadata": {},
   "source": [
    "### Step 1 - Compute the SVD of $\\mathbf{X}$"
   ]
  },
  {
   "cell_type": "code",
   "execution_count": 10,
   "metadata": {},
   "outputs": [
    {
     "data": {
      "text/plain": [
       "((3, 3), (3, 3), (25, 3))"
      ]
     },
     "execution_count": 10,
     "metadata": {},
     "output_type": "execute_result"
    }
   ],
   "source": [
    "U, Sigma, VT = np.linalg.svd(x,full_matrices=0)\n",
    "U.shape, np.diag(Sigma).shape, VT.conj().T.shape"
   ]
  },
  {
   "cell_type": "code",
   "execution_count": 11,
   "metadata": {},
   "outputs": [
    {
     "data": {
      "text/plain": [
       "array([5.9143, 1.383 , 0.    ])"
      ]
     },
     "execution_count": 11,
     "metadata": {},
     "output_type": "execute_result"
    }
   ],
   "source": [
    "Sigma.round(4)"
   ]
  },
  {
   "cell_type": "code",
   "execution_count": 12,
   "metadata": {},
   "outputs": [
    {
     "data": {
      "text/plain": [
       "((3, 2), (2, 2), (25, 2))"
      ]
     },
     "execution_count": 12,
     "metadata": {},
     "output_type": "execute_result"
    }
   ],
   "source": [
    "# Truncate\n",
    "r = 2\n",
    "\n",
    "Ur = U[:,:r]\n",
    "Sigmar = np.diag(Sigma[:r])\n",
    "VTr = VT[:r,:]\n",
    "\n",
    "Ur.shape, Sigmar.shape, VTr.conj().T.shape"
   ]
  },
  {
   "cell_type": "code",
   "execution_count": 13,
   "metadata": {},
   "outputs": [
    {
     "data": {
      "text/plain": [
       "array([[-0.3024, -0.77  ],\n",
       "       [ 0.4814, -0.6321],\n",
       "       [ 0.8227,  0.0869]])"
      ]
     },
     "execution_count": 13,
     "metadata": {},
     "output_type": "execute_result"
    }
   ],
   "source": [
    "Ur.round(4)"
   ]
  },
  {
   "cell_type": "markdown",
   "metadata": {},
   "source": [
    "### Step 2 - Compute $\\tilde{\\mathbf{A}}$"
   ]
  },
  {
   "cell_type": "code",
   "execution_count": 14,
   "metadata": {},
   "outputs": [
    {
     "data": {
      "text/plain": [
       "array([[ 0.9978, -0.0311],\n",
       "       [ 0.0321,  1.0012]])"
      ]
     },
     "execution_count": 14,
     "metadata": {},
     "output_type": "execute_result"
    }
   ],
   "source": [
    "Atilde = np.linalg.solve(Sigmar.T, (Ur.T @ x_prime @ VTr.T).T).T\n",
    "Atilde.round(4)"
   ]
  },
  {
   "cell_type": "code",
   "execution_count": 15,
   "metadata": {},
   "outputs": [
    {
     "data": {
      "text/plain": [
       "array([[ 0.        ],\n",
       "       [-0.84147098],\n",
       "       [-0.90929743]])"
      ]
     },
     "execution_count": 15,
     "metadata": {},
     "output_type": "execute_result"
    }
   ],
   "source": [
    "# Choose a snapshot\n",
    "i = 0\n",
    "x[:, i].reshape(-1,1)"
   ]
  },
  {
   "cell_type": "code",
   "execution_count": 16,
   "metadata": {},
   "outputs": [
    {
     "data": {
      "text/plain": [
       "array([[-1.1531561 ],\n",
       "       [ 0.45290864]])"
      ]
     },
     "execution_count": 16,
     "metadata": {},
     "output_type": "execute_result"
    }
   ],
   "source": [
    "# Reduced state estimate\n",
    "x_tilde = Ur.conj().T.dot(x[:, i].reshape(-1,1))\n",
    "x_tilde"
   ]
  },
  {
   "cell_type": "code",
   "execution_count": 17,
   "metadata": {},
   "outputs": [
    {
     "data": {
      "text/plain": [
       "array([[-1.16472374],\n",
       "       [ 0.41645244]])"
      ]
     },
     "execution_count": 17,
     "metadata": {},
     "output_type": "execute_result"
    }
   ],
   "source": [
    "x_tilde_prime = Atilde.dot(x_tilde)\n",
    "x_tilde_prime"
   ]
  },
  {
   "cell_type": "code",
   "execution_count": 18,
   "metadata": {},
   "outputs": [
    {
     "data": {
      "text/plain": [
       "array([[ 0.03156855],\n",
       "       [-0.82399503],\n",
       "       [-0.92198138]])"
      ]
     },
     "execution_count": 18,
     "metadata": {},
     "output_type": "execute_result"
    }
   ],
   "source": [
    "# Next snapshot prediction\n",
    "Ur.dot(x_tilde_prime)"
   ]
  },
  {
   "cell_type": "code",
   "execution_count": 19,
   "metadata": {},
   "outputs": [
    {
     "data": {
      "text/plain": [
       "array([[ 0.03156855],\n",
       "       [-0.82399503],\n",
       "       [-0.92198138]])"
      ]
     },
     "execution_count": 19,
     "metadata": {},
     "output_type": "execute_result"
    }
   ],
   "source": [
    "# Next snapshot actual data\n",
    "x_prime[:, i].reshape(-1,1)"
   ]
  },
  {
   "cell_type": "markdown",
   "metadata": {},
   "source": [
    "### Step 3 - Spectral decomposition of $\\tilde{\\mathbf{A}}$"
   ]
  },
  {
   "cell_type": "code",
   "execution_count": 20,
   "metadata": {},
   "outputs": [
    {
     "data": {
      "text/plain": [
       "array([[0.9995+0.0316j, 0.    +0.j    ],\n",
       "       [0.    +0.j    , 0.9995-0.0316j]])"
      ]
     },
     "execution_count": 20,
     "metadata": {},
     "output_type": "execute_result"
    }
   ],
   "source": [
    "Lambda, W = np.linalg.eig(Atilde)\n",
    "Lambda = np.diag(Lambda)\n",
    "Lambda.round(4)"
   ]
  },
  {
   "cell_type": "markdown",
   "metadata": {},
   "source": [
    "### Step 4 - Reconstruct DMD modes"
   ]
  },
  {
   "cell_type": "code",
   "execution_count": 21,
   "metadata": {},
   "outputs": [],
   "source": [
    "Phi = x_prime @ np.linalg.solve(Sigmar.T,VTr).T @ W\n",
    "alpha1 = Sigmar @ VTr[:,0]\n",
    "b = np.linalg.solve(W @ Lambda, alpha1)"
   ]
  },
  {
   "cell_type": "code",
   "execution_count": 22,
   "metadata": {},
   "outputs": [
    {
     "data": {
      "text/plain": [
       "array([[-0.5301-0.2288j, -0.5301+0.2288j],\n",
       "       [-0.4789+0.3224j, -0.4789-0.3224j],\n",
       "       [ 0.0126+0.5772j,  0.0126-0.5772j]])"
      ]
     },
     "execution_count": 22,
     "metadata": {},
     "output_type": "execute_result"
    }
   ],
   "source": [
    "Phi.round(4)"
   ]
  },
  {
   "cell_type": "code",
   "execution_count": 23,
   "metadata": {},
   "outputs": [
    {
     "data": {
      "text/plain": [
       "array([-1.1532,  0.4529])"
      ]
     },
     "execution_count": 23,
     "metadata": {},
     "output_type": "execute_result"
    }
   ],
   "source": [
    "alpha1.round(4)"
   ]
  },
  {
   "cell_type": "code",
   "execution_count": 24,
   "metadata": {},
   "outputs": [
    {
     "data": {
      "text/plain": [
       "array([0.3432+0.7951j, 0.3432-0.7951j])"
      ]
     },
     "execution_count": 24,
     "metadata": {},
     "output_type": "execute_result"
    }
   ],
   "source": [
    "b.round(4)"
   ]
  },
  {
   "cell_type": "code",
   "execution_count": 25,
   "metadata": {},
   "outputs": [],
   "source": [
    "# Check results with Steve Brunton's code for DMD\n",
    "# dmd_SB returns Phi, Lambda, b\n",
    "result_check = dmd_SB(x, x_prime, r)\n",
    "assert np.array_equal(Phi, result_check[0])\n",
    "assert np.array_equal(Lambda, result_check[1])\n",
    "assert np.array_equal(b, result_check[2])"
   ]
  },
  {
   "cell_type": "markdown",
   "metadata": {},
   "source": [
    "## DMD Expansion"
   ]
  },
  {
   "cell_type": "code",
   "execution_count": 26,
   "metadata": {},
   "outputs": [],
   "source": [
    "# Predict future snapshots (beyond data)\n",
    "\n",
    "def predict(n, Phi, Lambda, b):\n",
    "    temp = Phi\n",
    "    n = 200\n",
    "    x = np.zeros((3, n))\n",
    "    for k in range(n):\n",
    "        x[:, k] = temp.dot(b).real\n",
    "        temp = temp.dot(Lambda)\n",
    "    return x"
   ]
  },
  {
   "cell_type": "code",
   "execution_count": 27,
   "metadata": {},
   "outputs": [
    {
     "data": {
      "image/png": "[encoded data removed]",
      "text/plain": [
       "<Figure size 432x288 with 1 Axes>"
      ]
     },
     "metadata": {
      "needs_background": "light"
     },
     "output_type": "display_data"
    }
   ],
   "source": [
    "# DMD predictions without noise\n",
    "\n",
    "nd = 25\n",
    "x = df.iloc[:nd].values.T\n",
    "x_prime = df.iloc[1:nd+1].values.T\n",
    "assert x.shape == x_prime.shape\n",
    "\n",
    "# Compute DMD\n",
    "Phi, Lambda, b = dmd_SB(x, x_prime, r)\n",
    "x_pred = predict(200, Phi, Lambda, b)\n",
    "\n",
    "data_df = pd.DataFrame(x.T, index=df.index[:nd],\n",
    "                       columns=df.columns)\n",
    "pred_df = pd.DataFrame(x_pred.T, index=df.index,\n",
    "                       columns=[r'$\\hat{x}_%d$' % (i+1) for i in range(3)])\n",
    "\n",
    "prop_cycle = plt.rcParams['axes.prop_cycle']\n",
    "colors = prop_cycle.by_key()['color']\n",
    "ax = data_df.plot(label='model', style='.', color=colors)\n",
    "pred_df.plot(ax=ax, label='model', style='-')\n",
    "plt.title('Predictions from data using DMD')\n",
    "plt.grid()\n",
    "plt.tight_layout()\n",
    "plt.savefig('plots/dmd_example.pdf')\n",
    "plt.show()"
   ]
  },
  {
   "cell_type": "code",
   "execution_count": 28,
   "metadata": {},
   "outputs": [
    {
     "data": {
      "image/png": "[encoded data removed]",
      "text/plain": [
       "<Figure size 432x288 with 1 Axes>"
      ]
     },
     "metadata": {
      "needs_background": "light"
     },
     "output_type": "display_data"
    }
   ],
   "source": [
    "# DMD predictions with noise\n",
    "\n",
    "nd = 25\n",
    "x = df_noisy.iloc[:nd].values.T\n",
    "x_prime = df_noisy.iloc[1:nd+1].values.T\n",
    "assert x.shape == x_prime.shape\n",
    "\n",
    "# Compute DMD\n",
    "Phi, Lambda, b = dmd_SB(x, x_prime, r)\n",
    "x_pred = predict(200, Phi, Lambda, b)\n",
    "\n",
    "data_df = pd.DataFrame(x.T, index=df.index[:nd],\n",
    "                       columns=df.columns)\n",
    "pred_df = pd.DataFrame(x_pred.T, index=df.index,\n",
    "                       columns=[r'$\\hat{x}_%d$' % (i+1) for i in range(3)])\n",
    "\n",
    "prop_cycle = plt.rcParams['axes.prop_cycle']\n",
    "colors = prop_cycle.by_key()['color']\n",
    "ax = data_df.plot(label='model', style='.', color=colors)\n",
    "pred_df.plot(ax=ax, label='model', style='-')\n",
    "plt.title('Predictions from data using DMD - Noisy')\n",
    "plt.grid()\n",
    "plt.tight_layout()\n",
    "plt.savefig('plots/dmd_example_noisy.pdf')\n",
    "plt.show()"
   ]
  },
  {
   "cell_type": "code",
   "execution_count": null,
   "metadata": {},
   "outputs": [],
   "source": []
  },
  {
   "cell_type": "code",
   "execution_count": null,
   "metadata": {},
   "outputs": [],
   "source": []
  },
  {
   "cell_type": "code",
   "execution_count": null,
   "metadata": {},
   "outputs": [],
   "source": []
  },
  {
   "cell_type": "markdown",
   "metadata": {},
   "source": [
    "## My code"
   ]
  },
  {
   "cell_type": "code",
   "execution_count": 29,
   "metadata": {},
   "outputs": [],
   "source": [
    "def dmd_BT(x, x_prime, r):\n",
    "    \"\"\"Compute dynamic matrix decomposition.\n",
    "    \"\"\"\n",
    "\n",
    "    # Step 1\n",
    "    u, sigma, vh = np.linalg.svd(x, full_matrices=False)\n",
    "    \n",
    "    u_r = u[:, :r]\n",
    "    sigma_r = np.diag(sigma[:r])\n",
    "    v_r = vh[:r, :]\n",
    "\n",
    "    # Step 2\n",
    "    a_tilde = np.linalg.solve(sigma_r.T, (u_r.conj().T.dot(x_prime).dot(v_r.conj().T).T).T)\n",
    "    # a_tilde2 = u_r.conj().T.dot(x_prime).dot(v_r).dot(np.linalg.inv(sigma_r))\n",
    "    # assert np.array_equal(a_tilde, a_tilde2)\n",
    "    \n",
    "    # Step 3\n",
    "    lam, w = np.linalg.eig(a_tilde) \n",
    "\n",
    "    # Step 4\n",
    "    phi = x_prime.dot(np.linalg.solve(sigma_r.T, v_r).T).dot(w)\n",
    "    alpha1 = sigma_r.dot(v_r[:, 0])    \n",
    "    b = np.linalg.solve(w.dot(np.diag(lam)), alpha1)\n",
    "    \n",
    "    return phi, lam, b"
   ]
  },
  {
   "cell_type": "code",
   "execution_count": 30,
   "metadata": {},
   "outputs": [],
   "source": [
    "phi, lam, b = dmd_BT(x, x_prime, r=2)"
   ]
  },
  {
   "cell_type": "code",
   "execution_count": 31,
   "metadata": {},
   "outputs": [
    {
     "data": {
      "text/plain": [
       "array([[-0.73125716-0.0799108j , -0.73125716+0.0799108j ],\n",
       "       [-0.64304113+0.11406341j, -0.64304113-0.11406341j],\n",
       "       [ 0.03581456+0.20320031j,  0.03581456-0.20320031j]])"
      ]
     },
     "execution_count": 31,
     "metadata": {},
     "output_type": "execute_result"
    }
   ],
   "source": [
    "phi"
   ]
  },
  {
   "cell_type": "code",
   "execution_count": 32,
   "metadata": {},
   "outputs": [
    {
     "data": {
      "text/plain": [
       "array([1.0011904+0.03456683j, 1.0011904-0.03456683j])"
      ]
     },
     "execution_count": 32,
     "metadata": {},
     "output_type": "execute_result"
    }
   ],
   "source": [
    "lam"
   ]
  },
  {
   "cell_type": "code",
   "execution_count": 33,
   "metadata": {},
   "outputs": [
    {
     "data": {
      "text/plain": [
       "array([0.30341012+2.27596862j, 0.30341012-2.27596862j])"
      ]
     },
     "execution_count": 33,
     "metadata": {},
     "output_type": "execute_result"
    }
   ],
   "source": [
    "b"
   ]
  },
  {
   "cell_type": "code",
   "execution_count": 34,
   "metadata": {},
   "outputs": [],
   "source": [
    "phi, lam, b = dmd_SB(x, x_prime, r=2)"
   ]
  },
  {
   "cell_type": "code",
   "execution_count": 35,
   "metadata": {},
   "outputs": [
    {
     "data": {
      "text/plain": [
       "array([[-0.18902711+0.50994788j, -0.18902711-0.50994788j],\n",
       "       [ 0.38593625+0.4357401j ,  0.38593625-0.4357401j ],\n",
       "       [ 0.60620683-0.03869455j,  0.60620683+0.03869455j]])"
      ]
     },
     "execution_count": 35,
     "metadata": {},
     "output_type": "execute_result"
    }
   ],
   "source": [
    "phi"
   ]
  },
  {
   "cell_type": "code",
   "execution_count": 36,
   "metadata": {},
   "outputs": [
    {
     "data": {
      "text/plain": [
       "array([[1.0011904+0.03456683j, 0.       +0.j        ],\n",
       "       [0.       +0.j        , 1.0011904-0.03456683j]])"
      ]
     },
     "execution_count": 36,
     "metadata": {},
     "output_type": "execute_result"
    }
   ],
   "source": [
    "lam"
   ]
  },
  {
   "cell_type": "code",
   "execution_count": 37,
   "metadata": {},
   "outputs": [
    {
     "data": {
      "text/plain": [
       "array([-0.75952894+0.27539842j, -0.75952894-0.27539842j])"
      ]
     },
     "execution_count": 37,
     "metadata": {},
     "output_type": "execute_result"
    }
   ],
   "source": [
    "b"
   ]
  },
  {
   "cell_type": "code",
   "execution_count": null,
   "metadata": {},
   "outputs": [],
   "source": []
  },
  {
   "cell_type": "code",
   "execution_count": null,
   "metadata": {},
   "outputs": [],
   "source": []
  }
 ],
 "metadata": {
  "kernelspec": {
   "display_name": "Python [conda env:torch]",
   "language": "python",
   "name": "conda-env-torch-py"
  },
  "language_info": {
   "codemirror_mode": {
    "name": "ipython",
    "version": 3
   },
   "file_extension": ".py",
   "mimetype": "text/x-python",
   "name": "python",
   "nbconvert_exporter": "python",
   "pygments_lexer": "ipython3",
   "version": "3.6.7"
  }
 },
 "nbformat": 4,
 "nbformat_minor": 2
}
