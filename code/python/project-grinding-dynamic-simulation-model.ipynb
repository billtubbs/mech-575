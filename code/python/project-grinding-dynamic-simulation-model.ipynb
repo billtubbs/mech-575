{
 "cells": [
  {
   "cell_type": "markdown",
   "metadata": {},
   "source": [
    "# Project - Grinding Dynamic Simulation Model"
   ]
  },
  {
   "cell_type": "code",
   "execution_count": 1,
   "metadata": {},
   "outputs": [
    {
     "data": {
      "text/plain": [
       "'3.7.6'"
      ]
     },
     "execution_count": 1,
     "metadata": {},
     "output_type": "execute_result"
    }
   ],
   "source": [
    "from platform import python_version\n",
    "python_version()"
   ]
  },
  {
   "cell_type": "code",
   "execution_count": 2,
   "metadata": {},
   "outputs": [],
   "source": [
    "import os\n",
    "import numpy as np\n",
    "import pandas as pd\n",
    "import matplotlib.pyplot as plt\n",
    "from scipy.integrate import solve_ivp\n",
    "\n",
    "%matplotlib inline"
   ]
  },
  {
   "cell_type": "code",
   "execution_count": 3,
   "metadata": {},
   "outputs": [],
   "source": [
    "plot_dir = '../../plots'\n",
    "data_dir = '../../data'"
   ]
  },
  {
   "cell_type": "markdown",
   "metadata": {},
   "source": [
    "## Grinding Model Differential Equations"
   ]
  },
  {
   "cell_type": "code",
   "execution_count": 4,
   "metadata": {},
   "outputs": [],
   "source": [
    "def f_dxdt(t, x, feed, r, b_matrix, d):\n",
    "    \"\"\"Ordinary differential equations describing the rate of change of\n",
    "    mill charge in each size fraction.  This is the 'General Grinding\n",
    "    Model' described in Molycop Tools spreadsheet (Eq. 3).  Note, t is\n",
    "    redundant in this case but is included for compatibility with\n",
    "    numerical solvers which are designed for the general case where dxdt\n",
    "    can be a function of time also.\n",
    "    \n",
    "    Args:\n",
    "        t (float): Time (mins).\n",
    "        x (array): Charge load (tons).\n",
    "        feed (np.ndarray): Mill feed (tons).\n",
    "        r (array): Breakage rates (selection function).\n",
    "        b_matrix (array): Breakage matrix (appearance functions).\n",
    "        d (array): Discharge grate efficiencies.\n",
    "    \"\"\"\n",
    "    A = r*(b_matrix - np.eye(b_matrix.shape[0])) - np.diag(d)\n",
    "    return feed + A @ x"
   ]
  },
  {
   "cell_type": "code",
   "execution_count": 5,
   "metadata": {},
   "outputs": [],
   "source": [
    "def solve(t, x0, dxdt, timestep_size, args, method='Radau'):\n",
    "    \"\"\"Estimates x at time t + timestep by starting at x0 and\n",
    "    using the derivate function dxdt to numerically solve the\n",
    "    initial value problem.\n",
    "    \n",
    "    Args:\n",
    "        t: (float): Initial time.\n",
    "        x0 (array): Initial x at time t (i.e. x[t]). \n",
    "        dxdt (function): Function which returns the derivative of x.\n",
    "        timestep_size (float): Timestep to increment by.\n",
    "        args (list): Additional arguments to pass to dxdt.\n",
    "    \n",
    "    Returns:\n",
    "        x2 (array): State vector at time t + timestep_size.\n",
    "    \"\"\"\n",
    "    t2 = t + timestep_size\n",
    "    sol = solve_ivp(dxdt, t_span=[t, t2], y0=x0, method=method,\n",
    "                    args=args)\n",
    "    assert sol.status == 0, \"Solver failed.\"\n",
    "\n",
    "    return sol.y[:, -1]"
   ]
  },
  {
   "cell_type": "markdown",
   "metadata": {},
   "source": [
    "## Unit Tests"
   ]
  },
  {
   "cell_type": "code",
   "execution_count": 6,
   "metadata": {},
   "outputs": [],
   "source": [
    "# Calculation example with 3 size intervals\n",
    "\n",
    "# Feed rates\n",
    "feed = np.array([ 2,  1,  0.5])\n",
    "\n",
    "# Discharge rate function\n",
    "d_max = 0.2  # Transport to grate\n",
    "c = np.array([  0, 0.5, 1.0])  # Grate classification function\n",
    "d = d_max * c\n",
    "\n",
    "# Breakage rates\n",
    "r = np.array([0.2, 0.25, 0.0])\n",
    "\n",
    "assert r[-1] == 0.0  # r=0 for smallest size fraction\n",
    "assert all((r + d) <= 1)\n",
    "\n",
    "# Initial charge\n",
    "x0 = np.array([30, 30, 30])\n",
    "\n",
    "# Breakage matrix\n",
    "b_matrix = np.array([\n",
    "    [  0,   0,   0],\n",
    "    [0.5,   0,   0],\n",
    "    [0.5, 1.0,   0]\n",
    "])\n",
    "\n",
    "assert all(sum(b_matrix)[:-1] == 1)\n",
    "\n",
    "n_sizes = x0.shape[0]\n",
    "assert feed.shape == (n_sizes, )\n",
    "assert d.shape == (n_sizes, )\n",
    "assert r.shape == (n_sizes, )"
   ]
  },
  {
   "cell_type": "code",
   "execution_count": 7,
   "metadata": {},
   "outputs": [
    {
     "data": {
      "text/plain": [
       "array([-4. , -6.5,  5. ])"
      ]
     },
     "execution_count": 7,
     "metadata": {},
     "output_type": "execute_result"
    }
   ],
   "source": [
    "# Test derivative calculations\n",
    "t = 0\n",
    "dxdt = f_dxdt(t, x0, feed, r, b_matrix, d)\n",
    "dxdt"
   ]
  },
  {
   "cell_type": "code",
   "execution_count": 8,
   "metadata": {},
   "outputs": [
    {
     "data": {
      "text/plain": [
       "(-4.0, -4.0)"
      ]
     },
     "execution_count": 8,
     "metadata": {},
     "output_type": "execute_result"
    }
   ],
   "source": [
    "# Rate of change of charge - size 1\n",
    "dxdt1_true = (feed[0] - x0[0] * r[0]) * (1 - d[0])\n",
    "assert dxdt[0] == dxdt1_true\n",
    "dxdt[0], dxdt1_true"
   ]
  },
  {
   "cell_type": "code",
   "execution_count": 9,
   "metadata": {},
   "outputs": [],
   "source": [
    "breakage = x0 * r\n",
    "discharge = x0 * d"
   ]
  },
  {
   "cell_type": "code",
   "execution_count": 10,
   "metadata": {},
   "outputs": [
    {
     "data": {
      "text/plain": [
       "(-6.5, -6.5)"
      ]
     },
     "execution_count": 10,
     "metadata": {},
     "output_type": "execute_result"
    }
   ],
   "source": [
    "# Rate of change of charge - size 2\n",
    "dxdt2_true = (feed[1]\n",
    "    + breakage[0] * b_matrix[1, 0]\n",
    "    - breakage[1]\n",
    "    - discharge[1]\n",
    ")\n",
    "assert dxdt[1] == dxdt2_true\n",
    "dxdt[1], dxdt2_true"
   ]
  },
  {
   "cell_type": "code",
   "execution_count": 11,
   "metadata": {},
   "outputs": [
    {
     "data": {
      "text/plain": [
       "(5.0, 5.0)"
      ]
     },
     "execution_count": 11,
     "metadata": {},
     "output_type": "execute_result"
    }
   ],
   "source": [
    "# Rate of change of charge - size 3\n",
    "dxdt3_true = (feed[2]\n",
    "    + breakage[0] * b_matrix[2, 0]\n",
    "    + breakage[1] * b_matrix[2, 1]\n",
    "    - breakage[2]\n",
    "    - discharge[2]\n",
    ")\n",
    "assert np.isclose(dxdt[2], dxdt3_true)\n",
    "dxdt[2], dxdt3_true"
   ]
  },
  {
   "cell_type": "code",
   "execution_count": 12,
   "metadata": {},
   "outputs": [
    {
     "data": {
      "text/plain": [
       "array([0., 3., 6.])"
      ]
     },
     "execution_count": 12,
     "metadata": {},
     "output_type": "execute_result"
    }
   ],
   "source": [
    "# How to calculate discharge rate\n",
    "discharge_rate = d*x0\n",
    "discharge_rate"
   ]
  },
  {
   "cell_type": "code",
   "execution_count": 13,
   "metadata": {},
   "outputs": [
    {
     "data": {
      "text/plain": [
       "array([[ 2. , -4. ,  0. ],\n",
       "       [ 1. , -6.5,  3. ],\n",
       "       [ 0.5,  5. ,  6. ]])"
      ]
     },
     "execution_count": 13,
     "metadata": {},
     "output_type": "execute_result"
    }
   ],
   "source": [
    "# Mill flows\n",
    "np.stack([feed, dxdt, discharge]).T"
   ]
  },
  {
   "cell_type": "code",
   "execution_count": 14,
   "metadata": {},
   "outputs": [
    {
     "name": "stdout",
     "output_type": "stream",
     "text": [
      "3.5 -5.5 9.0\n"
     ]
    }
   ],
   "source": [
    "# Check overall mass balance\n",
    "print(feed.sum(), dxdt.sum(), discharge_rate.sum())\n",
    "assert dxdt.sum() == feed.sum() - discharge_rate.sum()"
   ]
  },
  {
   "cell_type": "code",
   "execution_count": 15,
   "metadata": {},
   "outputs": [
    {
     "data": {
      "text/plain": [
       "array([28.09674836, 26.97283772, 32.14492609])"
      ]
     },
     "execution_count": 15,
     "metadata": {},
     "output_type": "execute_result"
    }
   ],
   "source": [
    "# Test solver\n",
    "t = 0\n",
    "timestep_size = 0.5\n",
    "x1 = solve(t, x0, f_dxdt, timestep_size, args=[feed, r, b_matrix, d])\n",
    "x1"
   ]
  },
  {
   "cell_type": "code",
   "execution_count": 16,
   "metadata": {},
   "outputs": [
    {
     "name": "stdout",
     "output_type": "stream",
     "text": [
      "[-3.99600267 -6.4906346   4.98489421] [-4.  -6.5  5. ]\n"
     ]
    }
   ],
   "source": [
    "# Test solution with difference estimates\n",
    "t = 0\n",
    "timestep_size = 0.01  # Small timestep\n",
    "x1 = solve(t, x0, f_dxdt, timestep_size, args=[feed, r, b_matrix, d])\n",
    "dxdt_est = (x1 - x0) / timestep_size\n",
    "dxdt_true = f_dxdt(t, x0, feed, r, b_matrix, d)\n",
    "\n",
    "assert np.isclose(dxdt_est, dxdt_true, atol=0.05).all()\n",
    "\n",
    "print(dxdt_est, dxdt_true)"
   ]
  },
  {
   "cell_type": "markdown",
   "metadata": {},
   "source": [
    "## Simulate over time"
   ]
  },
  {
   "cell_type": "code",
   "execution_count": 17,
   "metadata": {},
   "outputs": [],
   "source": [
    "# Number of timesteps\n",
    "nt = 50\n",
    "timestep_size = 0.5\n",
    "\n",
    "# Feedrate\n",
    "feed_rates = np.repeat(feed.reshape(1,-1), nt+1, axis=0)\n",
    "\n",
    "# Increase feedrate after 30 timesteps\n",
    "feed_rates[25:] = 2 * feed_rates[25:]\n",
    "\n",
    "# Initialize variables\n",
    "x = np.zeros((nt+1, n_sizes))\n",
    "discharge_rates = np.zeros((nt+1, n_sizes))\n",
    "x[0] = x0\n",
    "\n",
    "t = np.arange(nt+1) * timestep_size\n",
    "for k in range(1, nt+1):\n",
    "    feed = feed_rates[k]\n",
    "    x[k, :] = solve(t[k], x[k-1], f_dxdt, timestep_size, args=[feed, r, b_matrix, d])\n",
    "    discharge_rates[k] = d*x[k]"
   ]
  },
  {
   "cell_type": "code",
   "execution_count": 18,
   "metadata": {},
   "outputs": [
    {
     "data": {
      "text/html": [
       "<div>\n",
       "<style scoped>\n",
       "    .dataframe tbody tr th:only-of-type {\n",
       "        vertical-align: middle;\n",
       "    }\n",
       "\n",
       "    .dataframe tbody tr th {\n",
       "        vertical-align: top;\n",
       "    }\n",
       "\n",
       "    .dataframe thead th {\n",
       "        text-align: right;\n",
       "    }\n",
       "</style>\n",
       "<table border=\"1\" class=\"dataframe\">\n",
       "  <thead>\n",
       "    <tr style=\"text-align: right;\">\n",
       "      <th>Size Interval</th>\n",
       "      <th>1</th>\n",
       "      <th>2</th>\n",
       "      <th>3</th>\n",
       "    </tr>\n",
       "    <tr>\n",
       "      <th>t</th>\n",
       "      <th></th>\n",
       "      <th></th>\n",
       "      <th></th>\n",
       "    </tr>\n",
       "  </thead>\n",
       "  <tbody>\n",
       "    <tr>\n",
       "      <th>0.0</th>\n",
       "      <td>30.00</td>\n",
       "      <td>30.00</td>\n",
       "      <td>30.00</td>\n",
       "    </tr>\n",
       "    <tr>\n",
       "      <th>0.5</th>\n",
       "      <td>28.10</td>\n",
       "      <td>26.97</td>\n",
       "      <td>32.14</td>\n",
       "    </tr>\n",
       "    <tr>\n",
       "      <th>1.0</th>\n",
       "      <td>26.37</td>\n",
       "      <td>24.35</td>\n",
       "      <td>33.66</td>\n",
       "    </tr>\n",
       "    <tr>\n",
       "      <th>1.5</th>\n",
       "      <td>24.82</td>\n",
       "      <td>22.07</td>\n",
       "      <td>34.67</td>\n",
       "    </tr>\n",
       "    <tr>\n",
       "      <th>2.0</th>\n",
       "      <td>23.41</td>\n",
       "      <td>20.09</td>\n",
       "      <td>35.26</td>\n",
       "    </tr>\n",
       "  </tbody>\n",
       "</table>\n",
       "</div>"
      ],
      "text/plain": [
       "Size Interval      1      2      3\n",
       "t                                 \n",
       "0.0            30.00  30.00  30.00\n",
       "0.5            28.10  26.97  32.14\n",
       "1.0            26.37  24.35  33.66\n",
       "1.5            24.82  22.07  34.67\n",
       "2.0            23.41  20.09  35.26"
      ]
     },
     "execution_count": 18,
     "metadata": {},
     "output_type": "execute_result"
    }
   ],
   "source": [
    "# Convert results to dataframe\n",
    "columns = pd.Index(range(1, n_sizes+1), name='Size Interval')\n",
    "index = pd.Index(t, name='t')\n",
    "charge_weights = pd.DataFrame(x, columns=columns, index=index)\n",
    "charge_weights.round(2).head()"
   ]
  },
  {
   "cell_type": "code",
   "execution_count": 19,
   "metadata": {},
   "outputs": [
    {
     "data": {
      "image/png": "[encoded data removed]",
      "text/plain": [
       "<Figure size 576x432 with 2 Axes>"
      ]
     },
     "metadata": {
      "needs_background": "light"
     },
     "output_type": "display_data"
    }
   ],
   "source": [
    "fig, axes = plt.subplots(2, 1, figsize=(8,6), sharex=True)\n",
    "\n",
    "style = '-' if feed_rates.shape[0] > 51 else '.-'\n",
    "\n",
    "ax = axes[0]\n",
    "ax.plot(t, feed_rates.sum(axis=1)*60 / timestep_size, style, label='feed')\n",
    "ax.plot(t, discharge_rates.sum(axis=1)*60 / timestep_size, style, label='discharge')\n",
    "ax.set_title('Feed and Discharge Rates')\n",
    "ax.set_ylabel('Tons / hr')\n",
    "ax.grid()\n",
    "ax.legend()\n",
    "\n",
    "ax = axes[1]\n",
    "charge_weights.plot.area(ax=ax, stacked=True)\n",
    "ax.set_title('Mill Charge')\n",
    "ax.set_ylabel('Tons')\n",
    "ax.grid()\n",
    "ax.legend()\n",
    "\n",
    "plt.tight_layout()\n",
    "plt.show()"
   ]
  },
  {
   "cell_type": "code",
   "execution_count": 20,
   "metadata": {},
   "outputs": [
    {
     "data": {
      "image/png": "[encoded data removed]",
      "text/plain": [
       "<Figure size 576x216 with 2 Axes>"
      ]
     },
     "metadata": {
      "needs_background": "light"
     },
     "output_type": "display_data"
    }
   ],
   "source": [
    "fig, axes = plt.subplots(1, 2, sharey=True, figsize=(8,3))\n",
    "\n",
    "ax = axes[0]\n",
    "pd.Series(feed_rates[-1]).plot.bar(ax=ax)\n",
    "ax.set_xlabel('Size interval')\n",
    "ax.set_ylabel('Tons/h')\n",
    "ax.set_title('Feed Rates')\n",
    "ax.grid()\n",
    "\n",
    "ax = axes[1]\n",
    "pd.Series(discharge_rates[-1]).plot.bar(ax=ax)\n",
    "ax.set_xlabel('Size interval')\n",
    "ax.set_ylabel('Tons/h')\n",
    "ax.set_title('Discharge Rates')\n",
    "ax.grid()\n",
    "\n",
    "plt.show()"
   ]
  },
  {
   "cell_type": "code",
   "execution_count": null,
   "metadata": {},
   "outputs": [],
   "source": []
  },
  {
   "cell_type": "markdown",
   "metadata": {},
   "source": [
    "## Setup Full-Scale Simulation"
   ]
  },
  {
   "cell_type": "code",
   "execution_count": 21,
   "metadata": {},
   "outputs": [],
   "source": [
    "from molycop.models import SAGMillRecycleModelDefault, SAGMillOpenModelDefault, \\\n",
    "                           StaticBreakageFunction\n",
    "from molycop import mill_calcs"
   ]
  },
  {
   "cell_type": "code",
   "execution_count": 22,
   "metadata": {},
   "outputs": [],
   "source": [
    "SAG_recycle_model = SAGMillRecycleModelDefault()\n",
    "SAG_open_model = SAGMillOpenModelDefault()"
   ]
  },
  {
   "cell_type": "code",
   "execution_count": 23,
   "metadata": {},
   "outputs": [
    {
     "data": {
      "text/html": [
       "<div>\n",
       "<style scoped>\n",
       "    .dataframe tbody tr th:only-of-type {\n",
       "        vertical-align: middle;\n",
       "    }\n",
       "\n",
       "    .dataframe tbody tr th {\n",
       "        vertical-align: top;\n",
       "    }\n",
       "\n",
       "    .dataframe thead th {\n",
       "        text-align: right;\n",
       "    }\n",
       "</style>\n",
       "<table border=\"1\" class=\"dataframe\">\n",
       "  <thead>\n",
       "    <tr style=\"text-align: right;\">\n",
       "      <th></th>\n",
       "      <th>Default SAG Mill - Open Circuit</th>\n",
       "      <th>Default SAG Mill with Pebble Crushing in Close Circuit</th>\n",
       "    </tr>\n",
       "  </thead>\n",
       "  <tbody>\n",
       "    <tr>\n",
       "      <th>Opening (mm)</th>\n",
       "      <td>12.7</td>\n",
       "      <td>50.8</td>\n",
       "    </tr>\n",
       "    <tr>\n",
       "      <th>% Open Area</th>\n",
       "      <td>12.0</td>\n",
       "      <td>15.0</td>\n",
       "    </tr>\n",
       "    <tr>\n",
       "      <th>Rate Constant (1/in^2/min)</th>\n",
       "      <td>0.5</td>\n",
       "      <td>0.5</td>\n",
       "    </tr>\n",
       "    <tr>\n",
       "      <th>D50/DScreen</th>\n",
       "      <td>0.6</td>\n",
       "      <td>0.6</td>\n",
       "    </tr>\n",
       "    <tr>\n",
       "      <th>Bpf</th>\n",
       "      <td>0.4</td>\n",
       "      <td>0.4</td>\n",
       "    </tr>\n",
       "    <tr>\n",
       "      <th>m</th>\n",
       "      <td>2.0</td>\n",
       "      <td>2.0</td>\n",
       "    </tr>\n",
       "    <tr>\n",
       "      <th>D50 (microns)</th>\n",
       "      <td>7620.0</td>\n",
       "      <td>30480.0</td>\n",
       "    </tr>\n",
       "    <tr>\n",
       "      <th># of Grate Elements</th>\n",
       "      <td>NaN</td>\n",
       "      <td>36.0</td>\n",
       "    </tr>\n",
       "  </tbody>\n",
       "</table>\n",
       "</div>"
      ],
      "text/plain": [
       "                            Default SAG Mill - Open Circuit  \\\n",
       "Opening (mm)                                           12.7   \n",
       "% Open Area                                            12.0   \n",
       "Rate Constant (1/in^2/min)                              0.5   \n",
       "D50/DScreen                                             0.6   \n",
       "Bpf                                                     0.4   \n",
       "m                                                       2.0   \n",
       "D50 (microns)                                        7620.0   \n",
       "# of Grate Elements                                     NaN   \n",
       "\n",
       "                            Default SAG Mill with Pebble Crushing in Close Circuit  \n",
       "Opening (mm)                                                             50.8       \n",
       "% Open Area                                                              15.0       \n",
       "Rate Constant (1/in^2/min)                                                0.5       \n",
       "D50/DScreen                                                               0.6       \n",
       "Bpf                                                                       0.4       \n",
       "m                                                                         2.0       \n",
       "D50 (microns)                                                         30480.0       \n",
       "# of Grate Elements                                                      36.0       "
      ]
     },
     "execution_count": 23,
     "metadata": {},
     "output_type": "execute_result"
    }
   ],
   "source": [
    "# Comparison of discharge grates\n",
    "models = [SAG_open_model, SAG_recycle_model]\n",
    "pd.DataFrame({model.name: model.discharge_grate.params for model in models})"
   ]
  },
  {
   "cell_type": "code",
   "execution_count": 24,
   "metadata": {},
   "outputs": [
    {
     "data": {
      "image/png": "[encoded data removed]",
      "text/plain": [
       "<Figure size 432x288 with 1 Axes>"
      ]
     },
     "metadata": {
      "needs_background": "light"
     },
     "output_type": "display_data"
    }
   ],
   "source": [
    "for model in models:\n",
    "    x = model.discharge_grate.bottom_sizes\n",
    "    y = model.discharge_grate.class_efficiencies\n",
    "    plt.plot(x*1e-3, y, label=model.name)\n",
    "plt.title('Discharge Grate Classification Functions')\n",
    "plt.xscale('log')\n",
    "plt.xlabel('Bottom size (mm)')\n",
    "plt.ylabel('Classification Efficiency')\n",
    "plt.grid()\n",
    "plt.legend()\n",
    "plt.show()"
   ]
  },
  {
   "cell_type": "code",
   "execution_count": 25,
   "metadata": {},
   "outputs": [
    {
     "data": {
      "text/plain": [
       "Size Interval\n",
       "1    1.0\n",
       "2    1.0\n",
       "3    1.0\n",
       "4    1.0\n",
       "5    1.0\n",
       "Name: Opening, dtype: float64"
      ]
     },
     "execution_count": 25,
     "metadata": {},
     "output_type": "execute_result"
    }
   ],
   "source": [
    "# Choose which one to use\n",
    "class_efficiency = SAG_open_model.discharge_grate.class_efficiencies\n",
    "class_efficiency.head()"
   ]
  },
  {
   "cell_type": "code",
   "execution_count": null,
   "metadata": {},
   "outputs": [],
   "source": []
  },
  {
   "cell_type": "markdown",
   "metadata": {},
   "source": [
    "## Discharge rate function from Morrell"
   ]
  },
  {
   "cell_type": "code",
   "execution_count": 26,
   "metadata": {},
   "outputs": [
    {
     "data": {
      "text/plain": [
       "2.201147759126192"
      ]
     },
     "execution_count": 26,
     "metadata": {},
     "output_type": "execute_result"
    }
   ],
   "source": [
    "# Parameter values from Morrell (2004), 'A new autogenous and \n",
    "# semi-autogenous mill model for scale-up, design and optimisation'\n",
    "# (see Fig. 1)\n",
    "rate_max = 30  # 1/hr\n",
    "size_max = 12  # mm\n",
    "x_m = 1  # Size below which slurry flow constraint dominates\n",
    "\n",
    "# Calculate discharge rate\n",
    "size = 10\n",
    "rate = rate_max * (1 - np.log(size) / np.log(size_max / x_m))\n",
    "rate"
   ]
  },
  {
   "cell_type": "code",
   "execution_count": 27,
   "metadata": {},
   "outputs": [
    {
     "data": {
      "image/png": "[encoded data removed]",
      "text/plain": [
       "<Figure size 432x288 with 1 Axes>"
      ]
     },
     "metadata": {
      "needs_background": "light"
     },
     "output_type": "display_data"
    }
   ],
   "source": [
    "def calculate_discharge_rates(sizes, rate_max, size_max, x_m=1000):\n",
    "    rates = rate_max * (1 - np.log(sizes) / np.log(size_max / x_m))\n",
    "    return np.clip(rates, 0, rate_max)\n",
    "\n",
    "sizes = np.logspace(-2,2,41)\n",
    "rate_max = 30\n",
    "size_max = 12\n",
    "rates = calculate_discharge_rates(sizes, rate_max, size_max, x_m=1)\n",
    "\n",
    "plt.plot(sizes, rates)\n",
    "plt.title('Discharge Rate Function')\n",
    "plt.xscale('log')\n",
    "plt.xlabel('Size (mm)')\n",
    "plt.ylabel('Discharge rate (hr-1)')\n",
    "plt.grid()"
   ]
  },
  {
   "cell_type": "markdown",
   "metadata": {},
   "source": [
    "## Set up mesh sizes for full model"
   ]
  },
  {
   "cell_type": "code",
   "execution_count": 28,
   "metadata": {},
   "outputs": [
    {
     "data": {
      "text/html": [
       "<div>\n",
       "<style scoped>\n",
       "    .dataframe tbody tr th:only-of-type {\n",
       "        vertical-align: middle;\n",
       "    }\n",
       "\n",
       "    .dataframe tbody tr th {\n",
       "        vertical-align: top;\n",
       "    }\n",
       "\n",
       "    .dataframe thead th {\n",
       "        text-align: right;\n",
       "    }\n",
       "</style>\n",
       "<table border=\"1\" class=\"dataframe\">\n",
       "  <thead>\n",
       "    <tr style=\"text-align: right;\">\n",
       "      <th></th>\n",
       "      <th>Size</th>\n",
       "      <th>Opening</th>\n",
       "    </tr>\n",
       "    <tr>\n",
       "      <th>Size Interval</th>\n",
       "      <th></th>\n",
       "      <th></th>\n",
       "    </tr>\n",
       "  </thead>\n",
       "  <tbody>\n",
       "    <tr>\n",
       "      <th>1</th>\n",
       "      <td>16.0</td>\n",
       "      <td>406400</td>\n",
       "    </tr>\n",
       "    <tr>\n",
       "      <th>2</th>\n",
       "      <td>8.0</td>\n",
       "      <td>203200</td>\n",
       "    </tr>\n",
       "    <tr>\n",
       "      <th>3</th>\n",
       "      <td>4.0</td>\n",
       "      <td>101600</td>\n",
       "    </tr>\n",
       "    <tr>\n",
       "      <th>4</th>\n",
       "      <td>3.0</td>\n",
       "      <td>76100</td>\n",
       "    </tr>\n",
       "    <tr>\n",
       "      <th>5</th>\n",
       "      <td>2.0</td>\n",
       "      <td>50800</td>\n",
       "    </tr>\n",
       "  </tbody>\n",
       "</table>\n",
       "</div>"
      ],
      "text/plain": [
       "               Size  Opening\n",
       "Size Interval               \n",
       "1              16.0   406400\n",
       "2               8.0   203200\n",
       "3               4.0   101600\n",
       "4               3.0    76100\n",
       "5               2.0    50800"
      ]
     },
     "execution_count": 28,
     "metadata": {},
     "output_type": "execute_result"
    }
   ],
   "source": [
    "mesh_dimensions = {\n",
    "    'Size Interval': np.arange(1, 27),\n",
    "    'Size': [\n",
    "        16, 8, 4, 3, 2, 1.05, 0.742, 0.525, 0.371,\n",
    "        3, 4, 6, 8, 10, 14, 20, 28, 35, 48, 65,\n",
    "        100, 150, 200, 270, 400, -400\n",
    "    ],\n",
    "    'Opening': [\n",
    "        406400, 203200, 101600, 76100, 50800,\n",
    "        25400, 19050, 12700, 9500, 6700,\n",
    "        4750, 3350, 2360, 1700, 1180,\n",
    "        850, 600, 425, 300, 212,\n",
    "        150, 106, 75, 53, 38, 0\n",
    "    ]\n",
    "}\n",
    "\n",
    "mesh = pd.DataFrame(mesh_dimensions).set_index('Size Interval')\n",
    "mesh.head()"
   ]
  },
  {
   "cell_type": "code",
   "execution_count": 29,
   "metadata": {},
   "outputs": [
    {
     "data": {
      "text/plain": [
       "array([406400, 203200, 101600,  76100,  50800,  25400,  19050,  12700,\n",
       "         9500,   6700,   4750,   3350,   2360,   1700,   1180,    850,\n",
       "          600,    425,    300,    212,    150,    106,     75,     53,\n",
       "           38])"
      ]
     },
     "execution_count": 29,
     "metadata": {},
     "output_type": "execute_result"
    }
   ],
   "source": [
    "mesh_openings = (mesh['Opening'].iloc[:-1]).values\n",
    "mesh_openings"
   ]
  },
  {
   "cell_type": "code",
   "execution_count": 30,
   "metadata": {},
   "outputs": [],
   "source": [
    "mid_sizes = mill_calcs.calculate_mesh_mid_sizes(mesh['Opening'])"
   ]
  },
  {
   "cell_type": "code",
   "execution_count": 31,
   "metadata": {},
   "outputs": [
    {
     "data": {
      "text/plain": [
       "<molycop.models.StaticBreakageFunction at 0x151c87bc10>"
      ]
     },
     "execution_count": 31,
     "metadata": {},
     "output_type": "execute_result"
    }
   ],
   "source": [
    "# Deafult selection and breakage model from Molycop Tools SAGSim model\n",
    "selection_params = {\n",
    "    'Balls': {'alpha0': 0.00358000, 'alpha1': 0.650,\n",
    "              'alpha2': 3.500, 'dcrit': 25400},\n",
    "    'Rocks': {'alpha0': 0.00228000, 'alpha1': 0.650,\n",
    "              'alpha2': 3.500, 'dcrit': 9500},\n",
    "    'Self': {'alpha0': 0.00018, 'alpha1': 0.650}\n",
    "}\n",
    "\n",
    "breakage_params = {\n",
    "    'beta00': 0.400,\n",
    "    'beta01': 0.050,\n",
    "    'beta1': 0.650,\n",
    "    'beta2': 2.500,\n",
    "    'beta30': 0.127,\n",
    "    'beta31': 0.000\n",
    "}\n",
    "static_breakage_function = StaticBreakageFunction(selection_params, breakage_params)\n",
    "static_breakage_function"
   ]
  },
  {
   "cell_type": "code",
   "execution_count": 32,
   "metadata": {},
   "outputs": [
    {
     "data": {
      "text/plain": [
       "(25, 25)"
      ]
     },
     "execution_count": 32,
     "metadata": {},
     "output_type": "execute_result"
    }
   ],
   "source": [
    "b_matrix = static_breakage_function.calculate_breakage_matrix(mesh_openings)\n",
    "b_matrix.shape"
   ]
  },
  {
   "cell_type": "code",
   "execution_count": 33,
   "metadata": {},
   "outputs": [
    {
     "data": {
      "image/png": "[encoded data removed]",
      "text/plain": [
       "<Figure size 432x288 with 2 Axes>"
      ]
     },
     "metadata": {
      "needs_background": "light"
     },
     "output_type": "display_data"
    }
   ],
   "source": [
    "# Visualize B[i, j] matrix\n",
    "plt.imshow(b_matrix, cmap='viridis')\n",
    "plt.colorbar()\n",
    "filename = \"b_matrix_cmap.pdf\"\n",
    "plt.savefig(os.path.join(plot_dir, filename))\n",
    "plt.show()"
   ]
  },
  {
   "cell_type": "markdown",
   "metadata": {},
   "source": [
    "## Variable breakage rates model"
   ]
  },
  {
   "cell_type": "code",
   "execution_count": 34,
   "metadata": {},
   "outputs": [],
   "source": [
    "from scipy.interpolate import CubicSpline\n",
    "\n",
    "class DynamicBreakageFunctionMorrell2004:\n",
    "\n",
    "    # Data from Morrell's SAG mill model paper (2004)\n",
    "    default_selection_params = {\n",
    "        'Sizes (mm)': [0.25, 4., 16., 45., 128.],\n",
    "        'Charge Fillings (%)': {\n",
    "            'Baseline': 20,\n",
    "            'High load': 40\n",
    "        },\n",
    "        'Speeds (% Critical)': {\n",
    "            'Baseline': 68,\n",
    "            'High speed': 80\n",
    "        },\n",
    "        'Breakage Rates log(1/hour)': {\n",
    "            'Baseline': [2.15, 3.92, 3.83, 3.15, 3.97],\n",
    "            'High load': [3.09, 4.84, 3.72, 2.18, 2.99],\n",
    "            'High speed': [2.04, 3.83, 3.85, 3.55, 4.8]\n",
    "        }\n",
    "    }\n",
    "\n",
    "    default_breakage_params = {\n",
    "        'beta00': 0.400,\n",
    "        'beta01': 0.050,\n",
    "        'beta1': 0.650,\n",
    "        'beta2': 2.500,\n",
    "        'beta30': 0.127,\n",
    "        'beta31': 0.000\n",
    "    }\n",
    "\n",
    "    def __init__(self, selection_params=None, breakage_params=None):\n",
    "\n",
    "        # TODO: Replace breakage matrix with JK (A, b) method\n",
    "        if breakage_params is None:\n",
    "            breakage_params = self.default_breakage_params\n",
    "        self.breakage_params = breakage_params\n",
    "\n",
    "        if selection_params is None:\n",
    "            selection_params = self.default_selection_params\n",
    "        self.selection_params = selection_params\n",
    "\n",
    "        self.sizes = selection_params['Sizes (mm)']\n",
    "        self.load_pcts = selection_params['Charge Fillings (%)']\n",
    "        self.speed_pcts = selection_params['Speeds (% Critical)']\n",
    "        self.load_range = (self.load_pcts['High load']\n",
    "                           - self.load_pcts['Baseline'])\n",
    "        self.speed_range = (self.speed_pcts['High speed']\n",
    "                            - self.speed_pcts['Baseline'])\n",
    "        index = pd.Index(self.sizes, name='Size (mm)')\n",
    "        rate_data = selection_params['Breakage Rates log(1/hour)']\n",
    "        assert all([name in rate_data for name in\n",
    "                    ['Baseline', 'High load', 'High speed']])\n",
    "        self.breakage_rate_pts = pd.DataFrame(rate_data, index=index)\n",
    "        self.cubic_splines = None\n",
    "\n",
    "    def make_cubic_splines(self, bc_type='natural'):\n",
    "\n",
    "        self.cubic_splines = {}\n",
    "        x_pts = self.breakage_rate_pts.index\n",
    "        for label, y_pts in self.breakage_rate_pts.items():\n",
    "            # Fit spline to log10(x) and log(y)\n",
    "            cs = CubicSpline(np.log10(x_pts), y_pts, bc_type=bc_type)\n",
    "            self.cubic_splines[label] = cs\n",
    "\n",
    "    def show_cubic_splines_plot(self, show=True, filename=None,\n",
    "                                title='Predicted Breakage Rates (Morrell, 2004)',\n",
    "                                figsize=(8, 4)):\n",
    "\n",
    "        x_pts = self.breakage_rate_pts.index.values\n",
    "        x = np.logspace(np.log10(x_pts[0]), np.log10(x_pts[-1]))\n",
    "        plt.figure(figsize=figsize)\n",
    "\n",
    "        for label, y_pts in self.breakage_rate_pts.items():\n",
    "            line, = plt.plot(x_pts, y_pts, marker='o', linestyle='')\n",
    "            cs = self.cubic_splines[label]\n",
    "            plt.plot(x, cs(np.log10(x)), color=line.get_color(), label=label)\n",
    "\n",
    "        plt.title(title)\n",
    "        plt.ylabel('log(rate) (1/hr)')\n",
    "        plt.xlabel('size (mm)')\n",
    "        plt.xscale('log')\n",
    "        plt.legend()\n",
    "        plt.grid()\n",
    "        if filename:\n",
    "            plt.savefig(filename)\n",
    "        if show:\n",
    "            plt.show()\n",
    "\n",
    "    def get_breakage_rate_log(self, size, load_pct, speed_pct):\n",
    "        \"\"\"Calculates the log of the breakage rate for given size,\n",
    "        load (%) and speed (% critical).  The units are log(1/hour)\n",
    "        as per Morrell's breakage rate distribution plots (see 2004\n",
    "        paper).\n",
    "        \"\"\"\n",
    "\n",
    "        load_fraction = ((load_pct - self.load_pcts['Baseline'])\n",
    "                         / self.load_range)\n",
    "        speed_fraction = ((speed_pct - self.speed_pcts['Baseline'])\n",
    "                          / self.speed_range)\n",
    "\n",
    "        cs_baseline = self.cubic_splines['Baseline']\n",
    "        cs_high_load = self.cubic_splines['High load']\n",
    "        cs_high_speed = self.cubic_splines['High speed']\n",
    "\n",
    "        log_10_size = np.log10(size)\n",
    "        baseline_rate = cs_baseline(log_10_size)\n",
    "\n",
    "        return (baseline_rate\n",
    "                + load_fraction * (cs_high_load(log_10_size)\n",
    "                                   - baseline_rate)\n",
    "                + speed_fraction * (cs_high_speed(log_10_size)\n",
    "                                    - baseline_rate))\n",
    "\n",
    "    def get_breakage_rate(self, size, load_pct, speed_pct):\n",
    "        \"\"\"Uses the cubic splines with linear interpolation to\n",
    "        estimate the breakage rate (1/min) for given size, load (%)\n",
    "        and speed (% critical).\n",
    "        \"\"\"\n",
    "\n",
    "        return np.exp(self.get_breakage_rate_log(size, load_pct, speed_pct)) / 60\n",
    "\n",
    "    def calculate_selection_matrix(self, mid_sizes, load_pct, speed_pct):\n",
    "        \"\"\"Calculates the selection matrix by interpolating\n",
    "        between two of the breakage rate cubic splines estimated\n",
    "        by Morrell (2004).\n",
    "\n",
    "        The selection matrix that is returned contains four\n",
    "        columns, one for the action of balls on particles, one\n",
    "        for rocks on particles with rocks acting as grinding\n",
    "        media, one for self-breakage of rocks, as a result\n",
    "        of their own tumbling action, and the 'Overall'\n",
    "        breakage function values that are used by the model.\n",
    "\n",
    "        Args:\n",
    "            mid_sizes (pd.Series): Pandas series containing the\n",
    "                mid-sizes of each size interval.\n",
    "            load_pct (float): Charge filling (%) .\n",
    "            speed_pct (float): Speed (% critical).\n",
    "\n",
    "        Returns:\n",
    "            s (np.array): The selection function values by size\n",
    "                interval.\n",
    "        \"\"\"\n",
    "\n",
    "        return self.get_breakage_rate(mid_sizes*1e-3, load_pct, speed_pct)\n",
    "\n",
    "    def calculate_breakage_matrix(self, mesh_openings):\n",
    "        \"\"\"Calculates the nxn breakage matrix based on the\n",
    "        parameter values in self.breakage_params.\n",
    "        \"\"\"\n",
    "        # TODO: Replace this with JK (A, b) method\n",
    "\n",
    "        beta00 = self.breakage_params['beta00']\n",
    "        beta01 = self.breakage_params['beta01']\n",
    "        beta1 = self.breakage_params['beta1']\n",
    "        beta2 = self.breakage_params['beta2']\n",
    "        beta30 = self.breakage_params['beta30']\n",
    "        beta31 = self.breakage_params['beta31']\n",
    "\n",
    "        beta0j = beta00 * (mesh_openings / 100000) ** (-beta01)\n",
    "        beta0j = beta0j.clip(None, 1)\n",
    "\n",
    "        beta3j = beta30 * (mesh_openings / 100000) ** (-beta31)\n",
    "        beta3j = beta3j.clip(None, 1)\n",
    "\n",
    "        d_chips = mesh_openings * beta3j\n",
    "\n",
    "        n = len(mesh_openings)\n",
    "\n",
    "        # Calculate cumulative breakage distribution function\n",
    "        b_cum = np.identity(n)\n",
    "        ii, jj = np.tril_indices(n, k=-1)\n",
    "        for i, j in zip(ii, jj):\n",
    "            if mesh_openings[i] < d_chips[j + 1]:\n",
    "                b_cum[i, j] = (\n",
    "                    beta0j[j + 1]\n",
    "                    * (mesh_openings[i] / d_chips[j + 1]) ** beta1\n",
    "                    + (1 - beta0j[j + 1])\n",
    "                    * (mesh_openings[i] / mesh_openings[j + 1]) ** beta2\n",
    "                )\n",
    "            else:\n",
    "                b_cum[i, j] = (\n",
    "                    beta0j[j + 1]\n",
    "                    + (1 - beta0j[j + 1])\n",
    "                    * (mesh_openings[i] / mesh_openings[j + 1]) ** beta2\n",
    "                )\n",
    "\n",
    "        # Calculate breakage matrix (differences)\n",
    "        b_matrix = np.empty(b_cum.shape)\n",
    "        b_matrix[:-1, :] = b_cum[:-1, :] - np.tril(b_cum[1:, :])\n",
    "        b_matrix[-1, :] = b_cum[-1, :]\n",
    "        b_matrix[-1, -1] = 0\n",
    "\n",
    "        # Make sure all columns add to 1 (except last one)\n",
    "        assert np.allclose(b_matrix[:, :-1].sum(axis=0), 1)\n",
    "\n",
    "        return b_matrix"
   ]
  },
  {
   "cell_type": "code",
   "execution_count": 35,
   "metadata": {},
   "outputs": [
    {
     "data": {
      "image/png": "[encoded data removed]",
      "text/plain": [
       "<Figure size 576x288 with 1 Axes>"
      ]
     },
     "metadata": {
      "needs_background": "light"
     },
     "output_type": "display_data"
    }
   ],
   "source": [
    "breakage_function = DynamicBreakageFunctionMorrell2004()\n",
    "breakage_function.make_cubic_splines()\n",
    "breakage_function.show_cubic_splines_plot()"
   ]
  },
  {
   "cell_type": "code",
   "execution_count": 36,
   "metadata": {},
   "outputs": [],
   "source": [
    "def plot_rates(mid_sizes, r, ax=None, ylabel='Breakage rate (1/hr)',\n",
    "               label=None):\n",
    "    if ax is None:\n",
    "        ax = plt.gca()\n",
    "    ax.plot(mid_sizes, r, marker='.', linestyle='-', label=label)\n",
    "    ax.set_xlabel(mid_sizes.name)\n",
    "    ax.set_ylabel(ylabel)\n",
    "    ax.set_xscale('log')\n",
    "    ax.set_yscale('log')\n",
    "    return ax"
   ]
  },
  {
   "cell_type": "code",
   "execution_count": 37,
   "metadata": {},
   "outputs": [],
   "source": [
    "mid_sizes_mm = mid_sizes * 1e-3\n",
    "mid_sizes_mm.name = mid_sizes.name + ' (mm)'"
   ]
  },
  {
   "cell_type": "code",
   "execution_count": 38,
   "metadata": {},
   "outputs": [
    {
     "data": {
      "image/png": "[encoded data removed]",
      "text/plain": [
       "<Figure size 432x288 with 1 Axes>"
      ]
     },
     "metadata": {
      "needs_background": "light"
     },
     "output_type": "display_data"
    }
   ],
   "source": [
    "load_pct = 33\n",
    "for speed_pct in [70, 72, 74, 76, 78, 80]:\n",
    "    r = breakage_function.get_breakage_rate(mid_sizes_mm, load_pct, speed_pct)\n",
    "    label = f'speed = {speed_pct}'\n",
    "    plot_rates(mid_sizes_mm, r, label=label, ylabel='Breakage rate (1/min)')\n",
    "plt.grid()\n",
    "plt.legend()\n",
    "plt.show()"
   ]
  },
  {
   "cell_type": "code",
   "execution_count": 39,
   "metadata": {},
   "outputs": [
    {
     "data": {
      "text/plain": [
       "20.085536923187668"
      ]
     },
     "execution_count": 39,
     "metadata": {},
     "output_type": "execute_result"
    }
   ],
   "source": [
    "np.exp(3)"
   ]
  },
  {
   "cell_type": "code",
   "execution_count": 40,
   "metadata": {},
   "outputs": [
    {
     "data": {
      "image/png": "[encoded data removed]",
      "text/plain": [
       "<Figure size 432x288 with 1 Axes>"
      ]
     },
     "metadata": {
      "needs_background": "light"
     },
     "output_type": "display_data"
    }
   ],
   "source": [
    "speed_pct = 78\n",
    "for load_pct in [26, 28, 30, 32, 34, 36]:\n",
    "    r = breakage_function.get_breakage_rate(mid_sizes_mm, load_pct, speed_pct)\n",
    "    label = f'load = {load_pct}'\n",
    "    plot_rates(mid_sizes_mm, r, label=label, ylabel='Breakage rate (1/min)')\n",
    "plt.grid()\n",
    "plt.legend()\n",
    "plt.show()"
   ]
  },
  {
   "cell_type": "markdown",
   "metadata": {},
   "source": [
    "## Calculate filling level from charge weights"
   ]
  },
  {
   "cell_type": "code",
   "execution_count": 41,
   "metadata": {},
   "outputs": [
    {
     "data": {
      "text/plain": [
       "(28.0, 10.0)"
      ]
     },
     "execution_count": 41,
     "metadata": {},
     "output_type": "execute_result"
    }
   ],
   "source": [
    "model = SAG_open_model\n",
    "model.charge_filling_pct, model.balls_filling_pct"
   ]
  },
  {
   "cell_type": "code",
   "execution_count": 42,
   "metadata": {},
   "outputs": [
    {
     "data": {
      "text/plain": [
       "{'Balls': 215.78803603902648,\n",
       " 'Rocks': 140.33183246925077,\n",
       " 'Slurry': 62.5484130712993}"
      ]
     },
     "execution_count": 42,
     "metadata": {},
     "output_type": "execute_result"
    }
   ],
   "source": [
    "model.charge_weights"
   ]
  },
  {
   "cell_type": "code",
   "execution_count": 43,
   "metadata": {},
   "outputs": [
    {
     "data": {
      "text/plain": [
       "{'Effective Diameter (ft)': 35.0,\n",
       " 'Effective Length (ft)': 17.0,\n",
       " 'Speed (% Critical)': 76.0,\n",
       " 'Charge Filling (%)': 28.0,\n",
       " 'Balls Filling (%)': 10.0,\n",
       " 'Interstitial Filling (%)': 60.0,\n",
       " 'Lift Angle (deg)': 45.0,\n",
       " 'Power Loss (%)': 3,\n",
       " 'Slurry Top Size (mm)': 12.699}"
      ]
     },
     "execution_count": 43,
     "metadata": {},
     "output_type": "execute_result"
    }
   ],
   "source": [
    "model = SAG_open_model\n",
    "model.params"
   ]
  },
  {
   "cell_type": "code",
   "execution_count": 44,
   "metadata": {},
   "outputs": [
    {
     "data": {
      "text/plain": [
       "2.8"
      ]
     },
     "execution_count": 44,
     "metadata": {},
     "output_type": "execute_result"
    }
   ],
   "source": [
    "model.ore_density"
   ]
  },
  {
   "cell_type": "code",
   "execution_count": 45,
   "metadata": {},
   "outputs": [
    {
     "data": {
      "text/plain": [
       "34.005380143410655"
      ]
     },
     "execution_count": 45,
     "metadata": {},
     "output_type": "execute_result"
    }
   ],
   "source": [
    "def calculate_load_pct(charge_weight_rocks, model=None):\n",
    "    if model:\n",
    "        d = model.d\n",
    "        length = model.length\n",
    "        ore_density = model.ore_density\n",
    "        ball_fill = model.balls_filling_pct\n",
    "    else:\n",
    "        d = 35\n",
    "        length = 17\n",
    "        ore_density = 2.8\n",
    "        ball_fill = 10\n",
    "    area = np.pi * (d * 0.305) ** 2\n",
    "    rock_fill = (4 * charge_weight_rocks \n",
    "                 / (0.01 * (1 - 0.4) * ore_density * area\n",
    "                    * (length * 0.305)))\n",
    "    charge_filling_pct = ball_fill + rock_fill\n",
    "    return charge_filling_pct\n",
    "\n",
    "assert calculate_load_pct(100) == calculate_load_pct(100, model)\n",
    "\n",
    "model.set_initial_conditions()\n",
    "initial_charge = model.initial_charge\n",
    "load_pct = calculate_load_pct(initial_charge.sum())\n",
    "load_pct"
   ]
  },
  {
   "cell_type": "markdown",
   "metadata": {},
   "source": [
    "## Feed Size Distribution"
   ]
  },
  {
   "cell_type": "code",
   "execution_count": 46,
   "metadata": {},
   "outputs": [],
   "source": [
    "# Feed size distribution\n",
    "passing_pct = [\n",
    "    100.0, 95.48001354, 89.43643941, 80.01, 61.71896099,\n",
    "    38.35445337, 32.89878606, 27.69288619, 25.01680918, 22.44064909,\n",
    "    20.31138876, 18.40804667, 16.68227778, 15.19888032, 13.67911611,\n",
    "    12.42220099, 11.19338884, 10.07870748, 9.050354653, 8.117299674,\n",
    "    7.27326743, 6.5063266, 5.81611614, 5.191845859, 4.652694784, 0\n",
    "]\n",
    "assert passing_pct[0] == 100, \\\n",
    "    \"The top mesh size must be set to 100% passing.\"\n",
    "assert passing_pct[-1] == 0, \\\n",
    "    \"The bottom mesh size must be set to 0% passing.\""
   ]
  },
  {
   "cell_type": "code",
   "execution_count": 47,
   "metadata": {},
   "outputs": [
    {
     "data": {
      "text/plain": [
       "Size Interval\n",
       "1     0.045200\n",
       "2     0.060436\n",
       "3     0.094264\n",
       "4     0.182910\n",
       "5     0.233645\n",
       "6     0.054557\n",
       "7     0.052059\n",
       "8     0.026761\n",
       "9     0.025762\n",
       "10    0.021293\n",
       "11    0.019033\n",
       "12    0.017258\n",
       "13    0.014834\n",
       "14    0.015198\n",
       "15    0.012569\n",
       "16    0.012288\n",
       "17    0.011147\n",
       "18    0.010284\n",
       "19    0.009331\n",
       "20    0.008440\n",
       "21    0.007669\n",
       "22    0.006902\n",
       "23    0.006243\n",
       "24    0.005392\n",
       "25    0.046527\n",
       "Name: Fresh Feed, °/1, dtype: float64"
      ]
     },
     "execution_count": 47,
     "metadata": {},
     "output_type": "execute_result"
    }
   ],
   "source": [
    "def calculate_feed_size_distribution(mesh, passing_pct):\n",
    "    \"\"\"Calculates the feed size distribution (as % passing) to\n",
    "    the model's size_distributions dataframe and sets the\n",
    "    retained_pct array.\n",
    "\n",
    "    Args:\n",
    "        passing_pct (list or array): Cumulative % passing\n",
    "            values for each size interval.  The size of\n",
    "            this array should match the number of rows\n",
    "            in mesh_dimensions and the top and bottom\n",
    "            size values should be 100, 0 respectively.\n",
    "    \"\"\"\n",
    "\n",
    "    assert passing_pct[0] == 100, \\\n",
    "        \"The top mesh size must be set to 100% passing.\"\n",
    "    assert passing_pct[-1] == 0, \\\n",
    "        \"The bottom mesh size must be set to 0% passing.\"\n",
    "    passing_pct = np.array(passing_pct)\n",
    "    feed_size_distribution = passing_pct[:-1]\n",
    "    retained_pct = mill_calcs.calculate_retained_pct(passing_pct)\n",
    "    feed_size = pd.Series(retained_pct * 0.01, index=mesh.index[:-1],\n",
    "                           name='Fresh Feed, °/1')\n",
    "    return feed_size\n",
    "\n",
    "feed_size = calculate_feed_size_distribution(mesh, passing_pct)\n",
    "assert np.isclose(feed_size.sum(), 1)\n",
    "feed_size"
   ]
  },
  {
   "cell_type": "code",
   "execution_count": null,
   "metadata": {},
   "outputs": [],
   "source": []
  },
  {
   "cell_type": "markdown",
   "metadata": {},
   "source": [
    "## Initial Charge"
   ]
  },
  {
   "cell_type": "code",
   "execution_count": 48,
   "metadata": {},
   "outputs": [
    {
     "data": {
      "text/plain": [
       "Size Interval\n",
       "1      8.459202\n",
       "2     11.310613\n",
       "3     17.641681\n",
       "4     34.231872\n",
       "5     43.726922\n",
       "6     10.210339\n",
       "7      9.742897\n",
       "8      5.008306\n",
       "9      4.821311\n",
       "10     3.984933\n",
       "11     3.562125\n",
       "12     3.229795\n",
       "13     2.776194\n",
       "14     2.844255\n",
       "15     2.352330\n",
       "16     2.299735\n",
       "17     2.086138\n",
       "18     1.924573\n",
       "19     1.746222\n",
       "20     1.579615\n",
       "21     1.435338\n",
       "22     1.291736\n",
       "23     1.168328\n",
       "24     1.009027\n",
       "25     8.707567\n",
       "Name: Initial Charge, dtype: float64"
      ]
     },
     "execution_count": 48,
     "metadata": {},
     "output_type": "execute_result"
    }
   ],
   "source": [
    "model = SAG_open_model\n",
    "\n",
    "model.set_initial_conditions()\n",
    "model.initial_charge"
   ]
  },
  {
   "cell_type": "code",
   "execution_count": 49,
   "metadata": {},
   "outputs": [
    {
     "data": {
      "text/plain": [
       "187.1510547025435"
      ]
     },
     "execution_count": 49,
     "metadata": {},
     "output_type": "execute_result"
    }
   ],
   "source": [
    "model.initial_charge.sum()"
   ]
  },
  {
   "cell_type": "markdown",
   "metadata": {},
   "source": [
    "## Simulation 1 - Constant Breakage Rates"
   ]
  },
  {
   "cell_type": "code",
   "execution_count": 50,
   "metadata": {},
   "outputs": [],
   "source": [
    "# Number of timesteps\n",
    "nt = 50\n",
    "timestep_size = 0.5  # mins\n",
    "\n",
    "# Feedrate (tons/hr)\n",
    "feed_rates = 1000*np.ones(nt+1)\n",
    "\n",
    "# Increase feedrate after 30 timesteps\n",
    "feed_rates[25:] = 2 * feed_rates[25:]\n",
    "\n",
    "# Discharge rate function\n",
    "# From Morrell, 2004: \n",
    "# Max discharge rate is 30 1/hr for a 7 m diameter mill\n",
    "# d_max = 30/60*timestep_size = 0.25\n",
    "d_max = 30/60*timestep_size  # Max discharge rate\n",
    "c = 1 - class_efficiency  # Grate classification function\n",
    "d = d_max * c\n",
    "\n",
    "# Breakage rates\n",
    "speed_pct = 68\n",
    "load_pct = 20\n",
    "breakage_rates = breakage_function.get_breakage_rate(mid_sizes_mm, load_pct, speed_pct)\n",
    "r = timestep_size*breakage_rates\n",
    "\n",
    "#assert r[-1] == 0.0  # r=0 for smallest size fraction\n",
    "r[-1] = 0\n",
    "assert all((r + d) <= 1)\n",
    "\n",
    "# Initial charge\n",
    "x0 = model.initial_charge.values\n",
    "n_sizes = x0.shape[0]\n",
    "\n",
    "# Initialize variables\n",
    "x = np.zeros((nt+1, n_sizes))\n",
    "feed = np.zeros((nt+1, n_sizes))\n",
    "discharge = np.zeros((nt+1, n_sizes))\n",
    "discharge_rates = np.zeros(nt+1)\n",
    "x[0] = x0\n",
    "\n",
    "t = np.arange(nt+1) * timestep_size\n",
    "for k in range(1, nt+1):\n",
    "    feed[k, :] = feed_rates[k] / 60 * timestep_size * feed_size\n",
    "    x[k, :] = solve(t[k], x[k-1], f_dxdt, timestep_size, args=[feed[k, :], r, b_matrix, d])\n",
    "    discharge[k, :] = d*x[k]\n",
    "    discharge_rates[k] = discharge[k, :].sum()"
   ]
  },
  {
   "cell_type": "code",
   "execution_count": 51,
   "metadata": {},
   "outputs": [
    {
     "data": {
      "text/html": [
       "<div>\n",
       "<style scoped>\n",
       "    .dataframe tbody tr th:only-of-type {\n",
       "        vertical-align: middle;\n",
       "    }\n",
       "\n",
       "    .dataframe tbody tr th {\n",
       "        vertical-align: top;\n",
       "    }\n",
       "\n",
       "    .dataframe thead th {\n",
       "        text-align: right;\n",
       "    }\n",
       "</style>\n",
       "<table border=\"1\" class=\"dataframe\">\n",
       "  <thead>\n",
       "    <tr style=\"text-align: right;\">\n",
       "      <th>Size Interval</th>\n",
       "      <th>1</th>\n",
       "      <th>2</th>\n",
       "      <th>3</th>\n",
       "      <th>4</th>\n",
       "      <th>5</th>\n",
       "      <th>6</th>\n",
       "      <th>7</th>\n",
       "      <th>8</th>\n",
       "      <th>9</th>\n",
       "      <th>10</th>\n",
       "      <th>...</th>\n",
       "      <th>16</th>\n",
       "      <th>17</th>\n",
       "      <th>18</th>\n",
       "      <th>19</th>\n",
       "      <th>20</th>\n",
       "      <th>21</th>\n",
       "      <th>22</th>\n",
       "      <th>23</th>\n",
       "      <th>24</th>\n",
       "      <th>25</th>\n",
       "    </tr>\n",
       "    <tr>\n",
       "      <th>t</th>\n",
       "      <th></th>\n",
       "      <th></th>\n",
       "      <th></th>\n",
       "      <th></th>\n",
       "      <th></th>\n",
       "      <th></th>\n",
       "      <th></th>\n",
       "      <th></th>\n",
       "      <th></th>\n",
       "      <th></th>\n",
       "      <th></th>\n",
       "      <th></th>\n",
       "      <th></th>\n",
       "      <th></th>\n",
       "      <th></th>\n",
       "      <th></th>\n",
       "      <th></th>\n",
       "      <th></th>\n",
       "      <th></th>\n",
       "      <th></th>\n",
       "      <th></th>\n",
       "    </tr>\n",
       "  </thead>\n",
       "  <tbody>\n",
       "    <tr>\n",
       "      <th>23.0</th>\n",
       "      <td>0.79</td>\n",
       "      <td>2.73</td>\n",
       "      <td>6.94</td>\n",
       "      <td>18.26</td>\n",
       "      <td>28.90</td>\n",
       "      <td>9.62</td>\n",
       "      <td>7.92</td>\n",
       "      <td>4.11</td>\n",
       "      <td>3.75</td>\n",
       "      <td>3.46</td>\n",
       "      <td>...</td>\n",
       "      <td>5.47</td>\n",
       "      <td>5.57</td>\n",
       "      <td>5.59</td>\n",
       "      <td>5.53</td>\n",
       "      <td>5.31</td>\n",
       "      <td>5.17</td>\n",
       "      <td>4.84</td>\n",
       "      <td>4.51</td>\n",
       "      <td>3.94</td>\n",
       "      <td>25.66</td>\n",
       "    </tr>\n",
       "    <tr>\n",
       "      <th>23.5</th>\n",
       "      <td>0.79</td>\n",
       "      <td>2.73</td>\n",
       "      <td>6.96</td>\n",
       "      <td>18.34</td>\n",
       "      <td>29.04</td>\n",
       "      <td>9.67</td>\n",
       "      <td>7.96</td>\n",
       "      <td>4.13</td>\n",
       "      <td>3.77</td>\n",
       "      <td>3.48</td>\n",
       "      <td>...</td>\n",
       "      <td>5.50</td>\n",
       "      <td>5.60</td>\n",
       "      <td>5.63</td>\n",
       "      <td>5.57</td>\n",
       "      <td>5.34</td>\n",
       "      <td>5.20</td>\n",
       "      <td>4.87</td>\n",
       "      <td>4.54</td>\n",
       "      <td>3.97</td>\n",
       "      <td>25.84</td>\n",
       "    </tr>\n",
       "    <tr>\n",
       "      <th>24.0</th>\n",
       "      <td>0.79</td>\n",
       "      <td>2.74</td>\n",
       "      <td>6.98</td>\n",
       "      <td>18.41</td>\n",
       "      <td>29.17</td>\n",
       "      <td>9.72</td>\n",
       "      <td>8.00</td>\n",
       "      <td>4.15</td>\n",
       "      <td>3.79</td>\n",
       "      <td>3.50</td>\n",
       "      <td>...</td>\n",
       "      <td>5.53</td>\n",
       "      <td>5.64</td>\n",
       "      <td>5.66</td>\n",
       "      <td>5.60</td>\n",
       "      <td>5.37</td>\n",
       "      <td>5.24</td>\n",
       "      <td>4.90</td>\n",
       "      <td>4.57</td>\n",
       "      <td>3.99</td>\n",
       "      <td>26.01</td>\n",
       "    </tr>\n",
       "    <tr>\n",
       "      <th>24.5</th>\n",
       "      <td>0.79</td>\n",
       "      <td>2.74</td>\n",
       "      <td>7.00</td>\n",
       "      <td>18.48</td>\n",
       "      <td>29.29</td>\n",
       "      <td>9.77</td>\n",
       "      <td>8.04</td>\n",
       "      <td>4.17</td>\n",
       "      <td>3.81</td>\n",
       "      <td>3.51</td>\n",
       "      <td>...</td>\n",
       "      <td>5.56</td>\n",
       "      <td>5.67</td>\n",
       "      <td>5.69</td>\n",
       "      <td>5.63</td>\n",
       "      <td>5.40</td>\n",
       "      <td>5.27</td>\n",
       "      <td>4.93</td>\n",
       "      <td>4.60</td>\n",
       "      <td>4.02</td>\n",
       "      <td>26.17</td>\n",
       "    </tr>\n",
       "    <tr>\n",
       "      <th>25.0</th>\n",
       "      <td>0.79</td>\n",
       "      <td>2.74</td>\n",
       "      <td>7.01</td>\n",
       "      <td>18.54</td>\n",
       "      <td>29.41</td>\n",
       "      <td>9.81</td>\n",
       "      <td>8.07</td>\n",
       "      <td>4.18</td>\n",
       "      <td>3.82</td>\n",
       "      <td>3.52</td>\n",
       "      <td>...</td>\n",
       "      <td>5.59</td>\n",
       "      <td>5.70</td>\n",
       "      <td>5.72</td>\n",
       "      <td>5.66</td>\n",
       "      <td>5.44</td>\n",
       "      <td>5.30</td>\n",
       "      <td>4.96</td>\n",
       "      <td>4.63</td>\n",
       "      <td>4.04</td>\n",
       "      <td>26.34</td>\n",
       "    </tr>\n",
       "  </tbody>\n",
       "</table>\n",
       "<p>5 rows × 25 columns</p>\n",
       "</div>"
      ],
      "text/plain": [
       "Size Interval    1     2     3      4      5     6     7     8     9     10  \\\n",
       "t                                                                             \n",
       "23.0           0.79  2.73  6.94  18.26  28.90  9.62  7.92  4.11  3.75  3.46   \n",
       "23.5           0.79  2.73  6.96  18.34  29.04  9.67  7.96  4.13  3.77  3.48   \n",
       "24.0           0.79  2.74  6.98  18.41  29.17  9.72  8.00  4.15  3.79  3.50   \n",
       "24.5           0.79  2.74  7.00  18.48  29.29  9.77  8.04  4.17  3.81  3.51   \n",
       "25.0           0.79  2.74  7.01  18.54  29.41  9.81  8.07  4.18  3.82  3.52   \n",
       "\n",
       "Size Interval  ...    16    17    18    19    20    21    22    23    24  \\\n",
       "t              ...                                                         \n",
       "23.0           ...  5.47  5.57  5.59  5.53  5.31  5.17  4.84  4.51  3.94   \n",
       "23.5           ...  5.50  5.60  5.63  5.57  5.34  5.20  4.87  4.54  3.97   \n",
       "24.0           ...  5.53  5.64  5.66  5.60  5.37  5.24  4.90  4.57  3.99   \n",
       "24.5           ...  5.56  5.67  5.69  5.63  5.40  5.27  4.93  4.60  4.02   \n",
       "25.0           ...  5.59  5.70  5.72  5.66  5.44  5.30  4.96  4.63  4.04   \n",
       "\n",
       "Size Interval     25  \n",
       "t                     \n",
       "23.0           25.66  \n",
       "23.5           25.84  \n",
       "24.0           26.01  \n",
       "24.5           26.17  \n",
       "25.0           26.34  \n",
       "\n",
       "[5 rows x 25 columns]"
      ]
     },
     "execution_count": 51,
     "metadata": {},
     "output_type": "execute_result"
    }
   ],
   "source": [
    "# Convert results to dataframe\n",
    "columns = pd.Index(range(1, n_sizes+1), name='Size Interval')\n",
    "index = pd.Index(t, name='t')\n",
    "charge_weights = pd.DataFrame(x, columns=columns, index=index)\n",
    "charge_weights.round(2).tail()"
   ]
  },
  {
   "cell_type": "code",
   "execution_count": 52,
   "metadata": {},
   "outputs": [
    {
     "data": {
      "image/png": "[encoded data removed]",
      "text/plain": [
       "<Figure size 576x360 with 2 Axes>"
      ]
     },
     "metadata": {
      "needs_background": "light"
     },
     "output_type": "display_data"
    }
   ],
   "source": [
    "fig, axes = plt.subplots(2, 1, figsize=(8,5), sharex=True)\n",
    "\n",
    "style = '-' if feed_rates.shape[0] > 51 else '.-'\n",
    "\n",
    "ax = axes[0]\n",
    "ax.plot(t, feed_rates, style, label='feed')\n",
    "ax.plot(t, discharge_rates, style, label='discharge')\n",
    "ax.set_title('Feed and Discharge Rates')\n",
    "ax.set_ylabel('Tons / hr')\n",
    "ax.grid()\n",
    "ax.legend()\n",
    "\n",
    "ax = axes[1]\n",
    "charge_weights.plot.area(ax=ax, stacked=True, legend=False)\n",
    "ax.set_title('Mill Charge')\n",
    "ax.set_ylabel('Tons')\n",
    "ax.grid()\n",
    "#ax.legend()\n",
    "\n",
    "plt.tight_layout()\n",
    "filename = \"demo_time_series.pdf\"\n",
    "plt.savefig(os.path.join(plot_dir, filename))\n",
    "plt.show()"
   ]
  },
  {
   "cell_type": "code",
   "execution_count": 53,
   "metadata": {},
   "outputs": [
    {
     "data": {
      "image/png": "[encoded data removed]",
      "text/plain": [
       "<Figure size 576x360 with 2 Axes>"
      ]
     },
     "metadata": {
      "needs_background": "light"
     },
     "output_type": "display_data"
    }
   ],
   "source": [
    "fig, axes = plt.subplots(2, 1, sharex=True, figsize=(8,5))\n",
    "\n",
    "flow_rates = pd.DataFrame({\n",
    "    'Feed': feed[-1] / timestep_size * 60,\n",
    "    'Discharge': discharge[-1] / timestep_size * 60\n",
    "})\n",
    "\n",
    "ax = axes[0]\n",
    "flow_rates.plot.bar(ax=ax)\n",
    "ax.set_xlabel('Size interval')\n",
    "ax.set_ylabel('Tons/h')\n",
    "ax.set_title('Flowrates')\n",
    "ax.grid()\n",
    "\n",
    "ax = axes[1]\n",
    "pd.Series(charge_weights.values[-1], index=mesh.index[:-1]).plot.bar(ax=ax, \n",
    "                                                                     color='darkred')\n",
    "ax.set_xlabel('Size interval')\n",
    "ax.set_ylabel('Tons')\n",
    "ax.set_title('Internal Charge')\n",
    "ax.grid()\n",
    "\n",
    "plt.tight_layout()\n",
    "filename = \"demo_size_dist_plots.pdf\"\n",
    "plt.savefig(os.path.join(plot_dir, filename))\n",
    "plt.show()"
   ]
  },
  {
   "cell_type": "code",
   "execution_count": 54,
   "metadata": {},
   "outputs": [
    {
     "data": {
      "text/plain": [
       "182.6017409210048"
      ]
     },
     "execution_count": 54,
     "metadata": {},
     "output_type": "execute_result"
    }
   ],
   "source": [
    "charge_weights.iloc[-1].sum()"
   ]
  },
  {
   "cell_type": "code",
   "execution_count": 55,
   "metadata": {},
   "outputs": [
    {
     "data": {
      "text/plain": [
       "182.6017409210048"
      ]
     },
     "execution_count": 55,
     "metadata": {},
     "output_type": "execute_result"
    }
   ],
   "source": [
    "x[-1].sum()"
   ]
  },
  {
   "cell_type": "code",
   "execution_count": 56,
   "metadata": {},
   "outputs": [
    {
     "name": "stdout",
     "output_type": "stream",
     "text": [
      "Steady-state solution found in 62 iterations\n"
     ]
    },
    {
     "data": {
      "text/plain": [
       "{'Net Feedrate (ton/hr)': 1947.3279957132802,\n",
       " 'Mill Discharge (ton/hr)': 1947.3296571280023}"
      ]
     },
     "execution_count": 56,
     "metadata": {},
     "output_type": "execute_result"
    }
   ],
   "source": [
    "# Compare to existing steady-state models\n",
    "model = SAGMillOpenModelDefault()\n",
    "model.set_initial_conditions()\n",
    "model.solve_steady_state()\n",
    "model.calculate_flow_rates()"
   ]
  },
  {
   "cell_type": "code",
   "execution_count": 57,
   "metadata": {},
   "outputs": [
    {
     "data": {
      "text/plain": [
       "187.1510547025435"
      ]
     },
     "execution_count": 57,
     "metadata": {},
     "output_type": "execute_result"
    }
   ],
   "source": [
    "model.initial_charge.sum()"
   ]
  },
  {
   "cell_type": "code",
   "execution_count": 58,
   "metadata": {},
   "outputs": [
    {
     "data": {
      "text/html": [
       "<div>\n",
       "<style scoped>\n",
       "    .dataframe tbody tr th:only-of-type {\n",
       "        vertical-align: middle;\n",
       "    }\n",
       "\n",
       "    .dataframe tbody tr th {\n",
       "        vertical-align: top;\n",
       "    }\n",
       "\n",
       "    .dataframe thead th {\n",
       "        text-align: right;\n",
       "    }\n",
       "</style>\n",
       "<table border=\"1\" class=\"dataframe\">\n",
       "  <thead>\n",
       "    <tr style=\"text-align: right;\">\n",
       "      <th></th>\n",
       "      <th>Total</th>\n",
       "      <th>Rocks</th>\n",
       "      <th>Fines</th>\n",
       "    </tr>\n",
       "  </thead>\n",
       "  <tbody>\n",
       "    <tr>\n",
       "      <th>Make-up Feed</th>\n",
       "      <td>15.217224</td>\n",
       "      <td>11.410360</td>\n",
       "      <td>3.806864</td>\n",
       "    </tr>\n",
       "    <tr>\n",
       "      <th>Internal Feed</th>\n",
       "      <td>155.930085</td>\n",
       "      <td>140.331832</td>\n",
       "      <td>15.598252</td>\n",
       "    </tr>\n",
       "    <tr>\n",
       "      <th>Product to Grate</th>\n",
       "      <td>155.930085</td>\n",
       "      <td>129.583040</td>\n",
       "      <td>26.347045</td>\n",
       "    </tr>\n",
       "    <tr>\n",
       "      <th>Internal Recycle</th>\n",
       "      <td>140.712848</td>\n",
       "      <td>128.921471</td>\n",
       "      <td>11.791377</td>\n",
       "    </tr>\n",
       "    <tr>\n",
       "      <th>Mill Discharge</th>\n",
       "      <td>15.217237</td>\n",
       "      <td>0.661569</td>\n",
       "      <td>14.555668</td>\n",
       "    </tr>\n",
       "    <tr>\n",
       "      <th>Mill Discharge Actual</th>\n",
       "      <td>15.217237</td>\n",
       "      <td>0.661569</td>\n",
       "      <td>14.555668</td>\n",
       "    </tr>\n",
       "  </tbody>\n",
       "</table>\n",
       "</div>"
      ],
      "text/plain": [
       "                            Total       Rocks      Fines\n",
       "Make-up Feed            15.217224   11.410360   3.806864\n",
       "Internal Feed          155.930085  140.331832  15.598252\n",
       "Product to Grate       155.930085  129.583040  26.347045\n",
       "Internal Recycle       140.712848  128.921471  11.791377\n",
       "Mill Discharge          15.217237    0.661569  14.555668\n",
       "Mill Discharge Actual   15.217237    0.661569  14.555668"
      ]
     },
     "execution_count": 58,
     "metadata": {},
     "output_type": "execute_result"
    }
   ],
   "source": [
    "model.total_tons"
   ]
  },
  {
   "cell_type": "code",
   "execution_count": 59,
   "metadata": {},
   "outputs": [
    {
     "data": {
      "text/plain": [
       "0.46886473788565775"
      ]
     },
     "execution_count": 59,
     "metadata": {},
     "output_type": "execute_result"
    }
   ],
   "source": [
    "model.timestep_size"
   ]
  },
  {
   "cell_type": "code",
   "execution_count": 60,
   "metadata": {},
   "outputs": [
    {
     "data": {
      "text/plain": [
       "Make-up Feed              1947.327996\n",
       "Internal Feed            19954.166591\n",
       "Product to Grate         19954.166591\n",
       "Internal Recycle         18006.836934\n",
       "Mill Discharge            1947.329657\n",
       "Mill Discharge Actual     1947.329657\n",
       "Name: Total, dtype: float64"
      ]
     },
     "execution_count": 60,
     "metadata": {},
     "output_type": "execute_result"
    }
   ],
   "source": [
    "model.total_tons['Total']*60/model.timestep_size"
   ]
  },
  {
   "cell_type": "code",
   "execution_count": 61,
   "metadata": {},
   "outputs": [
    {
     "data": {
      "text/plain": [
       "2000.0"
      ]
     },
     "execution_count": 61,
     "metadata": {},
     "output_type": "execute_result"
    }
   ],
   "source": [
    "feed_rates[-1].sum()"
   ]
  },
  {
   "cell_type": "code",
   "execution_count": 62,
   "metadata": {},
   "outputs": [
    {
     "data": {
      "text/plain": [
       "<molycop.models.StaticBreakageModelAnalytical at 0x181cffddd0>"
      ]
     },
     "execution_count": 62,
     "metadata": {},
     "output_type": "execute_result"
    }
   ],
   "source": [
    "model.breakage_model"
   ]
  },
  {
   "cell_type": "code",
   "execution_count": 63,
   "metadata": {},
   "outputs": [
    {
     "data": {
      "text/plain": [
       "array([0.9519433 , 0.50674149, 0.28740773, 0.21447967, 0.20703645,\n",
       "       0.29806151, 0.39100192, 0.45758214, 0.47881713, 0.46252401,\n",
       "       0.41960425, 0.36478561, 0.30836936, 0.25252051, 0.20193877,\n",
       "       0.15941689, 0.12335431, 0.09453619, 0.07203162, 0.05492802,\n",
       "       0.0420796 , 0.0325398 , 0.0255201 , 0.02047876, 0.        ])"
      ]
     },
     "execution_count": 63,
     "metadata": {},
     "output_type": "execute_result"
    }
   ],
   "source": [
    "# Breakage rates (/timestep)\n",
    "r"
   ]
  },
  {
   "cell_type": "code",
   "execution_count": 64,
   "metadata": {},
   "outputs": [
    {
     "data": {
      "text/plain": [
       "array([1.90388659, 1.01348299, 0.57481547, 0.42895934, 0.41407291,\n",
       "       0.59612303, 0.78200385, 0.91516429, 0.95763425, 0.92504802,\n",
       "       0.8392085 , 0.72957122, 0.61673872, 0.50504101, 0.40387754,\n",
       "       0.31883377, 0.24670861, 0.18907239, 0.14406325, 0.10985605,\n",
       "       0.0841592 , 0.0650796 , 0.0510402 , 0.04095752, 0.        ])"
      ]
     },
     "execution_count": 64,
     "metadata": {},
     "output_type": "execute_result"
    }
   ],
   "source": [
    "# Breakage rates (/min)\n",
    "r / timestep_size"
   ]
  },
  {
   "cell_type": "code",
   "execution_count": 65,
   "metadata": {},
   "outputs": [
    {
     "data": {
      "text/plain": [
       "(0.46886473788565775, 0.5)"
      ]
     },
     "execution_count": 65,
     "metadata": {},
     "output_type": "execute_result"
    }
   ],
   "source": [
    "# Values from Molycop steady-state model\n",
    "model.timestep_size, model.breakage_model.e_bar"
   ]
  },
  {
   "cell_type": "code",
   "execution_count": 66,
   "metadata": {},
   "outputs": [
    {
     "data": {
      "text/plain": [
       "array([0.2286756 , 0.15520833, 0.14695185, 0.19277513, 0.47801916,\n",
       "       0.88501916, 0.98437872, 0.94737111, 0.86854392, 0.74740653,\n",
       "       0.61483992, 0.49472006, 0.39802471, 0.31803766, 0.25395926,\n",
       "       0.20386229, 0.16274704, 0.12992168, 0.10363712, 0.0827334 ,\n",
       "       0.06604595, 0.05272438, 0.04208979, 0.03374516, 0.        ])"
      ]
     },
     "execution_count": 66,
     "metadata": {},
     "output_type": "execute_result"
    }
   ],
   "source": [
    "# Breakage rates (/min)\n",
    "model.breakage_model.calculate_breakage_rate()"
   ]
  },
  {
   "cell_type": "code",
   "execution_count": 67,
   "metadata": {},
   "outputs": [
    {
     "data": {
      "image/png": "[encoded data removed]",
      "text/plain": [
       "<Figure size 576x288 with 1 Axes>"
      ]
     },
     "metadata": {
      "needs_background": "light"
     },
     "output_type": "display_data"
    }
   ],
   "source": [
    "# Breakage rates (/min)\n",
    "model.breakage_model.show_breakage_rates_plot(mid_sizes)"
   ]
  },
  {
   "cell_type": "code",
   "execution_count": 68,
   "metadata": {},
   "outputs": [
    {
     "data": {
      "text/html": [
       "<div>\n",
       "<style scoped>\n",
       "    .dataframe tbody tr th:only-of-type {\n",
       "        vertical-align: middle;\n",
       "    }\n",
       "\n",
       "    .dataframe tbody tr th {\n",
       "        vertical-align: top;\n",
       "    }\n",
       "\n",
       "    .dataframe thead th {\n",
       "        text-align: right;\n",
       "    }\n",
       "</style>\n",
       "<table border=\"1\" class=\"dataframe\">\n",
       "  <thead>\n",
       "    <tr style=\"text-align: right;\">\n",
       "      <th></th>\n",
       "      <th>Balls</th>\n",
       "      <th>Rocks</th>\n",
       "      <th>Self</th>\n",
       "      <th>Overall</th>\n",
       "    </tr>\n",
       "    <tr>\n",
       "      <th>Size Interval</th>\n",
       "      <th></th>\n",
       "      <th></th>\n",
       "      <th></th>\n",
       "      <th></th>\n",
       "    </tr>\n",
       "  </thead>\n",
       "  <tbody>\n",
       "    <tr>\n",
       "      <th>1</th>\n",
       "      <td>0.002595</td>\n",
       "      <td>0.000053</td>\n",
       "      <td>0.635708</td>\n",
       "      <td>0.214436</td>\n",
       "    </tr>\n",
       "    <tr>\n",
       "      <th>2</th>\n",
       "      <td>0.018671</td>\n",
       "      <td>0.000381</td>\n",
       "      <td>0.405124</td>\n",
       "      <td>0.145543</td>\n",
       "    </tr>\n",
       "    <tr>\n",
       "      <th>3</th>\n",
       "      <td>0.074888</td>\n",
       "      <td>0.001545</td>\n",
       "      <td>0.294417</td>\n",
       "      <td>0.137801</td>\n",
       "    </tr>\n",
       "    <tr>\n",
       "      <th>4</th>\n",
       "      <td>0.195186</td>\n",
       "      <td>0.004145</td>\n",
       "      <td>0.235033</td>\n",
       "      <td>0.180771</td>\n",
       "    </tr>\n",
       "    <tr>\n",
       "      <th>5</th>\n",
       "      <td>0.749922</td>\n",
       "      <td>0.019639</td>\n",
       "      <td>0.164532</td>\n",
       "      <td>0.448253</td>\n",
       "    </tr>\n",
       "    <tr>\n",
       "      <th>6</th>\n",
       "      <td>1.482842</td>\n",
       "      <td>0.076178</td>\n",
       "      <td>0.119622</td>\n",
       "      <td>0.829909</td>\n",
       "    </tr>\n",
       "    <tr>\n",
       "      <th>7</th>\n",
       "      <td>1.609950</td>\n",
       "      <td>0.182823</td>\n",
       "      <td>0.095494</td>\n",
       "      <td>0.923081</td>\n",
       "    </tr>\n",
       "    <tr>\n",
       "      <th>8</th>\n",
       "      <td>1.438389</td>\n",
       "      <td>0.362424</td>\n",
       "      <td>0.076167</td>\n",
       "      <td>0.888378</td>\n",
       "    </tr>\n",
       "    <tr>\n",
       "      <th>9</th>\n",
       "      <td>1.209594</td>\n",
       "      <td>0.508006</td>\n",
       "      <td>0.061874</td>\n",
       "      <td>0.814459</td>\n",
       "    </tr>\n",
       "    <tr>\n",
       "      <th>10</th>\n",
       "      <td>0.977341</td>\n",
       "      <td>0.538723</td>\n",
       "      <td>0.049394</td>\n",
       "      <td>0.700865</td>\n",
       "    </tr>\n",
       "    <tr>\n",
       "      <th>11</th>\n",
       "      <td>0.783036</td>\n",
       "      <td>0.476595</td>\n",
       "      <td>0.039431</td>\n",
       "      <td>0.576554</td>\n",
       "    </tr>\n",
       "    <tr>\n",
       "      <th>12</th>\n",
       "      <td>0.624486</td>\n",
       "      <td>0.392363</td>\n",
       "      <td>0.031413</td>\n",
       "      <td>0.463914</td>\n",
       "    </tr>\n",
       "    <tr>\n",
       "      <th>13</th>\n",
       "      <td>0.501090</td>\n",
       "      <td>0.317806</td>\n",
       "      <td>0.025198</td>\n",
       "      <td>0.373240</td>\n",
       "    </tr>\n",
       "    <tr>\n",
       "      <th>14</th>\n",
       "      <td>0.400058</td>\n",
       "      <td>0.254470</td>\n",
       "      <td>0.020115</td>\n",
       "      <td>0.298233</td>\n",
       "    </tr>\n",
       "    <tr>\n",
       "      <th>15</th>\n",
       "      <td>0.319375</td>\n",
       "      <td>0.203326</td>\n",
       "      <td>0.016058</td>\n",
       "      <td>0.238145</td>\n",
       "    </tr>\n",
       "    <tr>\n",
       "      <th>16</th>\n",
       "      <td>0.256355</td>\n",
       "      <td>0.163247</td>\n",
       "      <td>0.012889</td>\n",
       "      <td>0.191168</td>\n",
       "    </tr>\n",
       "    <tr>\n",
       "      <th>17</th>\n",
       "      <td>0.204648</td>\n",
       "      <td>0.130330</td>\n",
       "      <td>0.010290</td>\n",
       "      <td>0.152613</td>\n",
       "    </tr>\n",
       "    <tr>\n",
       "      <th>18</th>\n",
       "      <td>0.163371</td>\n",
       "      <td>0.104045</td>\n",
       "      <td>0.008214</td>\n",
       "      <td>0.121831</td>\n",
       "    </tr>\n",
       "    <tr>\n",
       "      <th>19</th>\n",
       "      <td>0.130319</td>\n",
       "      <td>0.082996</td>\n",
       "      <td>0.006552</td>\n",
       "      <td>0.097184</td>\n",
       "    </tr>\n",
       "    <tr>\n",
       "      <th>20</th>\n",
       "      <td>0.104033</td>\n",
       "      <td>0.066256</td>\n",
       "      <td>0.005231</td>\n",
       "      <td>0.077582</td>\n",
       "    </tr>\n",
       "    <tr>\n",
       "      <th>21</th>\n",
       "      <td>0.083050</td>\n",
       "      <td>0.052892</td>\n",
       "      <td>0.004176</td>\n",
       "      <td>0.061933</td>\n",
       "    </tr>\n",
       "    <tr>\n",
       "      <th>22</th>\n",
       "      <td>0.066298</td>\n",
       "      <td>0.042223</td>\n",
       "      <td>0.003333</td>\n",
       "      <td>0.049441</td>\n",
       "    </tr>\n",
       "    <tr>\n",
       "      <th>23</th>\n",
       "      <td>0.052926</td>\n",
       "      <td>0.033707</td>\n",
       "      <td>0.002661</td>\n",
       "      <td>0.039469</td>\n",
       "    </tr>\n",
       "    <tr>\n",
       "      <th>24</th>\n",
       "      <td>0.042433</td>\n",
       "      <td>0.027024</td>\n",
       "      <td>0.002133</td>\n",
       "      <td>0.031644</td>\n",
       "    </tr>\n",
       "    <tr>\n",
       "      <th>25</th>\n",
       "      <td>0.000000</td>\n",
       "      <td>0.000000</td>\n",
       "      <td>0.000000</td>\n",
       "      <td>0.000000</td>\n",
       "    </tr>\n",
       "  </tbody>\n",
       "</table>\n",
       "</div>"
      ],
      "text/plain": [
       "                  Balls     Rocks      Self   Overall\n",
       "Size Interval                                        \n",
       "1              0.002595  0.000053  0.635708  0.214436\n",
       "2              0.018671  0.000381  0.405124  0.145543\n",
       "3              0.074888  0.001545  0.294417  0.137801\n",
       "4              0.195186  0.004145  0.235033  0.180771\n",
       "5              0.749922  0.019639  0.164532  0.448253\n",
       "6              1.482842  0.076178  0.119622  0.829909\n",
       "7              1.609950  0.182823  0.095494  0.923081\n",
       "8              1.438389  0.362424  0.076167  0.888378\n",
       "9              1.209594  0.508006  0.061874  0.814459\n",
       "10             0.977341  0.538723  0.049394  0.700865\n",
       "11             0.783036  0.476595  0.039431  0.576554\n",
       "12             0.624486  0.392363  0.031413  0.463914\n",
       "13             0.501090  0.317806  0.025198  0.373240\n",
       "14             0.400058  0.254470  0.020115  0.298233\n",
       "15             0.319375  0.203326  0.016058  0.238145\n",
       "16             0.256355  0.163247  0.012889  0.191168\n",
       "17             0.204648  0.130330  0.010290  0.152613\n",
       "18             0.163371  0.104045  0.008214  0.121831\n",
       "19             0.130319  0.082996  0.006552  0.097184\n",
       "20             0.104033  0.066256  0.005231  0.077582\n",
       "21             0.083050  0.052892  0.004176  0.061933\n",
       "22             0.066298  0.042223  0.003333  0.049441\n",
       "23             0.052926  0.033707  0.002661  0.039469\n",
       "24             0.042433  0.027024  0.002133  0.031644\n",
       "25             0.000000  0.000000  0.000000  0.000000"
      ]
     },
     "execution_count": 68,
     "metadata": {},
     "output_type": "execute_result"
    }
   ],
   "source": [
    "# Specific breakage rates 1/(kWh/ton)\n",
    "model.breakage_model.s_matrix"
   ]
  },
  {
   "cell_type": "markdown",
   "metadata": {},
   "source": [
    "## Grinding Equations with Variable Breakage Rates"
   ]
  },
  {
   "cell_type": "code",
   "execution_count": 69,
   "metadata": {},
   "outputs": [],
   "source": [
    "def f_dxdt_vr(t, x, feed, speed_pct, b_matrix, d, mid_sizes_mm):\n",
    "    \"\"\"Ordinary differential equations describing the rate of change of\n",
    "    mill charge in each size fraction.  This is the 'General Grinding\n",
    "    Model' described in Molycop Tools spreadsheet (Eq. 3).  Note, t is\n",
    "    redundant in this case but is included for compatibility with\n",
    "    numerical solvers which are designed for the general case where dxdt\n",
    "    can be a function of time also.\n",
    "    \n",
    "    Args:\n",
    "        t (float): Time (mins).\n",
    "        x (array): Charge load (tons).\n",
    "        feed (np.ndarray): Mill feed (tons).\n",
    "        speed_pct (float): Rotational speed (% of critical speed).\n",
    "        b_matrix (array): Breakage matrix (appearance functions).\n",
    "        d (array): Discharge grate efficiencies.\n",
    "        mid_sizes_mm (series): Mid-sizes of particles in milimeters.\n",
    "    \"\"\"\n",
    "    load_pct = calculate_load_pct(x.sum())\n",
    "    breakage_rates = breakage_function.get_breakage_rate(mid_sizes_mm, load_pct, speed_pct)\n",
    "    r = breakage_rates * timestep_size\n",
    "    r[-1] = 0  # Smallest size has to be zero\n",
    "    A = r*(b_matrix - np.eye(b_matrix.shape[0])) - np.diag(d)\n",
    "    return feed + A @ x"
   ]
  },
  {
   "cell_type": "code",
   "execution_count": 70,
   "metadata": {},
   "outputs": [
    {
     "data": {
      "text/plain": [
       "array([-7.58557453,  0.32847889, -0.06675598,  0.81003122,  1.44122806,\n",
       "        1.17675955,  0.04919351, -0.05761526, -0.39357004, -0.21057971,\n",
       "       -0.27421331,  0.2543358 ,  0.50199992,  0.7941209 ,  0.92679827,\n",
       "        1.1134805 ,  1.17857799,  1.21550292,  1.19997134,  1.11145538,\n",
       "        1.03918276,  0.91692121,  0.80276649,  0.65786405,  3.02368361])"
      ]
     },
     "execution_count": 70,
     "metadata": {},
     "output_type": "execute_result"
    }
   ],
   "source": [
    "# Test derivative calculations\n",
    "speed_pct = 75\n",
    "\n",
    "# Discharge rate function\n",
    "d_max = 30/60*timestep_size  # Max discharge rate\n",
    "c = 1 - class_efficiency  # Grate classification function\n",
    "d = d_max * c\n",
    "\n",
    "t = 0\n",
    "dxdt = f_dxdt_vr(t, x0, feed[-1, :], speed_pct, b_matrix, d, mid_sizes_mm)\n",
    "dxdt"
   ]
  },
  {
   "cell_type": "code",
   "execution_count": 71,
   "metadata": {},
   "outputs": [
    {
     "data": {
      "text/plain": [
       "array([ 5.50184896, 11.09915302, 17.57881964, 34.61355332, 44.4239951 ,\n",
       "       10.7128012 ,  9.71297609,  4.94414812,  4.6103422 ,  3.84976852,\n",
       "        3.40717299,  3.29191434,  2.96230512,  3.17095811,  2.75808647,\n",
       "        2.80240273,  2.63111757,  2.4944347 ,  2.31761421,  2.11597827,\n",
       "        1.94362612,  1.74543952,  1.56985109,  1.34103733, 10.27716019])"
      ]
     },
     "execution_count": 71,
     "metadata": {},
     "output_type": "execute_result"
    }
   ],
   "source": [
    "# Test solver\n",
    "t = 0\n",
    "x0 = model.initial_charge.values\n",
    "timestep_size = 0.5\n",
    "x1 = solve(t, x0, f_dxdt_vr, timestep_size, args=[feed[-1, :], speed_pct, b_matrix, d, mid_sizes_mm])\n",
    "x1"
   ]
  },
  {
   "cell_type": "markdown",
   "metadata": {},
   "source": [
    "## Simulation 2 - Variable Breakage Rates"
   ]
  },
  {
   "cell_type": "code",
   "execution_count": 72,
   "metadata": {},
   "outputs": [],
   "source": [
    "# Number of timesteps\n",
    "nt = 50\n",
    "timestep_size = 0.5  # mins\n",
    "\n",
    "# Control inputs\n",
    "speed_pct_values = np.full((nt+1,), 68)\n",
    "speed_pct_values[30:] = 80\n",
    "\n",
    "# Feedrate (tons/hr)\n",
    "feed_rates = 1000*np.ones(nt+1)\n",
    "\n",
    "# Increase feedrate after 30 timesteps\n",
    "feed_rates[25:] = 2 * feed_rates[25:]\n",
    "\n",
    "charge_filling_levels = np.zeros_like(speed_pct_values).astype(float)\n",
    "\n",
    "# Discharge rate function\n",
    "# From Morrell, 2004: \n",
    "# Max discharge rate is 30 1/hr for a 7 m diameter mill\n",
    "# d_max = 30/60*timestep_size = 0.25\n",
    "d_max = 30/60*timestep_size  # Max discharge rate# Discharge rate function\n",
    "d_max = 0.25  # Transport to grate TODO: Not sure what value to make this\n",
    "c = 1 - class_efficiency  # Grate classification function\n",
    "d = d_max * c\n",
    "\n",
    "#assert r[-1] == 0.0  # r=0 for smallest size fraction\n",
    "r[-1] = 0\n",
    "assert all((r + d) <= 1)\n",
    "\n",
    "# Initial charge\n",
    "x0 = model.initial_charge.values\n",
    "n_sizes = x0.shape[0]\n",
    "\n",
    "# Initialize variables\n",
    "x = np.zeros((nt+1, n_sizes))\n",
    "feed = np.zeros((nt+1, n_sizes))\n",
    "discharge = np.zeros((nt+1, n_sizes))\n",
    "discharge_rates = np.zeros(nt+1)\n",
    "x[0] = x0\n",
    "\n",
    "t = np.arange(nt+1) * timestep_size\n",
    "for k in range(1, nt+1):\n",
    "    feed[k, :] = feed_rates[k] / 60 * timestep_size * feed_size\n",
    "    speed = speed_pct_values[k]\n",
    "    x[k, :] = solve(t[k], x[k-1], f_dxdt_vr, timestep_size, args=[feed[k, :], speed, b_matrix, d, mid_sizes_mm])\n",
    "    charge_filling_levels[k] = calculate_load_pct(x[k].sum())\n",
    "    discharge[k, :] = d*x[k]\n",
    "    discharge_rates[k] = discharge[k, :].sum()\n"
   ]
  },
  {
   "cell_type": "code",
   "execution_count": 73,
   "metadata": {},
   "outputs": [
    {
     "data": {
      "text/html": [
       "<div>\n",
       "<style scoped>\n",
       "    .dataframe tbody tr th:only-of-type {\n",
       "        vertical-align: middle;\n",
       "    }\n",
       "\n",
       "    .dataframe tbody tr th {\n",
       "        vertical-align: top;\n",
       "    }\n",
       "\n",
       "    .dataframe thead th {\n",
       "        text-align: right;\n",
       "    }\n",
       "</style>\n",
       "<table border=\"1\" class=\"dataframe\">\n",
       "  <thead>\n",
       "    <tr style=\"text-align: right;\">\n",
       "      <th>Size Interval</th>\n",
       "      <th>1</th>\n",
       "      <th>2</th>\n",
       "      <th>3</th>\n",
       "      <th>4</th>\n",
       "      <th>5</th>\n",
       "      <th>6</th>\n",
       "      <th>7</th>\n",
       "      <th>8</th>\n",
       "      <th>9</th>\n",
       "      <th>10</th>\n",
       "      <th>...</th>\n",
       "      <th>16</th>\n",
       "      <th>17</th>\n",
       "      <th>18</th>\n",
       "      <th>19</th>\n",
       "      <th>20</th>\n",
       "      <th>21</th>\n",
       "      <th>22</th>\n",
       "      <th>23</th>\n",
       "      <th>24</th>\n",
       "      <th>25</th>\n",
       "    </tr>\n",
       "    <tr>\n",
       "      <th>t</th>\n",
       "      <th></th>\n",
       "      <th></th>\n",
       "      <th></th>\n",
       "      <th></th>\n",
       "      <th></th>\n",
       "      <th></th>\n",
       "      <th></th>\n",
       "      <th></th>\n",
       "      <th></th>\n",
       "      <th></th>\n",
       "      <th></th>\n",
       "      <th></th>\n",
       "      <th></th>\n",
       "      <th></th>\n",
       "      <th></th>\n",
       "      <th></th>\n",
       "      <th></th>\n",
       "      <th></th>\n",
       "      <th></th>\n",
       "      <th></th>\n",
       "      <th></th>\n",
       "    </tr>\n",
       "  </thead>\n",
       "  <tbody>\n",
       "    <tr>\n",
       "      <th>0.0</th>\n",
       "      <td>8.46</td>\n",
       "      <td>11.31</td>\n",
       "      <td>17.64</td>\n",
       "      <td>34.23</td>\n",
       "      <td>43.73</td>\n",
       "      <td>10.21</td>\n",
       "      <td>9.74</td>\n",
       "      <td>5.01</td>\n",
       "      <td>4.82</td>\n",
       "      <td>3.98</td>\n",
       "      <td>...</td>\n",
       "      <td>2.30</td>\n",
       "      <td>2.09</td>\n",
       "      <td>1.92</td>\n",
       "      <td>1.75</td>\n",
       "      <td>1.58</td>\n",
       "      <td>1.44</td>\n",
       "      <td>1.29</td>\n",
       "      <td>1.17</td>\n",
       "      <td>1.01</td>\n",
       "      <td>8.71</td>\n",
       "    </tr>\n",
       "    <tr>\n",
       "      <th>0.5</th>\n",
       "      <td>6.76</td>\n",
       "      <td>11.07</td>\n",
       "      <td>17.38</td>\n",
       "      <td>34.04</td>\n",
       "      <td>43.42</td>\n",
       "      <td>10.29</td>\n",
       "      <td>9.28</td>\n",
       "      <td>4.66</td>\n",
       "      <td>4.30</td>\n",
       "      <td>3.57</td>\n",
       "      <td>...</td>\n",
       "      <td>2.68</td>\n",
       "      <td>2.53</td>\n",
       "      <td>2.41</td>\n",
       "      <td>2.24</td>\n",
       "      <td>2.05</td>\n",
       "      <td>1.89</td>\n",
       "      <td>1.70</td>\n",
       "      <td>1.53</td>\n",
       "      <td>1.31</td>\n",
       "      <td>10.06</td>\n",
       "    </tr>\n",
       "    <tr>\n",
       "      <th>1.0</th>\n",
       "      <td>5.43</td>\n",
       "      <td>10.68</td>\n",
       "      <td>17.11</td>\n",
       "      <td>33.83</td>\n",
       "      <td>43.12</td>\n",
       "      <td>10.33</td>\n",
       "      <td>8.87</td>\n",
       "      <td>4.35</td>\n",
       "      <td>3.89</td>\n",
       "      <td>3.24</td>\n",
       "      <td>...</td>\n",
       "      <td>2.95</td>\n",
       "      <td>2.87</td>\n",
       "      <td>2.79</td>\n",
       "      <td>2.65</td>\n",
       "      <td>2.46</td>\n",
       "      <td>2.29</td>\n",
       "      <td>2.07</td>\n",
       "      <td>1.86</td>\n",
       "      <td>1.59</td>\n",
       "      <td>11.41</td>\n",
       "    </tr>\n",
       "    <tr>\n",
       "      <th>1.5</th>\n",
       "      <td>4.40</td>\n",
       "      <td>10.20</td>\n",
       "      <td>16.82</td>\n",
       "      <td>33.61</td>\n",
       "      <td>42.82</td>\n",
       "      <td>10.34</td>\n",
       "      <td>8.51</td>\n",
       "      <td>4.10</td>\n",
       "      <td>3.57</td>\n",
       "      <td>2.97</td>\n",
       "      <td>...</td>\n",
       "      <td>3.15</td>\n",
       "      <td>3.13</td>\n",
       "      <td>3.10</td>\n",
       "      <td>2.99</td>\n",
       "      <td>2.80</td>\n",
       "      <td>2.63</td>\n",
       "      <td>2.39</td>\n",
       "      <td>2.17</td>\n",
       "      <td>1.85</td>\n",
       "      <td>12.72</td>\n",
       "    </tr>\n",
       "    <tr>\n",
       "      <th>2.0</th>\n",
       "      <td>3.60</td>\n",
       "      <td>9.67</td>\n",
       "      <td>16.52</td>\n",
       "      <td>33.37</td>\n",
       "      <td>42.51</td>\n",
       "      <td>10.33</td>\n",
       "      <td>8.19</td>\n",
       "      <td>3.88</td>\n",
       "      <td>3.31</td>\n",
       "      <td>2.75</td>\n",
       "      <td>...</td>\n",
       "      <td>3.29</td>\n",
       "      <td>3.33</td>\n",
       "      <td>3.35</td>\n",
       "      <td>3.27</td>\n",
       "      <td>3.08</td>\n",
       "      <td>2.93</td>\n",
       "      <td>2.67</td>\n",
       "      <td>2.43</td>\n",
       "      <td>2.08</td>\n",
       "      <td>13.97</td>\n",
       "    </tr>\n",
       "  </tbody>\n",
       "</table>\n",
       "<p>5 rows × 25 columns</p>\n",
       "</div>"
      ],
      "text/plain": [
       "Size Interval    1      2      3      4      5      6     7     8     9   \\\n",
       "t                                                                          \n",
       "0.0            8.46  11.31  17.64  34.23  43.73  10.21  9.74  5.01  4.82   \n",
       "0.5            6.76  11.07  17.38  34.04  43.42  10.29  9.28  4.66  4.30   \n",
       "1.0            5.43  10.68  17.11  33.83  43.12  10.33  8.87  4.35  3.89   \n",
       "1.5            4.40  10.20  16.82  33.61  42.82  10.34  8.51  4.10  3.57   \n",
       "2.0            3.60   9.67  16.52  33.37  42.51  10.33  8.19  3.88  3.31   \n",
       "\n",
       "Size Interval    10  ...    16    17    18    19    20    21    22    23  \\\n",
       "t                    ...                                                   \n",
       "0.0            3.98  ...  2.30  2.09  1.92  1.75  1.58  1.44  1.29  1.17   \n",
       "0.5            3.57  ...  2.68  2.53  2.41  2.24  2.05  1.89  1.70  1.53   \n",
       "1.0            3.24  ...  2.95  2.87  2.79  2.65  2.46  2.29  2.07  1.86   \n",
       "1.5            2.97  ...  3.15  3.13  3.10  2.99  2.80  2.63  2.39  2.17   \n",
       "2.0            2.75  ...  3.29  3.33  3.35  3.27  3.08  2.93  2.67  2.43   \n",
       "\n",
       "Size Interval    24     25  \n",
       "t                           \n",
       "0.0            1.01   8.71  \n",
       "0.5            1.31  10.06  \n",
       "1.0            1.59  11.41  \n",
       "1.5            1.85  12.72  \n",
       "2.0            2.08  13.97  \n",
       "\n",
       "[5 rows x 25 columns]"
      ]
     },
     "execution_count": 73,
     "metadata": {},
     "output_type": "execute_result"
    }
   ],
   "source": [
    "# Convert results to dataframe\n",
    "columns = pd.Index(range(1, n_sizes+1), name='Size Interval')\n",
    "index = pd.Index(t, name='t')\n",
    "charge_weights = pd.DataFrame(x, columns=columns, index=index)\n",
    "charge_weights.round(2).head()"
   ]
  },
  {
   "cell_type": "code",
   "execution_count": 74,
   "metadata": {},
   "outputs": [
    {
     "data": {
      "image/png": "[encoded data removed]",
      "text/plain": [
       "<Figure size 648x396 with 3 Axes>"
      ]
     },
     "metadata": {
      "needs_background": "light"
     },
     "output_type": "display_data"
    }
   ],
   "source": [
    "fig, axes = plt.subplots(3, 1, figsize=(9,5.5), sharex=True)\n",
    "\n",
    "style = '-' if speed_pct_values.shape[0] > 51 else '.-'\n",
    "\n",
    "ax = axes[0]\n",
    "ax.plot(t, speed_pct_values, style, label='Speed')\n",
    "ax.plot(t, charge_filling_levels, style, label='Load')\n",
    "ax.set_ylim(25,90)\n",
    "ax.set_title('Speed and Filling Level')\n",
    "ax.set_xlabel('t')\n",
    "ax.set_ylabel('(%)')\n",
    "ax.grid()\n",
    "ax.legend()\n",
    "\n",
    "ax = axes[1]\n",
    "ax.plot(t, feed_rates / timestep_size, style, label='feed')\n",
    "ax.plot(t, discharge_rates / timestep_size, style, label='discharge')\n",
    "ax.set_title('Feed and Discharge Rates')\n",
    "ax.set_ylabel('Tons / hr')\n",
    "ax.grid()\n",
    "ax.legend()\n",
    "\n",
    "ax = axes[2]\n",
    "charge_weights.plot.area(ax=ax, stacked=True, legend=False)\n",
    "ax.set_title('Mill Charge')\n",
    "ax.set_xlabel('t (mins)')\n",
    "ax.set_ylabel('Tons')\n",
    "ax.grid()\n",
    "#ax.legend()\n",
    "\n",
    "plt.tight_layout()\n",
    "filename = \"demo_time_series_vr.pdf\"\n",
    "plt.savefig(os.path.join(plot_dir, filename))\n",
    "plt.show()"
   ]
  },
  {
   "cell_type": "code",
   "execution_count": 75,
   "metadata": {},
   "outputs": [
    {
     "data": {
      "image/png": "[encoded data removed]",
      "text/plain": [
       "<Figure size 576x360 with 2 Axes>"
      ]
     },
     "metadata": {
      "needs_background": "light"
     },
     "output_type": "display_data"
    }
   ],
   "source": [
    "fig, axes = plt.subplots(2, 1, sharex=True, figsize=(8,5))\n",
    "\n",
    "flow_rates = pd.DataFrame({\n",
    "    'Feed': feed[-1] / timestep_size * 60,\n",
    "    'Discharge': discharge[-1] / timestep_size * 60\n",
    "})\n",
    "\n",
    "ax = axes[0]\n",
    "flow_rates.plot.bar(ax=ax)\n",
    "ax.set_xlabel('Size interval')\n",
    "ax.set_ylabel('Tons/h')\n",
    "ax.set_title('Flowrates')\n",
    "ax.grid()\n",
    "\n",
    "ax = axes[1]\n",
    "pd.Series(charge_weights.values[-1], index=mesh.index[:-1]).plot.bar(ax=ax, \n",
    "                                                                     color='darkred')\n",
    "ax.set_xlabel('Size interval')\n",
    "ax.set_ylabel('Tons')\n",
    "ax.set_title('Internal Charge')\n",
    "ax.grid()\n",
    "\n",
    "plt.tight_layout()\n",
    "filename = \"demo_size_dist_plots_vr.pdf\"\n",
    "plt.savefig(os.path.join(plot_dir, filename))\n",
    "plt.show()"
   ]
  },
  {
   "cell_type": "code",
   "execution_count": 76,
   "metadata": {},
   "outputs": [],
   "source": [
    "def calculate_passing_pct(flows):\n",
    "    \"\"\"Calculates the cumulative size distribution\n",
    "    (% passing) from the quantities in the series flows.\n",
    "\n",
    "    Args:\n",
    "        flows (pd.Series): Flow quantities (usually tons).\n",
    "    \"\"\"\n",
    "    retained_pct = flows*100/flows.sum()\n",
    "    return retained_pct[::-1].cumsum()[::-1]"
   ]
  },
  {
   "cell_type": "code",
   "execution_count": 77,
   "metadata": {},
   "outputs": [
    {
     "data": {
      "text/plain": [
       "array([100.        ,  98.7012987 ,  97.4025974 ,  96.1038961 ,\n",
       "        94.80519481,  93.50649351,  92.20779221,  90.90909091,\n",
       "        89.61038961,  88.31168831,  87.01298701,  85.71428571,\n",
       "        84.41558442,  83.11688312,  81.81818182,  80.51948052,\n",
       "        79.22077922,  77.92207792,  76.62337662,  75.32467532,\n",
       "        74.02597403,  72.72727273,  71.42857143,  70.12987013,\n",
       "        68.83116883,  67.53246753,  64.93506494,  62.33766234,\n",
       "        59.74025974,  57.14285714,  54.54545455,  51.94805195,\n",
       "        49.35064935,  46.75324675,  44.15584416,  41.55844156,\n",
       "        38.96103896,  36.36363636,  33.76623377,  31.16883117,\n",
       "        28.57142857,  25.97402597,  23.37662338,  20.77922078,\n",
       "        18.18181818,  15.58441558,  12.98701299,  10.38961039,\n",
       "         7.79220779,   5.19480519,   2.5974026 ])"
      ]
     },
     "execution_count": 77,
     "metadata": {},
     "output_type": "execute_result"
    }
   ],
   "source": [
    "calculate_passing_pct(feed_rates)"
   ]
  },
  {
   "cell_type": "code",
   "execution_count": 78,
   "metadata": {},
   "outputs": [
    {
     "data": {
      "image/png": "[encoded data removed]",
      "text/plain": [
       "<Figure size 432x288 with 1 Axes>"
      ]
     },
     "metadata": {
      "needs_background": "light"
     },
     "output_type": "display_data"
    }
   ],
   "source": [
    "feed_passing_pct = calculate_passing_pct(feed[-1])\n",
    "discharge_passing_pct = calculate_passing_pct(discharge[-1])\n",
    "\n",
    "plt.plot(mid_sizes_mm, feed_passing_pct, label='Feed', marker='.')\n",
    "plt.plot(mid_sizes_mm, discharge_passing_pct, label='Discharge', marker='.')\n",
    "plt.title('Cumulative Size Distributions')\n",
    "plt.xlabel('Particle size (mm)')\n",
    "plt.ylabel('% passing')\n",
    "plt.xscale('log')\n",
    "plt.yscale('log')\n",
    "plt.grid()\n",
    "plt.legend()\n",
    "plt.show()"
   ]
  },
  {
   "cell_type": "markdown",
   "metadata": {},
   "source": [
    "## Add stochastic elements and disturbances"
   ]
  },
  {
   "cell_type": "code",
   "execution_count": 79,
   "metadata": {},
   "outputs": [
    {
     "data": {
      "image/png": "[encoded data removed]",
      "text/plain": [
       "<Figure size 720x252 with 1 Axes>"
      ]
     },
     "metadata": {
      "needs_background": "light"
     },
     "output_type": "display_data"
    }
   ],
   "source": [
    "# Introduce randomness into rock breakage\n",
    "sizes = [1, 2, 18]\n",
    "\n",
    "plot_data = {}\n",
    "for size in sizes:\n",
    "    appearance_function = pd.Series(b_matrix[:, size-1], index=mesh.index[:-1])\n",
    "    assert appearance_function.sum() == 1\n",
    "    plot_data[f'Size {size}'] = appearance_function\n",
    "df = pd.DataFrame(plot_data, index=mesh.index[:-1])\n",
    "\n",
    "df.plot.bar(figsize=(10,3.5))\n",
    "plt.title('Appearance Probabilities for Selected Particle Sizes')\n",
    "plt.xlabel('Particle size index')\n",
    "plt.ylabel('Probability of appearance')\n",
    "plt.legend()\n",
    "plt.grid()\n",
    "plt.show()"
   ]
  },
  {
   "cell_type": "code",
   "execution_count": 80,
   "metadata": {},
   "outputs": [
    {
     "name": "stdout",
     "output_type": "stream",
     "text": [
      "(100, 24)\n"
     ]
    }
   ],
   "source": [
    "# Use Dirichlet probability distribution\n",
    "# From wikipedia: \n",
    "#   \"This distribution can be used if one wanted to cut strings \n",
    "#   (each of initial length 1.0) into K pieces with different \n",
    "#   lengths, where each piece had, on average, a designated \n",
    "#   average length, but allowing some variation in the relative \n",
    "#   sizes of the pieces\"\n",
    "\n",
    "size = 1\n",
    "appearance_function = pd.Series(b_matrix[size:, size-1], index=mesh.index[size:-1])\n",
    "assert appearance_function.sum() == 1\n",
    "\n",
    "n = 100\n",
    "v = 100\n",
    "samples = np.random.dirichlet(v*appearance_function.values, size=n)\n",
    "print(samples.shape)\n",
    "assert np.allclose(samples.sum(axis=1), 1)\n",
    "\n",
    "means = samples.mean(axis=0)\n",
    "stds = samples.std(axis=0)\n",
    "max_values = samples.max(axis=0)\n",
    "min_values = samples.min(axis=0)"
   ]
  },
  {
   "cell_type": "code",
   "execution_count": 81,
   "metadata": {},
   "outputs": [
    {
     "data": {
      "image/png": "[encoded data removed]",
      "text/plain": [
       "<Figure size 432x288 with 1 Axes>"
      ]
     },
     "metadata": {
      "needs_background": "light"
     },
     "output_type": "display_data"
    }
   ],
   "source": [
    "pd.DataFrame({\n",
    "    'PDF': appearance_function,\n",
    "    'Sample mean': means,\n",
    "    'Sample 25%': np.quantile(samples, 0.25, axis=0),\n",
    "    'Sample 75%': np.quantile(samples, 0.75, axis=0),\n",
    "    'Sample min': min_values,\n",
    "    'Sample max': max_values\n",
    "}).plot(grid=True)\n",
    "plt.show()"
   ]
  },
  {
   "cell_type": "code",
   "execution_count": 82,
   "metadata": {},
   "outputs": [
    {
     "data": {
      "text/plain": [
       "array([[0.5 , 0.31, 0.19],\n",
       "       [0.55, 0.3 , 0.15],\n",
       "       [0.51, 0.25, 0.24],\n",
       "       [0.52, 0.23, 0.24],\n",
       "       [0.5 , 0.3 , 0.19],\n",
       "       [0.5 , 0.31, 0.18],\n",
       "       [0.44, 0.34, 0.21],\n",
       "       [0.51, 0.31, 0.18],\n",
       "       [0.56, 0.26, 0.19],\n",
       "       [0.48, 0.28, 0.24]])"
      ]
     },
     "execution_count": 82,
     "metadata": {},
     "output_type": "execute_result"
    }
   ],
   "source": [
    "breakage_pdf = np.array([0.5, 0.3, 0.2])\n",
    "assert sum(breakage_pdf) == 1\n",
    "v = 100\n",
    "samples = np.random.dirichlet(alpha=v*breakage_pdf, size=10)\n",
    "assert np.allclose(samples.sum(axis=1), 1)\n",
    "samples.round(2)"
   ]
  },
  {
   "cell_type": "code",
   "execution_count": 83,
   "metadata": {},
   "outputs": [
    {
     "data": {
      "text/plain": [
       "5"
      ]
     },
     "execution_count": 83,
     "metadata": {},
     "output_type": "execute_result"
    }
   ],
   "source": [
    "assert breakage_pdf.sum() == 1\n",
    "results = {}\n",
    "for v in [0.1, 1,  10, 100, 1000]:\n",
    "    samples = np.random.dirichlet(v*breakage_pdf, size=n)\n",
    "    assert np.allclose(samples.sum(axis=1), 1, rtol=0.01)\n",
    "    results[v] = samples\n",
    "len(results)"
   ]
  },
  {
   "cell_type": "code",
   "execution_count": 84,
   "metadata": {},
   "outputs": [
    {
     "data": {
      "image/png": "[encoded data removed]",
      "text/plain": [
       "<Figure size 432x288 with 1 Axes>"
      ]
     },
     "metadata": {
      "needs_background": "light"
     },
     "output_type": "display_data"
    }
   ],
   "source": [
    "plt.figure()\n",
    "for v, samples in results.items():\n",
    "    plt.plot(samples.mean(axis=0), 'o', label=f'v = {v}')\n",
    "plt.plot(breakage_pdf, '-', label='PDF')\n",
    "plt.title('Sample means compared to PDF')\n",
    "plt.grid()\n",
    "plt.legend()\n",
    "plt.show()"
   ]
  },
  {
   "cell_type": "code",
   "execution_count": 85,
   "metadata": {},
   "outputs": [
    {
     "data": {
      "image/png": "[encoded data removed]",
      "text/plain": [
       "<Figure size 432x288 with 1 Axes>"
      ]
     },
     "metadata": {
      "needs_background": "light"
     },
     "output_type": "display_data"
    }
   ],
   "source": [
    "plt.figure()\n",
    "for v, samples in results.items():\n",
    "    plt.plot(samples.std(axis=0), 'o', label=f'v = {v}')\n",
    "plt.plot(np.zeros(samples.shape[1]), '-', label='PDF')\n",
    "plt.title('Sample std. dev. compared to PDF')\n",
    "plt.grid()\n",
    "plt.legend()\n",
    "plt.show()"
   ]
  },
  {
   "cell_type": "code",
   "execution_count": 86,
   "metadata": {},
   "outputs": [
    {
     "data": {
      "text/plain": [
       "<matplotlib.axes._subplots.AxesSubplot at 0x181cda6990>"
      ]
     },
     "execution_count": 86,
     "metadata": {},
     "output_type": "execute_result"
    },
    {
     "data": {
      "image/png": "[encoded data removed]",
      "text/plain": [
       "<Figure size 432x288 with 1 Axes>"
      ]
     },
     "metadata": {
      "needs_background": "light"
     },
     "output_type": "display_data"
    }
   ],
   "source": [
    "# Box plot doesn't handle these distributions too well...\n",
    "pd.DataFrame(samples).boxplot()"
   ]
  },
  {
   "cell_type": "code",
   "execution_count": 87,
   "metadata": {},
   "outputs": [
    {
     "data": {
      "text/plain": [
       "array([0.5, 0.3, 0.2])"
      ]
     },
     "execution_count": 87,
     "metadata": {},
     "output_type": "execute_result"
    }
   ],
   "source": [
    "breakage_pdf"
   ]
  },
  {
   "cell_type": "code",
   "execution_count": 88,
   "metadata": {},
   "outputs": [
    {
     "data": {
      "text/plain": [
       "3.0"
      ]
     },
     "execution_count": 88,
     "metadata": {},
     "output_type": "execute_result"
    }
   ],
   "source": [
    "np.linalg.norm(breakage_pdf, ord=0)"
   ]
  },
  {
   "cell_type": "code",
   "execution_count": 89,
   "metadata": {},
   "outputs": [
    {
     "data": {
      "text/plain": [
       "1.0"
      ]
     },
     "execution_count": 89,
     "metadata": {},
     "output_type": "execute_result"
    }
   ],
   "source": [
    "np.linalg.norm(breakage_pdf, ord=1)"
   ]
  },
  {
   "cell_type": "code",
   "execution_count": 90,
   "metadata": {},
   "outputs": [
    {
     "data": {
      "text/plain": [
       "0.6164414002968976"
      ]
     },
     "execution_count": 90,
     "metadata": {},
     "output_type": "execute_result"
    }
   ],
   "source": [
    "np.linalg.norm(breakage_pdf, ord=2)"
   ]
  },
  {
   "cell_type": "code",
   "execution_count": 91,
   "metadata": {},
   "outputs": [
    {
     "data": {
      "text/plain": [
       "array([0.058, 0.   , 0.   , 0.177, 0.296, 0.038, 0.046, 0.023, 0.012,\n",
       "       0.006, 0.002, 0.005, 0.002, 0.005, 0.02 , 0.003, 0.007, 0.003,\n",
       "       0.009, 0.022, 0.013, 0.008, 0.016, 0.021, 0.053])"
      ]
     },
     "execution_count": 91,
     "metadata": {},
     "output_type": "execute_result"
    }
   ],
   "source": [
    "def sample_random_psd(psd_mean, v=100, size=1):\n",
    "    nz = np.nonzero(psd_mean)\n",
    "    assert len(nz) == 1, \"psd_mean must be one-dimensional\"\n",
    "    norm = psd_mean.sum()\n",
    "    psd = np.zeros((size, psd_mean.shape[0]))\n",
    "    psd[:, nz[0]] = norm * np.random.dirichlet(v*psd_mean[nz]/norm, size=size)\n",
    "    if size == 1:\n",
    "        return psd.reshape(-1)\n",
    "    else:\n",
    "        return psd\n",
    "\n",
    "feed = np.array([0.045, 0.   , 0.   , 0.183, 0.234, 0.055, 0.052, 0.027, 0.026,\n",
    "       0.021, 0.019, 0.017, 0.015, 0.015, 0.013, 0.012, 0.011, 0.01 ,\n",
    "       0.009, 0.008, 0.008, 0.007, 0.006, 0.005, 0.047])\n",
    "feed_sample = sample_random_psd(feed)\n",
    "assert feed_sample.shape == feed.shape\n",
    "assert np.isclose(feed_sample.sum(), feed.sum())\n",
    "feed_sample.round(3)"
   ]
  },
  {
   "cell_type": "code",
   "execution_count": 92,
   "metadata": {},
   "outputs": [
    {
     "data": {
      "image/png": "[encoded data removed]",
      "text/plain": [
       "<Figure size 432x288 with 1 Axes>"
      ]
     },
     "metadata": {
      "needs_background": "light"
     },
     "output_type": "display_data"
    }
   ],
   "source": [
    "v = 100\n",
    "random_samples = sample_random_psd(feed, v=v, size=1000)\n",
    "\n",
    "i = mesh.index[0:-1]\n",
    "low = np.quantile(random_samples, 0.05, axis=0)\n",
    "high = np.quantile(random_samples, 0.95, axis=0)\n",
    "\n",
    "plt.fill_between(i, low, high, facecolor='blue', alpha=0.25)\n",
    "plt.plot(i, feed, marker='.', label='Mean PSD')\n",
    "plt.title('Random Variation in Particle Size Distribution')\n",
    "plt.xlabel('Size interval')\n",
    "plt.ylabel('Mass fraction')\n",
    "plt.grid()\n",
    "plt.legend()\n",
    "plt.show()"
   ]
  },
  {
   "cell_type": "code",
   "execution_count": 93,
   "metadata": {},
   "outputs": [
    {
     "data": {
      "image/png": "[encoded data removed]",
      "text/plain": [
       "<Figure size 432x288 with 1 Axes>"
      ]
     },
     "metadata": {
      "needs_background": "light"
     },
     "output_type": "display_data"
    }
   ],
   "source": [
    "low = np.quantile(random_samples, 0.05, axis=0)\n",
    "high = np.quantile(random_samples, 0.95, axis=0)\n",
    "\n",
    "plt.fill_between(mid_sizes_mm, low, high, facecolor='blue', alpha=0.25)\n",
    "plt.plot(mid_sizes_mm, feed, marker='.', label='Mean PSD')\n",
    "plt.title('Random Variation in Particle Size Distribution')\n",
    "plt.xscale('log')\n",
    "plt.xlabel('Particle size (mm)')\n",
    "plt.ylabel('Mass fraction')\n",
    "plt.grid()\n",
    "plt.legend()\n",
    "plt.show()"
   ]
  },
  {
   "cell_type": "code",
   "execution_count": 94,
   "metadata": {},
   "outputs": [],
   "source": [
    "def sample_random_b_matrix(b_matrix, v=100):\n",
    "    \"\"\"Randomize b_matrix\"\"\"\n",
    "    random_b_matrix = np.zeros_like(b_matrix)\n",
    "    for j in range(b_matrix.shape[1]):\n",
    "        random_b_matrix[:, j] = sample_random_psd(b_matrix[:, j], v=v, size=1)\n",
    "    return random_b_matrix\n",
    "\n",
    "random_b_matrix = sample_random_b_matrix(b_matrix)\n",
    "assert random_b_matrix.shape == b_matrix.shape\n",
    "assert np.allclose(random_b_matrix[:,:-1].sum(axis=0), 1)"
   ]
  },
  {
   "cell_type": "code",
   "execution_count": 95,
   "metadata": {},
   "outputs": [
    {
     "data": {
      "text/plain": [
       "array([[0.  , 0.  , 0.  , 0.  , 0.  ],\n",
       "       [0.51, 0.  , 0.  , 0.  , 0.  ],\n",
       "       [0.06, 0.31, 0.  , 0.  , 0.  ],\n",
       "       [0.03, 0.19, 0.38, 0.  , 0.  ],\n",
       "       [0.02, 0.09, 0.18, 0.48, 0.  ]])"
      ]
     },
     "execution_count": 95,
     "metadata": {},
     "output_type": "execute_result"
    }
   ],
   "source": [
    "b_matrix[:5, :5].round(2)"
   ]
  },
  {
   "cell_type": "code",
   "execution_count": 96,
   "metadata": {},
   "outputs": [
    {
     "data": {
      "text/plain": [
       "array([[0.  , 0.  , 0.  , 0.  , 0.  ],\n",
       "       [0.53, 0.  , 0.  , 0.  , 0.  ],\n",
       "       [0.03, 0.3 , 0.  , 0.  , 0.  ],\n",
       "       [0.07, 0.11, 0.36, 0.  , 0.  ],\n",
       "       [0.01, 0.07, 0.19, 0.53, 0.  ]])"
      ]
     },
     "execution_count": 96,
     "metadata": {},
     "output_type": "execute_result"
    }
   ],
   "source": [
    "random_b_matrix[:5, :5].round(2)"
   ]
  },
  {
   "cell_type": "markdown",
   "metadata": {},
   "source": [
    "## Simulation with Stochastic Breakage"
   ]
  },
  {
   "cell_type": "code",
   "execution_count": 97,
   "metadata": {},
   "outputs": [],
   "source": [
    "# Number of timesteps\n",
    "nt = 50\n",
    "timestep_size = 0.5  # mins\n",
    "\n",
    "# Control inputs\n",
    "speed_pct_values = np.full((nt+1,), 68)\n",
    "speed_pct_values[30:] = 80\n",
    "\n",
    "charge_filling_levels = np.zeros_like(speed_pct_values).astype(float)\n",
    "\n",
    "# Feedrate\n",
    "feed_rates = np.repeat(feed_size.values.reshape(1,-1), nt+1, axis=0)\n",
    "#feed_rates[30:] = 2 * feed_rates[30:]\n",
    "\n",
    "# Discharge rate function\n",
    "# From Morrell, 2004: \n",
    "# Max discharge rate is 30 1/hr for a 7 m diameter mill\n",
    "# d_max = 30/60*timestep_size = 0.25\n",
    "d_max = 30/60*timestep_size  # Max discharge rate\n",
    "c = 1 - class_efficiency  # Grate classification function\n",
    "d = d_max * c\n",
    "\n",
    "#assert r[-1] == 0.0  # r=0 for smallest size fraction\n",
    "r[-1] = 0\n",
    "assert all((r + d) <= 1)\n",
    "\n",
    "# Initial charge\n",
    "x0 = model.initial_charge.values\n",
    "n_sizes = x0.shape[0]\n",
    "\n",
    "# Initialize variables\n",
    "x = np.zeros((nt+1, n_sizes))\n",
    "discharge_rates = np.zeros((nt+1, n_sizes))\n",
    "x[0] = x0\n",
    "\n",
    "t = np.arange(nt+1) * timestep_size\n",
    "for k in range(1, nt+1):\n",
    "    feed = feed_rates[k]\n",
    "    speed = speed_pct_values[k]\n",
    "    random_b_matrix = sample_random_b_matrix(b_matrix, v=100)\n",
    "    args = [feed, speed, random_b_matrix, d, mid_sizes_mm]\n",
    "    x[k, :] = solve(t[k], x[k-1], f_dxdt_vr, timestep_size, args=args)\n",
    "    charge_filling_levels[k] = calculate_load_pct(x[k].sum())\n",
    "    discharge_rates[k] = d*x[k]"
   ]
  },
  {
   "cell_type": "code",
   "execution_count": 98,
   "metadata": {},
   "outputs": [
    {
     "data": {
      "text/html": [
       "<div>\n",
       "<style scoped>\n",
       "    .dataframe tbody tr th:only-of-type {\n",
       "        vertical-align: middle;\n",
       "    }\n",
       "\n",
       "    .dataframe tbody tr th {\n",
       "        vertical-align: top;\n",
       "    }\n",
       "\n",
       "    .dataframe thead th {\n",
       "        text-align: right;\n",
       "    }\n",
       "</style>\n",
       "<table border=\"1\" class=\"dataframe\">\n",
       "  <thead>\n",
       "    <tr style=\"text-align: right;\">\n",
       "      <th>Size Interval</th>\n",
       "      <th>1</th>\n",
       "      <th>2</th>\n",
       "      <th>3</th>\n",
       "      <th>4</th>\n",
       "      <th>5</th>\n",
       "      <th>6</th>\n",
       "      <th>7</th>\n",
       "      <th>8</th>\n",
       "      <th>9</th>\n",
       "      <th>10</th>\n",
       "      <th>...</th>\n",
       "      <th>16</th>\n",
       "      <th>17</th>\n",
       "      <th>18</th>\n",
       "      <th>19</th>\n",
       "      <th>20</th>\n",
       "      <th>21</th>\n",
       "      <th>22</th>\n",
       "      <th>23</th>\n",
       "      <th>24</th>\n",
       "      <th>25</th>\n",
       "    </tr>\n",
       "    <tr>\n",
       "      <th>t</th>\n",
       "      <th></th>\n",
       "      <th></th>\n",
       "      <th></th>\n",
       "      <th></th>\n",
       "      <th></th>\n",
       "      <th></th>\n",
       "      <th></th>\n",
       "      <th></th>\n",
       "      <th></th>\n",
       "      <th></th>\n",
       "      <th></th>\n",
       "      <th></th>\n",
       "      <th></th>\n",
       "      <th></th>\n",
       "      <th></th>\n",
       "      <th></th>\n",
       "      <th></th>\n",
       "      <th></th>\n",
       "      <th></th>\n",
       "      <th></th>\n",
       "      <th></th>\n",
       "    </tr>\n",
       "  </thead>\n",
       "  <tbody>\n",
       "    <tr>\n",
       "      <th>0.0</th>\n",
       "      <td>8.46</td>\n",
       "      <td>11.31</td>\n",
       "      <td>17.64</td>\n",
       "      <td>34.23</td>\n",
       "      <td>43.73</td>\n",
       "      <td>10.21</td>\n",
       "      <td>9.74</td>\n",
       "      <td>5.01</td>\n",
       "      <td>4.82</td>\n",
       "      <td>3.98</td>\n",
       "      <td>...</td>\n",
       "      <td>2.30</td>\n",
       "      <td>2.09</td>\n",
       "      <td>1.92</td>\n",
       "      <td>1.75</td>\n",
       "      <td>1.58</td>\n",
       "      <td>1.44</td>\n",
       "      <td>1.29</td>\n",
       "      <td>1.17</td>\n",
       "      <td>1.01</td>\n",
       "      <td>8.71</td>\n",
       "    </tr>\n",
       "    <tr>\n",
       "      <th>0.5</th>\n",
       "      <td>6.59</td>\n",
       "      <td>10.84</td>\n",
       "      <td>17.00</td>\n",
       "      <td>33.45</td>\n",
       "      <td>42.59</td>\n",
       "      <td>10.08</td>\n",
       "      <td>9.03</td>\n",
       "      <td>4.46</td>\n",
       "      <td>4.22</td>\n",
       "      <td>3.59</td>\n",
       "      <td>...</td>\n",
       "      <td>2.60</td>\n",
       "      <td>2.57</td>\n",
       "      <td>2.45</td>\n",
       "      <td>2.17</td>\n",
       "      <td>2.07</td>\n",
       "      <td>1.75</td>\n",
       "      <td>1.71</td>\n",
       "      <td>1.58</td>\n",
       "      <td>1.29</td>\n",
       "      <td>9.88</td>\n",
       "    </tr>\n",
       "    <tr>\n",
       "      <th>1.0</th>\n",
       "      <td>5.12</td>\n",
       "      <td>10.20</td>\n",
       "      <td>16.45</td>\n",
       "      <td>32.59</td>\n",
       "      <td>41.37</td>\n",
       "      <td>10.13</td>\n",
       "      <td>8.50</td>\n",
       "      <td>4.11</td>\n",
       "      <td>3.68</td>\n",
       "      <td>3.21</td>\n",
       "      <td>...</td>\n",
       "      <td>2.84</td>\n",
       "      <td>2.78</td>\n",
       "      <td>2.75</td>\n",
       "      <td>2.50</td>\n",
       "      <td>2.44</td>\n",
       "      <td>2.17</td>\n",
       "      <td>2.00</td>\n",
       "      <td>1.89</td>\n",
       "      <td>1.52</td>\n",
       "      <td>11.12</td>\n",
       "    </tr>\n",
       "    <tr>\n",
       "      <th>1.5</th>\n",
       "      <td>3.96</td>\n",
       "      <td>9.47</td>\n",
       "      <td>15.90</td>\n",
       "      <td>31.72</td>\n",
       "      <td>40.13</td>\n",
       "      <td>9.75</td>\n",
       "      <td>7.96</td>\n",
       "      <td>3.89</td>\n",
       "      <td>3.34</td>\n",
       "      <td>2.93</td>\n",
       "      <td>...</td>\n",
       "      <td>2.96</td>\n",
       "      <td>3.00</td>\n",
       "      <td>3.04</td>\n",
       "      <td>2.81</td>\n",
       "      <td>2.77</td>\n",
       "      <td>2.55</td>\n",
       "      <td>2.27</td>\n",
       "      <td>2.06</td>\n",
       "      <td>1.72</td>\n",
       "      <td>11.89</td>\n",
       "    </tr>\n",
       "    <tr>\n",
       "      <th>2.0</th>\n",
       "      <td>3.05</td>\n",
       "      <td>8.73</td>\n",
       "      <td>15.29</td>\n",
       "      <td>30.72</td>\n",
       "      <td>39.05</td>\n",
       "      <td>9.58</td>\n",
       "      <td>7.56</td>\n",
       "      <td>3.56</td>\n",
       "      <td>3.23</td>\n",
       "      <td>2.64</td>\n",
       "      <td>...</td>\n",
       "      <td>3.11</td>\n",
       "      <td>3.01</td>\n",
       "      <td>3.20</td>\n",
       "      <td>3.08</td>\n",
       "      <td>2.89</td>\n",
       "      <td>2.80</td>\n",
       "      <td>2.45</td>\n",
       "      <td>2.23</td>\n",
       "      <td>1.89</td>\n",
       "      <td>12.90</td>\n",
       "    </tr>\n",
       "  </tbody>\n",
       "</table>\n",
       "<p>5 rows × 25 columns</p>\n",
       "</div>"
      ],
      "text/plain": [
       "Size Interval    1      2      3      4      5      6     7     8     9   \\\n",
       "t                                                                          \n",
       "0.0            8.46  11.31  17.64  34.23  43.73  10.21  9.74  5.01  4.82   \n",
       "0.5            6.59  10.84  17.00  33.45  42.59  10.08  9.03  4.46  4.22   \n",
       "1.0            5.12  10.20  16.45  32.59  41.37  10.13  8.50  4.11  3.68   \n",
       "1.5            3.96   9.47  15.90  31.72  40.13   9.75  7.96  3.89  3.34   \n",
       "2.0            3.05   8.73  15.29  30.72  39.05   9.58  7.56  3.56  3.23   \n",
       "\n",
       "Size Interval    10  ...    16    17    18    19    20    21    22    23  \\\n",
       "t                    ...                                                   \n",
       "0.0            3.98  ...  2.30  2.09  1.92  1.75  1.58  1.44  1.29  1.17   \n",
       "0.5            3.59  ...  2.60  2.57  2.45  2.17  2.07  1.75  1.71  1.58   \n",
       "1.0            3.21  ...  2.84  2.78  2.75  2.50  2.44  2.17  2.00  1.89   \n",
       "1.5            2.93  ...  2.96  3.00  3.04  2.81  2.77  2.55  2.27  2.06   \n",
       "2.0            2.64  ...  3.11  3.01  3.20  3.08  2.89  2.80  2.45  2.23   \n",
       "\n",
       "Size Interval    24     25  \n",
       "t                           \n",
       "0.0            1.01   8.71  \n",
       "0.5            1.29   9.88  \n",
       "1.0            1.52  11.12  \n",
       "1.5            1.72  11.89  \n",
       "2.0            1.89  12.90  \n",
       "\n",
       "[5 rows x 25 columns]"
      ]
     },
     "execution_count": 98,
     "metadata": {},
     "output_type": "execute_result"
    }
   ],
   "source": [
    "# Convert results to dataframe\n",
    "columns = pd.Index(range(1, n_sizes+1), name='Size Interval')\n",
    "index = pd.Index(t, name='t')\n",
    "charge_weights = pd.DataFrame(x, columns=columns, index=index)\n",
    "charge_weights.round(2).head()"
   ]
  },
  {
   "cell_type": "code",
   "execution_count": 99,
   "metadata": {},
   "outputs": [
    {
     "data": {
      "image/png": "[encoded data removed]",
      "text/plain": [
       "<Figure size 648x396 with 3 Axes>"
      ]
     },
     "metadata": {
      "needs_background": "light"
     },
     "output_type": "display_data"
    }
   ],
   "source": [
    "fig, axes = plt.subplots(3, 1, figsize=(9,5.5), sharex=True)\n",
    "\n",
    "style = '-' if speed_pct_values.shape[0] > 51 else '.-'\n",
    "\n",
    "ax = axes[0]\n",
    "ax.plot(t, speed_pct_values, style, label='Speed')\n",
    "ax.plot(t, charge_filling_levels, style, label='Load')\n",
    "ax.set_ylim(25,90)\n",
    "ax.set_title('Speed and Filling Level')\n",
    "ax.set_xlabel('t')\n",
    "ax.set_ylabel('(%)')\n",
    "ax.grid()\n",
    "ax.legend()\n",
    "\n",
    "ax = axes[1]\n",
    "ax.plot(t, feed_rates.sum(axis=1)*60 / timestep_size, style, label='feed')\n",
    "ax.plot(t, discharge_rates.sum(axis=1)*60 / timestep_size, style, label='discharge')\n",
    "ax.set_title('Feed and Discharge Rates')\n",
    "ax.set_ylabel('Tons / hr')\n",
    "ax.grid()\n",
    "ax.legend()\n",
    "\n",
    "ax = axes[2]\n",
    "charge_weights.plot.area(ax=ax, stacked=True, legend=False)\n",
    "ax.set_title('Mill Charge')\n",
    "ax.set_xlabel('t (mins)')\n",
    "ax.set_ylabel('Tons')\n",
    "ax.grid()\n",
    "#ax.legend()\n",
    "\n",
    "plt.tight_layout()\n",
    "filename = \"demo_time_series_vrs.pdf\"\n",
    "plt.savefig(os.path.join(plot_dir, filename))\n",
    "plt.show()"
   ]
  },
  {
   "cell_type": "code",
   "execution_count": 100,
   "metadata": {},
   "outputs": [
    {
     "data": {
      "image/png": "[encoded data removed]",
      "text/plain": [
       "<Figure size 576x360 with 2 Axes>"
      ]
     },
     "metadata": {
      "needs_background": "light"
     },
     "output_type": "display_data"
    }
   ],
   "source": [
    "fig, axes = plt.subplots(2, 1, sharex=True, figsize=(8,5))\n",
    "\n",
    "flow_rates = pd.DataFrame({\n",
    "    'Feed': feed_rates[-1]*60/timestep_size,\n",
    "    'Discharge': discharge_rates[-1]*60/timestep_size\n",
    "})\n",
    "\n",
    "ax = axes[0]\n",
    "flow_rates.plot.bar(ax=ax)\n",
    "ax.set_xlabel('Size interval')\n",
    "ax.set_ylabel('Tons/h')\n",
    "ax.set_title('Flowrates')\n",
    "ax.grid()\n",
    "\n",
    "ax = axes[1]\n",
    "pd.Series(charge_weights.values[-1]/timestep_size, index=mesh.index[:-1]).plot.bar(ax=ax, \n",
    "                                                                                   color='darkred')\n",
    "ax.set_xlabel('Size interval')\n",
    "ax.set_ylabel('Tons')\n",
    "ax.set_title('Internal Charge')\n",
    "ax.grid()\n",
    "\n",
    "plt.tight_layout()\n",
    "filename = \"demo_size_dist_plots_vrs.pdf\"\n",
    "plt.savefig(os.path.join(plot_dir, filename))\n",
    "plt.show()"
   ]
  },
  {
   "cell_type": "code",
   "execution_count": 101,
   "metadata": {},
   "outputs": [
    {
     "data": {
      "image/png": "[encoded data removed]",
      "text/plain": [
       "<Figure size 432x288 with 1 Axes>"
      ]
     },
     "metadata": {
      "needs_background": "light"
     },
     "output_type": "display_data"
    }
   ],
   "source": [
    "feed_passing_pct = calculate_passing_pct(feed_rates[-1])\n",
    "discharge_passing_pct = calculate_passing_pct(discharge_rates[-1])\n",
    "\n",
    "plt.plot(mid_sizes_mm, feed_passing_pct, label='Feed', marker='.')\n",
    "plt.plot(mid_sizes_mm, discharge_passing_pct, label='Discharge', marker='.')\n",
    "plt.title('Cumulative Size Distributions')\n",
    "plt.xlabel('Particle size (mm)')\n",
    "plt.ylabel('% passing')\n",
    "plt.xscale('log')\n",
    "plt.yscale('log')\n",
    "plt.grid()\n",
    "plt.legend()\n",
    "plt.show()"
   ]
  },
  {
   "cell_type": "code",
   "execution_count": null,
   "metadata": {},
   "outputs": [],
   "source": []
  },
  {
   "cell_type": "markdown",
   "metadata": {},
   "source": [
    "## Input Excitation Design"
   ]
  },
  {
   "cell_type": "code",
   "execution_count": 102,
   "metadata": {},
   "outputs": [
    {
     "data": {
      "text/plain": [
       "9977.083295617962"
      ]
     },
     "execution_count": 102,
     "metadata": {},
     "output_type": "execute_result"
    }
   ],
   "source": [
    "model = SAGMillRecycleModelDefault()\n",
    "model.net_power"
   ]
  },
  {
   "cell_type": "code",
   "execution_count": 103,
   "metadata": {},
   "outputs": [
    {
     "data": {
      "image/png": "[encoded data removed]",
      "text/plain": [
       "<Figure size 432x288 with 1 Axes>"
      ]
     },
     "metadata": {
      "needs_background": "light"
     },
     "output_type": "display_data"
    }
   ],
   "source": [
    "load_setpoints = [20, 30, 40]\n",
    "\n",
    "speed_values = [50, 55, 60, 65, 70, 75, 80, 85, 90]\n",
    "net_power = {}\n",
    "for load in load_setpoints:\n",
    "    model.charge_filling_pct = load\n",
    "    net_power[load] = []\n",
    "    for speed in speed_values:\n",
    "        model.speed_pct = speed\n",
    "        net_power[load].append(model.net_power)\n",
    "\n",
    "pd.DataFrame(net_power, index=speed_values).plot(style='o-')\n",
    "plt.ylabel('Power (kW)')\n",
    "plt.xlabel('Speed (%)')\n",
    "plt.title('Effect of Speed and Load on Power Draw')\n",
    "plt.grid()"
   ]
  },
  {
   "cell_type": "code",
   "execution_count": 104,
   "metadata": {},
   "outputs": [
    {
     "data": {
      "text/html": [
       "<div>\n",
       "<style scoped>\n",
       "    .dataframe tbody tr th:only-of-type {\n",
       "        vertical-align: middle;\n",
       "    }\n",
       "\n",
       "    .dataframe tbody tr th {\n",
       "        vertical-align: top;\n",
       "    }\n",
       "\n",
       "    .dataframe thead th {\n",
       "        text-align: right;\n",
       "    }\n",
       "</style>\n",
       "<table border=\"1\" class=\"dataframe\">\n",
       "  <thead>\n",
       "    <tr style=\"text-align: right;\">\n",
       "      <th></th>\n",
       "      <th>Load (%)</th>\n",
       "      <th>Speed (%)</th>\n",
       "      <th>Power (kW)</th>\n",
       "    </tr>\n",
       "  </thead>\n",
       "  <tbody>\n",
       "    <tr>\n",
       "      <th>0</th>\n",
       "      <td>20</td>\n",
       "      <td>84</td>\n",
       "      <td>9996.003016</td>\n",
       "    </tr>\n",
       "    <tr>\n",
       "      <th>1</th>\n",
       "      <td>20</td>\n",
       "      <td>79</td>\n",
       "      <td>9401.002837</td>\n",
       "    </tr>\n",
       "    <tr>\n",
       "      <th>2</th>\n",
       "      <td>20</td>\n",
       "      <td>74</td>\n",
       "      <td>8806.002657</td>\n",
       "    </tr>\n",
       "    <tr>\n",
       "      <th>3</th>\n",
       "      <td>30</td>\n",
       "      <td>74</td>\n",
       "      <td>9871.024509</td>\n",
       "    </tr>\n",
       "    <tr>\n",
       "      <th>4</th>\n",
       "      <td>30</td>\n",
       "      <td>69</td>\n",
       "      <td>9204.063394</td>\n",
       "    </tr>\n",
       "    <tr>\n",
       "      <th>5</th>\n",
       "      <td>30</td>\n",
       "      <td>64</td>\n",
       "      <td>8537.102278</td>\n",
       "    </tr>\n",
       "    <tr>\n",
       "      <th>6</th>\n",
       "      <td>40</td>\n",
       "      <td>72</td>\n",
       "      <td>9953.214029</td>\n",
       "    </tr>\n",
       "    <tr>\n",
       "      <th>7</th>\n",
       "      <td>40</td>\n",
       "      <td>67</td>\n",
       "      <td>9262.018610</td>\n",
       "    </tr>\n",
       "    <tr>\n",
       "      <th>8</th>\n",
       "      <td>40</td>\n",
       "      <td>62</td>\n",
       "      <td>8570.823192</td>\n",
       "    </tr>\n",
       "  </tbody>\n",
       "</table>\n",
       "</div>"
      ],
      "text/plain": [
       "   Load (%)  Speed (%)   Power (kW)\n",
       "0        20         84  9996.003016\n",
       "1        20         79  9401.002837\n",
       "2        20         74  8806.002657\n",
       "3        30         74  9871.024509\n",
       "4        30         69  9204.063394\n",
       "5        30         64  8537.102278\n",
       "6        40         72  9953.214029\n",
       "7        40         67  9262.018610\n",
       "8        40         62  8570.823192"
      ]
     },
     "execution_count": 104,
     "metadata": {},
     "output_type": "execute_result"
    }
   ],
   "source": [
    "# Goal is to find some speed setpoints close to maximum power\n",
    "max_power = 10000\n",
    "input_setpoints = []\n",
    "\n",
    "for load in load_setpoints:\n",
    "    model.charge_filling_pct = load\n",
    "    model.speed_pct = 90\n",
    "    while model.net_power > max_power:\n",
    "        model.speed_pct -= 1\n",
    "    for i in range(3):\n",
    "        setpoint = {\n",
    "            'Load (%)': model.charge_filling_pct,\n",
    "            'Speed (%)': model.speed_pct,\n",
    "            'Power (kW)': model.net_power\n",
    "        }\n",
    "        input_setpoints.append(setpoint)\n",
    "        model.speed_pct = model.speed_pct - 5\n",
    "\n",
    "input_setpoints = pd.DataFrame(input_setpoints)\n",
    "input_setpoints"
   ]
  },
  {
   "cell_type": "code",
   "execution_count": 105,
   "metadata": {},
   "outputs": [],
   "source": [
    "# These are the feedrates in the steady-state model\n",
    "# (for reference only - they will be different in the \n",
    "# variable rates model)\n",
    "#feed_rates = {}\n",
    "#for i, setpoint in input_setpoints.iterrows():\n",
    "#    model.speed_pct = setpoint['Speed (%)']\n",
    "#    model.charge_filling_pct = setpoint['Load (%)']\n",
    "#    model.set_initial_conditions()\n",
    "#    model.solve_steady_state()\n",
    "#    flow_rates = model.calculate_flow_rates()\n",
    "#    feed_rates[i] = flow_rates['Net Feedrate (ton/hr)']\n",
    "    \n",
    "feed_rates = {\n",
    " 0: 1927.6240215069529,\n",
    " 1: 1838.0022356407678,\n",
    " 2: 1746.5522281054634,\n",
    " 3: 2228.8129766624306,\n",
    " 4: 2078.217505266226,\n",
    " 5: 1927.6220338703736,\n",
    " 6: 2340.992959704032,\n",
    " 7: 2178.424004169066,\n",
    " 8: 2015.855048634019\n",
    "}\n",
    "feed_rates = pd.Series(feed_rates, name='Net Feedrate (ton/hr)')"
   ]
  },
  {
   "cell_type": "code",
   "execution_count": 106,
   "metadata": {},
   "outputs": [
    {
     "data": {
      "image/png": "[encoded data removed]",
      "text/plain": [
       "<Figure size 432x288 with 1 Axes>"
      ]
     },
     "metadata": {
      "needs_background": "light"
     },
     "output_type": "display_data"
    }
   ],
   "source": [
    "feed_rates.plot.bar()\n",
    "plt.xlabel('Input Setpoint #')\n",
    "plt.ylabel(feed_rates.name)\n",
    "plt.grid()\n",
    "plt.show()"
   ]
  },
  {
   "cell_type": "markdown",
   "metadata": {},
   "source": [
    "## Generate input sequence"
   ]
  },
  {
   "cell_type": "code",
   "execution_count": 107,
   "metadata": {},
   "outputs": [
    {
     "data": {
      "text/html": [
       "<div>\n",
       "<style scoped>\n",
       "    .dataframe tbody tr th:only-of-type {\n",
       "        vertical-align: middle;\n",
       "    }\n",
       "\n",
       "    .dataframe tbody tr th {\n",
       "        vertical-align: top;\n",
       "    }\n",
       "\n",
       "    .dataframe thead th {\n",
       "        text-align: right;\n",
       "    }\n",
       "</style>\n",
       "<table border=\"1\" class=\"dataframe\">\n",
       "  <thead>\n",
       "    <tr style=\"text-align: right;\">\n",
       "      <th></th>\n",
       "      <th>Load (%)</th>\n",
       "      <th>Speed (%)</th>\n",
       "      <th>Power (kW)</th>\n",
       "    </tr>\n",
       "  </thead>\n",
       "  <tbody>\n",
       "    <tr>\n",
       "      <th>0</th>\n",
       "      <td>20</td>\n",
       "      <td>84</td>\n",
       "      <td>9996.003016</td>\n",
       "    </tr>\n",
       "    <tr>\n",
       "      <th>1</th>\n",
       "      <td>20</td>\n",
       "      <td>79</td>\n",
       "      <td>9401.002837</td>\n",
       "    </tr>\n",
       "    <tr>\n",
       "      <th>2</th>\n",
       "      <td>20</td>\n",
       "      <td>74</td>\n",
       "      <td>8806.002657</td>\n",
       "    </tr>\n",
       "    <tr>\n",
       "      <th>3</th>\n",
       "      <td>30</td>\n",
       "      <td>74</td>\n",
       "      <td>9871.024509</td>\n",
       "    </tr>\n",
       "    <tr>\n",
       "      <th>4</th>\n",
       "      <td>30</td>\n",
       "      <td>69</td>\n",
       "      <td>9204.063394</td>\n",
       "    </tr>\n",
       "    <tr>\n",
       "      <th>5</th>\n",
       "      <td>30</td>\n",
       "      <td>64</td>\n",
       "      <td>8537.102278</td>\n",
       "    </tr>\n",
       "    <tr>\n",
       "      <th>6</th>\n",
       "      <td>40</td>\n",
       "      <td>72</td>\n",
       "      <td>9953.214029</td>\n",
       "    </tr>\n",
       "    <tr>\n",
       "      <th>7</th>\n",
       "      <td>40</td>\n",
       "      <td>67</td>\n",
       "      <td>9262.018610</td>\n",
       "    </tr>\n",
       "    <tr>\n",
       "      <th>8</th>\n",
       "      <td>40</td>\n",
       "      <td>62</td>\n",
       "      <td>8570.823192</td>\n",
       "    </tr>\n",
       "  </tbody>\n",
       "</table>\n",
       "</div>"
      ],
      "text/plain": [
       "   Load (%)  Speed (%)   Power (kW)\n",
       "0        20         84  9996.003016\n",
       "1        20         79  9401.002837\n",
       "2        20         74  8806.002657\n",
       "3        30         74  9871.024509\n",
       "4        30         69  9204.063394\n",
       "5        30         64  8537.102278\n",
       "6        40         72  9953.214029\n",
       "7        40         67  9262.018610\n",
       "8        40         62  8570.823192"
      ]
     },
     "execution_count": 107,
     "metadata": {},
     "output_type": "execute_result"
    }
   ],
   "source": [
    "input_setpoints"
   ]
  },
  {
   "cell_type": "code",
   "execution_count": 108,
   "metadata": {},
   "outputs": [
    {
     "name": "stdout",
     "output_type": "stream",
     "text": [
      "9 8\n",
      "10 6\n",
      "11 4\n",
      "12 7\n",
      "13 3\n",
      "14 5\n",
      "15 0\n",
      "16 2\n",
      "17 1\n",
      "18 2\n",
      "19 4\n",
      "20 5\n",
      "21 8\n",
      "22 0\n",
      "23 1\n",
      "24 3\n",
      "25 7\n",
      "26 6\n",
      "\n",
      "36% of possible transitions included\n"
     ]
    }
   ],
   "source": [
    "# Desired sequence length\n",
    "n_inputs = 9*3\n",
    "\n",
    "# Initialise random number generator\n",
    "seed = 10\n",
    "rng = np.random.RandomState(seed)\n",
    "\n",
    "sequence = input_setpoints.index.tolist()\n",
    "rng.shuffle(sequence)\n",
    "\n",
    "n = len(sequence)\n",
    "possible_transitions = [(i, j) for i in range(n) for j in range(n) if i != j]\n",
    "n_possible_transitions = len(possible_transitions)\n",
    "\n",
    "for i in range(len(sequence) - 1):\n",
    "    possible_transitions.remove(tuple(sequence[i:i+2]))\n",
    "len(possible_transitions)\n",
    "\n",
    "# Add additional transitions to required length\n",
    "for i in range(n, n_inputs):\n",
    "    tally = pd.Series(sequence).value_counts()\n",
    "    choose_from = tally[tally.values == tally.values.min()].index.values\n",
    "    while True:\n",
    "        next_input = rng.choice(choose_from)\n",
    "        if (sequence[-1], next_input) in possible_transitions:\n",
    "            break\n",
    "    print(i, next_input)\n",
    "    sequence.append(next_input)\n",
    "    possible_transitions.remove(tuple(sequence[-2:]))\n",
    "\n",
    "n_transitions = n_possible_transitions - len(possible_transitions)\n",
    "print(f\"\\n{n_transitions*100 / n_possible_transitions:.0f}% of possible transitions included\")\n",
    "\n",
    "assert len(sequence) == n_inputs"
   ]
  },
  {
   "cell_type": "code",
   "execution_count": 109,
   "metadata": {},
   "outputs": [
    {
     "data": {
      "text/plain": [
       "8    3\n",
       "7    3\n",
       "6    3\n",
       "5    3\n",
       "4    3\n",
       "3    3\n",
       "2    3\n",
       "1    3\n",
       "0    3\n",
       "dtype: int64"
      ]
     },
     "execution_count": 109,
     "metadata": {},
     "output_type": "execute_result"
    }
   ],
   "source": [
    "pd.Series(sequence).value_counts()"
   ]
  },
  {
   "cell_type": "code",
   "execution_count": 110,
   "metadata": {},
   "outputs": [
    {
     "name": "stdout",
     "output_type": "stream",
     "text": [
      "[8, 2, 5, 6, 3, 1, 0, 7, 4, 8, 6, 4, 7, 3, 5, 0, 2, 1, 2, 4, 5, 8, 0, 1, 3, 7, 6]\n"
     ]
    }
   ],
   "source": [
    "print(sequence)"
   ]
  },
  {
   "cell_type": "code",
   "execution_count": 111,
   "metadata": {},
   "outputs": [
    {
     "data": {
      "text/html": [
       "<div>\n",
       "<style scoped>\n",
       "    .dataframe tbody tr th:only-of-type {\n",
       "        vertical-align: middle;\n",
       "    }\n",
       "\n",
       "    .dataframe tbody tr th {\n",
       "        vertical-align: top;\n",
       "    }\n",
       "\n",
       "    .dataframe thead th {\n",
       "        text-align: right;\n",
       "    }\n",
       "</style>\n",
       "<table border=\"1\" class=\"dataframe\">\n",
       "  <thead>\n",
       "    <tr style=\"text-align: right;\">\n",
       "      <th></th>\n",
       "      <th>index</th>\n",
       "      <th>Load (%)</th>\n",
       "      <th>Speed (%)</th>\n",
       "      <th>Power (kW)</th>\n",
       "    </tr>\n",
       "  </thead>\n",
       "  <tbody>\n",
       "    <tr>\n",
       "      <th>0</th>\n",
       "      <td>8</td>\n",
       "      <td>40</td>\n",
       "      <td>62</td>\n",
       "      <td>8570.823192</td>\n",
       "    </tr>\n",
       "    <tr>\n",
       "      <th>1</th>\n",
       "      <td>2</td>\n",
       "      <td>20</td>\n",
       "      <td>74</td>\n",
       "      <td>8806.002657</td>\n",
       "    </tr>\n",
       "    <tr>\n",
       "      <th>2</th>\n",
       "      <td>5</td>\n",
       "      <td>30</td>\n",
       "      <td>64</td>\n",
       "      <td>8537.102278</td>\n",
       "    </tr>\n",
       "    <tr>\n",
       "      <th>3</th>\n",
       "      <td>6</td>\n",
       "      <td>40</td>\n",
       "      <td>72</td>\n",
       "      <td>9953.214029</td>\n",
       "    </tr>\n",
       "    <tr>\n",
       "      <th>4</th>\n",
       "      <td>3</td>\n",
       "      <td>30</td>\n",
       "      <td>74</td>\n",
       "      <td>9871.024509</td>\n",
       "    </tr>\n",
       "  </tbody>\n",
       "</table>\n",
       "</div>"
      ],
      "text/plain": [
       "   index  Load (%)  Speed (%)   Power (kW)\n",
       "0      8        40         62  8570.823192\n",
       "1      2        20         74  8806.002657\n",
       "2      5        30         64  8537.102278\n",
       "3      6        40         72  9953.214029\n",
       "4      3        30         74  9871.024509"
      ]
     },
     "execution_count": 111,
     "metadata": {},
     "output_type": "execute_result"
    }
   ],
   "source": [
    "input_sequence = input_setpoints.loc[sequence].reset_index()\n",
    "input_sequence.head()"
   ]
  },
  {
   "cell_type": "code",
   "execution_count": 112,
   "metadata": {},
   "outputs": [
    {
     "data": {
      "image/png": "[encoded data removed]",
      "text/plain": [
       "<Figure size 648x432 with 2 Axes>"
      ]
     },
     "metadata": {
      "needs_background": "light"
     },
     "output_type": "display_data"
    }
   ],
   "source": [
    "fig, axes = plt.subplots(2, 1, figsize=(9,6), sharex=True)\n",
    "\n",
    "ax = axes[0]\n",
    "labels = ['Load (%)', 'Speed (%)']\n",
    "input_sequence[labels].plot(ax=ax, style='o-')\n",
    "ax.set_ylabel('Setpoint')\n",
    "ax.grid()\n",
    "\n",
    "ax = axes[1]\n",
    "labels = ['Power (kW)']\n",
    "input_sequence[labels].plot.bar(ax=ax)\n",
    "ax.set_xlabel('Setpoint #')\n",
    "ax.set_ylabel('Setpoint')\n",
    "ax.grid()\n",
    "\n",
    "filename = \"input_seq_plot.pdf\"\n",
    "plt.savefig(os.path.join(plot_dir, filename))\n",
    "plt.show()"
   ]
  },
  {
   "cell_type": "code",
   "execution_count": null,
   "metadata": {},
   "outputs": [],
   "source": []
  },
  {
   "cell_type": "markdown",
   "metadata": {},
   "source": [
    "## Alternative Input Signal"
   ]
  },
  {
   "cell_type": "code",
   "execution_count": 113,
   "metadata": {},
   "outputs": [],
   "source": [
    "# Input signal generated by MATLAB's idinput function\n",
    "# >> Range = [-1,1];\n",
    "# >> Band = [0 1];\n",
    "# >> u = idinput([100 2],'prbs',Band,Range);\n",
    "\n",
    "id_data = np.hstack([\n",
    "  [\n",
    "    [  -1, -1, -1, -1, -1, -1, -1,  1, -1,  1, -1,  1, -1,  1,  1, -1, -1,  1,  1, -1],\n",
    "    [  -1, -1,  1, -1, -1,  1,  1, -1,  1,  1, -1,  1,  1,  1, -1, -1, -1,  1,  1,  1]\n",
    "  ],\n",
    "  [\n",
    "    [  -1, -1,  1, -1, -1, -1,  1, -1,  1,  1, -1,  1, -1, -1,  1,  1,  1, -1, -1,  1],\n",
    "    [   1, -1,  1, -1, -1, -1, -1, -1,  1,  1, -1,  1, -1,  1, -1, -1, -1,  1,  1, -1]\n",
    "  ],\n",
    "  [\n",
    "    [  -1, -1, -1, -1,  1, -1, -1,  1, -1,  1, -1, -1,  1, -1, -1,  1,  1, -1,  1,  1],\n",
    "    [  -1,  1, -1,  1,  1,  1, -1,  1,  1, -1, -1, -1, -1, -1, -1, -1, -1,  1, -1,  1]\n",
    "  ],\n",
    "  [\n",
    "    [  -1,  1,  1,  1, -1, -1, -1,  1,  1,  1,  1, -1,  1, -1, -1, -1, -1, -1,  1,  1],\n",
    "    [  -1,  1, -1,  1,  1, -1, -1,  1,  1, -1, -1, -1,  1, -1, -1, -1,  1, -1,  1,  1]\n",
    "  ],\n",
    "  [\n",
    "    [  -1,  1, -1,  1, -1, -1, -1,  1,  1, -1, -1,  1, -1,  1,  1,  1, -1,  1,  1, -1],\n",
    "    [  -1,  1, -1, -1,  1,  1,  1, -1, -1,  1, -1, -1, -1, -1,  1, -1, -1,  1, -1,  1]\n",
    "  ]\n",
    "])\n",
    "assert id_data.shape == (2, 100)"
   ]
  },
  {
   "cell_type": "code",
   "execution_count": 114,
   "metadata": {},
   "outputs": [
    {
     "data": {
      "image/png": "[encoded data removed]",
      "text/plain": [
       "<Figure size 648x288 with 2 Axes>"
      ]
     },
     "metadata": {
      "needs_background": "light"
     },
     "output_type": "display_data"
    }
   ],
   "source": [
    "fig, axes = plt.subplots(2, 1, figsize=(9,4), sharex=True)\n",
    "\n",
    "index = np.arange(id_data.shape[1])\n",
    "\n",
    "for i, ax in enumerate(axes):\n",
    "    ax.step(index, id_data[i, :].T)\n",
    "    ax.grid()\n",
    "    ax.set_ylabel('$u_%d$' % (i+1))\n",
    "\n",
    "ax.set_xlabel('Timestep')\n",
    "plt.show()"
   ]
  },
  {
   "cell_type": "markdown",
   "metadata": {},
   "source": [
    "## Prepare a log for recording simulation data"
   ]
  },
  {
   "cell_type": "code",
   "execution_count": 115,
   "metadata": {},
   "outputs": [
    {
     "data": {
      "text/plain": [
       "['Timestep',\n",
       " 'Time (mins)',\n",
       " 'Charge Filling (%)',\n",
       " 'Speed (% Critical)',\n",
       " 'Power (kW)',\n",
       " 'Make-up Feed',\n",
       " 'Internal Charge',\n",
       " 'Mill Discharge',\n",
       " 'Net Feedrate (ton/hr)',\n",
       " 'Mill Discharge (ton/hr)']"
      ]
     },
     "execution_count": 115,
     "metadata": {},
     "output_type": "execute_result"
    }
   ],
   "source": [
    "from molycop.utils import StateLogger, StateLoggerToFile\n",
    "\n",
    "state_names = ['Timestep', 'Time (mins)', \n",
    "               'Charge Filling (%)', 'Speed (% Critical)', 'Power (kW)',\n",
    "               'Make-up Feed', 'Internal Charge', 'Mill Discharge',\n",
    "               'Net Feedrate (ton/hr)', 'Mill Discharge (ton/hr)']\n",
    "state_log = StateLogger(state_names=state_names)\n",
    "\n",
    "# To save data straight to file (safer) use this:\n",
    "# state_log = StateLoggerToFile(state_names=state_names,\n",
    "#                            filename=filename)\n",
    "list(state_log.states.keys())"
   ]
  },
  {
   "cell_type": "code",
   "execution_count": 116,
   "metadata": {},
   "outputs": [
    {
     "data": {
      "text/plain": [
       "deque([])"
      ]
     },
     "execution_count": 116,
     "metadata": {},
     "output_type": "execute_result"
    }
   ],
   "source": [
    "state_log.states['Charge Filling (%)']"
   ]
  },
  {
   "cell_type": "code",
   "execution_count": 117,
   "metadata": {},
   "outputs": [],
   "source": [
    "state_log.clear()"
   ]
  },
  {
   "cell_type": "code",
   "execution_count": 118,
   "metadata": {},
   "outputs": [],
   "source": [
    "for i in range(3):\n",
    "    some_data = {\n",
    "        'Timestep': 0,\n",
    "        'Time (mins)': 0.0,\n",
    "        'Charge Filling (%)': 35,\n",
    "        'Speed (% Critical)': 65,\n",
    "        'Power (kW)': 9200,\n",
    "        #'Make-up Feed': ,\n",
    "        #'Internal Charge': ,\n",
    "        #'Mill Discharge': ,\n",
    "        'Net Feedrate (ton/hr)': 650,\n",
    "        'Mill Discharge (ton/hr)': 625.0\n",
    "    }\n",
    "    state_log.append_dict_of_values(some_data)\n",
    "    state_log.complete(allow_missing=True)"
   ]
  },
  {
   "cell_type": "code",
   "execution_count": 119,
   "metadata": {},
   "outputs": [
    {
     "data": {
      "text/plain": [
       "{'Timestep': deque([0, 0, 0]),\n",
       " 'Time (mins)': deque([0.0, 0.0, 0.0]),\n",
       " 'Charge Filling (%)': deque([35, 35, 35]),\n",
       " 'Speed (% Critical)': deque([65, 65, 65]),\n",
       " 'Power (kW)': deque([9200, 9200, 9200]),\n",
       " 'Make-up Feed': deque([None, None, None]),\n",
       " 'Internal Charge': deque([None, None, None]),\n",
       " 'Mill Discharge': deque([None, None, None]),\n",
       " 'Net Feedrate (ton/hr)': deque([650, 650, 650]),\n",
       " 'Mill Discharge (ton/hr)': deque([625.0, 625.0, 625.0])}"
      ]
     },
     "execution_count": 119,
     "metadata": {},
     "output_type": "execute_result"
    }
   ],
   "source": [
    "state_log.states"
   ]
  },
  {
   "cell_type": "markdown",
   "metadata": {},
   "source": [
    "## Simulation Setup"
   ]
  },
  {
   "cell_type": "code",
   "execution_count": 120,
   "metadata": {},
   "outputs": [],
   "source": [
    "def calculate_net_power(speed_pct, charge_filling_pct, mill_params=None, \n",
    "                        charge_properties=None):\n",
    "\n",
    "    if mill_params is None:\n",
    "        mill_params = {\n",
    "            \"Effective Diameter (ft)\": 35.0,\n",
    "            \"Effective Length (ft)\": 17.0,\n",
    "            \"Balls Filling (%)\": 10.0,\n",
    "            \"Interstitial Filling (%)\": 60.0,\n",
    "            \"Lift Angle (deg)\": 45.0,\n",
    "            \"Power Loss (%)\": 3,\n",
    "            \"Slurry Top Size (mm)\": 12.699\n",
    "        }\n",
    "    \n",
    "    if charge_properties is None:\n",
    "        charge_properties = {\n",
    "            'Solids in Mill Slurry (%)': 78.0,\n",
    "            'Ore Density (ton/m3)': 2.80,\n",
    "            'Balls Density (ton/m3)': 7.75,\n",
    "            'Feed Moisture (%)': 5.0\n",
    "        }\n",
    "    \n",
    "    slurry_density = mill_calcs.calculate_slurry_density(\n",
    "        charge_properties['Solids in Mill Slurry (%)'], \n",
    "        charge_properties['Ore Density (ton/m3)']\n",
    "    )\n",
    "    \n",
    "    charge_weights = mill_calcs.calculate_charge_weights(\n",
    "        charge_filling_pct, \n",
    "        mill_params[\"Balls Filling (%)\"], \n",
    "        mill_params[\"Interstitial Filling (%)\"], \n",
    "        mill_params[\"Effective Diameter (ft)\"], \n",
    "        mill_params[\"Effective Length (ft)\"],\n",
    "        charge_properties['Balls Density (ton/m3)'], \n",
    "        charge_properties['Ore Density (ton/m3)'], \n",
    "        slurry_density\n",
    "    )\n",
    "    charge_weight = sum(charge_weights.values())\n",
    "    \n",
    "    charge_volume = mill_calcs.calculate_charge_volume(\n",
    "        mill_params[\"Effective Diameter (ft)\"], \n",
    "        mill_params[\"Effective Length (ft)\"], \n",
    "        charge_filling_pct\n",
    "    )\n",
    "\n",
    "    return mill_calcs.calculate_net_power(\n",
    "        mill_params[\"Effective Diameter (ft)\"],\n",
    "        mill_params[\"Effective Length (ft)\"],\n",
    "        speed_pct,\n",
    "        charge_filling_pct * 0.01,\n",
    "        np.radians(mill_params[\"Lift Angle (deg)\"]),\n",
    "        charge_weight,\n",
    "        charge_volume\n",
    "    )\n",
    "\n",
    "# Test calculation\n",
    "speed_pct, charge_filling_pct = 76, 28\n",
    "net_power = calculate_net_power(speed_pct, charge_filling_pct)\n",
    "assert net_power == 9977.083295617962  # From SAGMillRecycleModelDefault()"
   ]
  },
  {
   "cell_type": "code",
   "execution_count": 121,
   "metadata": {},
   "outputs": [],
   "source": [
    "def simulate(x0, t0, inputs, timestep_size, feed_size, discharge_rates, \n",
    "             mid_sizes_mm, state_log=None, rng=None, stochastic=True):\n",
    "\n",
    "    # Timestep\n",
    "    k = 0\n",
    "    \n",
    "    # Time variable\n",
    "    t = t0\n",
    "\n",
    "    # Input sequence\n",
    "    speed_pct_values = inputs['Speed (%)']\n",
    "    feed_rates = inputs['Net Feedrate (ton/hr)']\n",
    "    \n",
    "    nt = len(speed_pct_values)\n",
    "    assert len(feed_rates) == nt\n",
    "\n",
    "    if rng is None:\n",
    "        rng = np.random.RandomState()\n",
    "\n",
    "    # Prepare state logger to record simulation results\n",
    "    if state_log is None:\n",
    "        state_names = ['Timestep', 'Time (mins)', \n",
    "                       'Charge Filling (%)', 'Speed (% Critical)', 'Power (kW)',\n",
    "                       'Make-up Feed', 'Internal Charge', 'Mill Discharge',\n",
    "                       'Net Feedrate (ton/hr)', 'Mill Discharge (ton/hr)']\n",
    "        state_log = StateLogger(state_names=state_names, maxlen=nt)\n",
    "    \n",
    "    # Initial state\n",
    "    x = x0\n",
    "\n",
    "    for k in range(0, nt):\n",
    "        feed = feed_rates[k] / 60 * timestep_size * feed_size\n",
    "        speed = speed_pct_values[k]\n",
    "        if stochastic:\n",
    "            random_b_matrix = sample_random_b_matrix(b_matrix, v=100)\n",
    "        else:\n",
    "            random_b_matrix = b_matrix\n",
    "        args = [feed, speed, random_b_matrix, discharge_rates, mid_sizes_mm]\n",
    "        x = solve(t, x, f_dxdt_vr, timestep_size, args=args)\n",
    "        t += timestep_size\n",
    "        charge_filling_level = calculate_load_pct(x.sum())\n",
    "        \n",
    "        discharge = discharge_rates * x\n",
    "        discharge_rate = discharge.sum() * 60 / timestep_size\n",
    "        \n",
    "        net_power = calculate_net_power(speed, charge_filling_level)\n",
    "        \n",
    "        # Prepare data to save to log\n",
    "        log_data = {\n",
    "            'Timestep': k, \n",
    "            'Time (mins)': t, \n",
    "            'Charge Filling (%)': charge_filling_level, \n",
    "            'Speed (% Critical)': speed, \n",
    "            'Power (kW)': net_power,\n",
    "            'Make-up Feed': feed, \n",
    "            'Internal Charge': x, \n",
    "            'Mill Discharge': discharge,\n",
    "            'Net Feedrate (ton/hr)': feed_rates[k], \n",
    "            'Mill Discharge (ton/hr)': discharge_rate\n",
    "        }\n",
    "        state_log.append_dict_of_values(log_data)\n",
    "        state_log.complete(allow_missing=True)\n",
    "    \n",
    "    return state_log\n"
   ]
  },
  {
   "cell_type": "markdown",
   "metadata": {},
   "source": [
    "## Choose a suitable average feedrate"
   ]
  },
  {
   "cell_type": "code",
   "execution_count": 122,
   "metadata": {},
   "outputs": [
    {
     "name": "stdout",
     "output_type": "stream",
     "text": [
      "Steady-state solution found in 82 iterations\n"
     ]
    },
    {
     "data": {
      "text/plain": [
       "{'Net Feedrate (ton/hr)': 2223.3383309577202,\n",
       " 'Mill Discharge (ton/hr)': 3675.1789809388974,\n",
       " 'SAG Product (ton/hr)': 2223.332586303157,\n",
       " 'To Crusher (ton/hr)': 1451.8463946357401}"
      ]
     },
     "execution_count": 122,
     "metadata": {},
     "output_type": "execute_result"
    }
   ],
   "source": [
    "model = SAGMillRecycleModelDefault()\n",
    "model.set_initial_conditions()\n",
    "model.solve_steady_state()\n",
    "model.calculate_flow_rates()"
   ]
  },
  {
   "cell_type": "code",
   "execution_count": 123,
   "metadata": {},
   "outputs": [
    {
     "name": "stdout",
     "output_type": "stream",
     "text": [
      "Steady-state solution found in 62 iterations\n"
     ]
    },
    {
     "data": {
      "text/plain": [
       "{'Net Feedrate (ton/hr)': 1947.3279957132802,\n",
       " 'Mill Discharge (ton/hr)': 1947.3296571280023}"
      ]
     },
     "execution_count": 123,
     "metadata": {},
     "output_type": "execute_result"
    }
   ],
   "source": [
    "model = SAGMillOpenModelDefault()\n",
    "model.set_initial_conditions()\n",
    "model.solve_steady_state()\n",
    "model.calculate_flow_rates()"
   ]
  },
  {
   "cell_type": "code",
   "execution_count": 124,
   "metadata": {},
   "outputs": [],
   "source": [
    "# Time\n",
    "t0 = 0\n",
    "\n",
    "# Initialise random number generator\n",
    "seed = 10\n",
    "rng = np.random.RandomState(seed)\n",
    "\n",
    "# Initial charge\n",
    "x0 = pd.Series(\n",
    "    [  14.62046054, 19.54869509, 30.4909952 , 59.16464939, 75.57541705,\n",
    "       17.64703708, 16.83913311,  8.65610521,  8.33291145,  6.88735838,\n",
    "        6.15659763,  5.58221494,  4.79823429,  4.91586709,  4.06564889,\n",
    "        3.97474632,  3.60557603,  3.32633561,  3.01808283,  2.73012767,\n",
    "        2.48076587,  2.23257191,  2.01928017,  1.74395147, 15.04972219],\n",
    "    index=pd.Index(range(1,26), name='Size Interval'),\n",
    "    name='Initial Charge'\n",
    ")\n",
    "np.isclose(calculate_load_pct(x0.sum()), 51.5, atol=1)\n",
    "\n",
    "n_sizes = x0.shape[0]\n",
    "nt = 100\n",
    "inputs = {\n",
    "    'Speed (%)': [76]*nt,\n",
    "    'Net Feedrate (ton/hr)': [2000]*nt\n",
    "}\n",
    "\n",
    "# Discharge rate function\n",
    "# From Morrell, 2004: \n",
    "# Max discharge rate is 30 1/hr for a 7 m diameter mill\n",
    "# 35 ft = 10.7 m => use 45 1/hr\n",
    "# d_max = 45/60*timestep_size = 0.375\n",
    "d_max = 45/60*timestep_size  # Max discharge rate per timestep\n",
    "c = 1 - class_efficiency  # Grate classification function\n",
    "discharge_rates = d_max * c\n",
    "\n",
    "rate_max = 45\n",
    "size_max = 12\n",
    "discharge_rates_ph = calculate_discharge_rates(mid_sizes_mm, rate_max, size_max, x_m=1)\n",
    "discharge_rates = discharge_rates_ph / 60*timestep_size\n",
    "\n",
    "state_log = simulate(x0, t0, inputs, timestep_size, feed_size, discharge_rates, \n",
    "                     mid_sizes_mm, state_log=None, rng=rng, stochastic=True)"
   ]
  },
  {
   "cell_type": "code",
   "execution_count": 125,
   "metadata": {},
   "outputs": [
    {
     "data": {
      "text/html": [
       "<div>\n",
       "<style scoped>\n",
       "    .dataframe tbody tr th:only-of-type {\n",
       "        vertical-align: middle;\n",
       "    }\n",
       "\n",
       "    .dataframe tbody tr th {\n",
       "        vertical-align: top;\n",
       "    }\n",
       "\n",
       "    .dataframe thead tr th {\n",
       "        text-align: left;\n",
       "    }\n",
       "</style>\n",
       "<table border=\"1\" class=\"dataframe\">\n",
       "  <thead>\n",
       "    <tr>\n",
       "      <th>Name</th>\n",
       "      <th>Timestep</th>\n",
       "      <th>Time (mins)</th>\n",
       "      <th>Charge Filling (%)</th>\n",
       "      <th>Speed (% Critical)</th>\n",
       "      <th>Power (kW)</th>\n",
       "      <th colspan=\"5\" halign=\"left\">Make-up Feed</th>\n",
       "      <th>...</th>\n",
       "      <th colspan=\"8\" halign=\"left\">Mill Discharge</th>\n",
       "      <th>Net Feedrate (ton/hr)</th>\n",
       "      <th>Mill Discharge (ton/hr)</th>\n",
       "    </tr>\n",
       "    <tr>\n",
       "      <th>Item</th>\n",
       "      <th>-</th>\n",
       "      <th>-</th>\n",
       "      <th>-</th>\n",
       "      <th>-</th>\n",
       "      <th>-</th>\n",
       "      <th>1</th>\n",
       "      <th>2</th>\n",
       "      <th>3</th>\n",
       "      <th>4</th>\n",
       "      <th>5</th>\n",
       "      <th>...</th>\n",
       "      <th>18</th>\n",
       "      <th>19</th>\n",
       "      <th>20</th>\n",
       "      <th>21</th>\n",
       "      <th>22</th>\n",
       "      <th>23</th>\n",
       "      <th>24</th>\n",
       "      <th>25</th>\n",
       "      <th>-</th>\n",
       "      <th>-</th>\n",
       "    </tr>\n",
       "  </thead>\n",
       "  <tbody>\n",
       "    <tr>\n",
       "      <th>0</th>\n",
       "      <td>0</td>\n",
       "      <td>0.5</td>\n",
       "      <td>51.005938</td>\n",
       "      <td>76</td>\n",
       "      <td>10073.008556</td>\n",
       "      <td>0.753331</td>\n",
       "      <td>1.007262</td>\n",
       "      <td>1.571073</td>\n",
       "      <td>3.048507</td>\n",
       "      <td>3.894085</td>\n",
       "      <td>...</td>\n",
       "      <td>1.551170</td>\n",
       "      <td>1.540260</td>\n",
       "      <td>1.426971</td>\n",
       "      <td>1.338144</td>\n",
       "      <td>1.148953</td>\n",
       "      <td>1.081300</td>\n",
       "      <td>0.898496</td>\n",
       "      <td>6.910762</td>\n",
       "      <td>2000</td>\n",
       "      <td>2999.588514</td>\n",
       "    </tr>\n",
       "    <tr>\n",
       "      <th>1</th>\n",
       "      <td>1</td>\n",
       "      <td>1.0</td>\n",
       "      <td>50.454155</td>\n",
       "      <td>76</td>\n",
       "      <td>10115.648494</td>\n",
       "      <td>0.753331</td>\n",
       "      <td>1.007262</td>\n",
       "      <td>1.571073</td>\n",
       "      <td>3.048507</td>\n",
       "      <td>3.894085</td>\n",
       "      <td>...</td>\n",
       "      <td>1.567762</td>\n",
       "      <td>1.633054</td>\n",
       "      <td>1.637608</td>\n",
       "      <td>1.440384</td>\n",
       "      <td>1.376543</td>\n",
       "      <td>1.239630</td>\n",
       "      <td>1.116742</td>\n",
       "      <td>7.681284</td>\n",
       "      <td>2000</td>\n",
       "      <td>3048.748112</td>\n",
       "    </tr>\n",
       "    <tr>\n",
       "      <th>2</th>\n",
       "      <td>2</td>\n",
       "      <td>1.5</td>\n",
       "      <td>49.897748</td>\n",
       "      <td>76</td>\n",
       "      <td>10156.409181</td>\n",
       "      <td>0.753331</td>\n",
       "      <td>1.007262</td>\n",
       "      <td>1.571073</td>\n",
       "      <td>3.048507</td>\n",
       "      <td>3.894085</td>\n",
       "      <td>...</td>\n",
       "      <td>1.617223</td>\n",
       "      <td>1.743773</td>\n",
       "      <td>1.665824</td>\n",
       "      <td>1.558524</td>\n",
       "      <td>1.399850</td>\n",
       "      <td>1.365846</td>\n",
       "      <td>1.311635</td>\n",
       "      <td>7.994075</td>\n",
       "      <td>2000</td>\n",
       "      <td>3025.927311</td>\n",
       "    </tr>\n",
       "    <tr>\n",
       "      <th>3</th>\n",
       "      <td>3</td>\n",
       "      <td>2.0</td>\n",
       "      <td>49.358293</td>\n",
       "      <td>76</td>\n",
       "      <td>10193.783733</td>\n",
       "      <td>0.753331</td>\n",
       "      <td>1.007262</td>\n",
       "      <td>1.571073</td>\n",
       "      <td>3.048507</td>\n",
       "      <td>3.894085</td>\n",
       "      <td>...</td>\n",
       "      <td>1.564272</td>\n",
       "      <td>1.666184</td>\n",
       "      <td>1.759216</td>\n",
       "      <td>1.546649</td>\n",
       "      <td>1.395348</td>\n",
       "      <td>1.500020</td>\n",
       "      <td>1.318971</td>\n",
       "      <td>8.084217</td>\n",
       "      <td>2000</td>\n",
       "      <td>2988.898744</td>\n",
       "    </tr>\n",
       "    <tr>\n",
       "      <th>4</th>\n",
       "      <td>4</td>\n",
       "      <td>2.5</td>\n",
       "      <td>48.847016</td>\n",
       "      <td>76</td>\n",
       "      <td>10227.257489</td>\n",
       "      <td>0.753331</td>\n",
       "      <td>1.007262</td>\n",
       "      <td>1.571073</td>\n",
       "      <td>3.048507</td>\n",
       "      <td>3.894085</td>\n",
       "      <td>...</td>\n",
       "      <td>1.484481</td>\n",
       "      <td>1.628533</td>\n",
       "      <td>1.728734</td>\n",
       "      <td>1.508205</td>\n",
       "      <td>1.383367</td>\n",
       "      <td>1.421078</td>\n",
       "      <td>1.348586</td>\n",
       "      <td>8.308221</td>\n",
       "      <td>2000</td>\n",
       "      <td>2923.446552</td>\n",
       "    </tr>\n",
       "  </tbody>\n",
       "</table>\n",
       "<p>5 rows × 82 columns</p>\n",
       "</div>"
      ],
      "text/plain": [
       "Name Timestep Time (mins) Charge Filling (%) Speed (% Critical)    Power (kW)  \\\n",
       "Item        -           -                  -                  -             -   \n",
       "0           0         0.5          51.005938                 76  10073.008556   \n",
       "1           1         1.0          50.454155                 76  10115.648494   \n",
       "2           2         1.5          49.897748                 76  10156.409181   \n",
       "3           3         2.0          49.358293                 76  10193.783733   \n",
       "4           4         2.5          48.847016                 76  10227.257489   \n",
       "\n",
       "Name Make-up Feed                                          ... Mill Discharge  \\\n",
       "Item            1         2         3         4         5  ...             18   \n",
       "0        0.753331  1.007262  1.571073  3.048507  3.894085  ...       1.551170   \n",
       "1        0.753331  1.007262  1.571073  3.048507  3.894085  ...       1.567762   \n",
       "2        0.753331  1.007262  1.571073  3.048507  3.894085  ...       1.617223   \n",
       "3        0.753331  1.007262  1.571073  3.048507  3.894085  ...       1.564272   \n",
       "4        0.753331  1.007262  1.571073  3.048507  3.894085  ...       1.484481   \n",
       "\n",
       "Name                                                                        \\\n",
       "Item        19        20        21        22        23        24        25   \n",
       "0     1.540260  1.426971  1.338144  1.148953  1.081300  0.898496  6.910762   \n",
       "1     1.633054  1.637608  1.440384  1.376543  1.239630  1.116742  7.681284   \n",
       "2     1.743773  1.665824  1.558524  1.399850  1.365846  1.311635  7.994075   \n",
       "3     1.666184  1.759216  1.546649  1.395348  1.500020  1.318971  8.084217   \n",
       "4     1.628533  1.728734  1.508205  1.383367  1.421078  1.348586  8.308221   \n",
       "\n",
       "Name Net Feedrate (ton/hr) Mill Discharge (ton/hr)  \n",
       "Item                     -                       -  \n",
       "0                     2000             2999.588514  \n",
       "1                     2000             3048.748112  \n",
       "2                     2000             3025.927311  \n",
       "3                     2000             2988.898744  \n",
       "4                     2000             2923.446552  \n",
       "\n",
       "[5 rows x 82 columns]"
      ]
     },
     "execution_count": 125,
     "metadata": {},
     "output_type": "execute_result"
    }
   ],
   "source": [
    "sim_data = state_log.make_dataframe()\n",
    "sim_data.head()"
   ]
  },
  {
   "cell_type": "code",
   "execution_count": 126,
   "metadata": {},
   "outputs": [
    {
     "data": {
      "text/plain": [
       "(100, 82)"
      ]
     },
     "execution_count": 126,
     "metadata": {},
     "output_type": "execute_result"
    }
   ],
   "source": [
    "sim_data.shape"
   ]
  },
  {
   "cell_type": "code",
   "execution_count": 127,
   "metadata": {},
   "outputs": [
    {
     "data": {
      "image/png": "[encoded data removed]",
      "text/plain": [
       "<Figure size 432x288 with 1 Axes>"
      ]
     },
     "metadata": {
      "needs_background": "light"
     },
     "output_type": "display_data"
    }
   ],
   "source": [
    "data = sim_data[[('Net Feedrate (ton/hr)','-'), ('Mill Discharge (ton/hr)','-')]]\n",
    "data.columns = data.columns.droplevel(1)\n",
    "data.plot()\n",
    "plt.ylim(0,)\n",
    "plt.grid()\n",
    "plt.show()"
   ]
  },
  {
   "cell_type": "code",
   "execution_count": 128,
   "metadata": {},
   "outputs": [
    {
     "data": {
      "image/png": "[encoded data removed]",
      "text/plain": [
       "<Figure size 432x288 with 1 Axes>"
      ]
     },
     "metadata": {
      "needs_background": "light"
     },
     "output_type": "display_data"
    }
   ],
   "source": [
    "data = sim_data[[('Speed (% Critical)','-'), ('Charge Filling (%)','-')]]\n",
    "data.columns = data.columns.droplevel(1)\n",
    "data.plot()\n",
    "plt.grid()\n",
    "plt.show()"
   ]
  },
  {
   "cell_type": "code",
   "execution_count": null,
   "metadata": {},
   "outputs": [],
   "source": []
  },
  {
   "cell_type": "code",
   "execution_count": null,
   "metadata": {},
   "outputs": [],
   "source": []
  },
  {
   "cell_type": "code",
   "execution_count": null,
   "metadata": {},
   "outputs": [],
   "source": []
  }
 ],
 "metadata": {
  "kernelspec": {
   "display_name": "Python (torch)",
   "language": "python",
   "name": "torch"
  },
  "language_info": {
   "codemirror_mode": {
    "name": "ipython",
    "version": 3
   },
   "file_extension": ".py",
   "mimetype": "text/x-python",
   "name": "python",
   "nbconvert_exporter": "python",
   "pygments_lexer": "ipython3",
   "version": "3.7.6"
  }
 },
 "nbformat": 4,
 "nbformat_minor": 2
}
