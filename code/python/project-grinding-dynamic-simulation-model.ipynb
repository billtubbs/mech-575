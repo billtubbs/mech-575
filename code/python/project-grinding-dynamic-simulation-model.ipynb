{
 "cells": [
  {
   "cell_type": "markdown",
   "metadata": {},
   "source": [
    "# Project - Grinding Dynamic Simulation Model"
   ]
  },
  {
   "cell_type": "code",
   "execution_count": 1,
   "metadata": {},
   "outputs": [],
   "source": [
    "import os\n",
    "import numpy as np\n",
    "import pandas as pd\n",
    "import matplotlib.pyplot as plt\n",
    "from scipy.integrate import solve_ivp\n",
    "\n",
    "%matplotlib inline"
   ]
  },
  {
   "cell_type": "markdown",
   "metadata": {},
   "source": [
    "## Grinding Model Differential Equations"
   ]
  },
  {
   "cell_type": "code",
   "execution_count": 2,
   "metadata": {},
   "outputs": [],
   "source": [
    "def f_dxdt(t, x, feed, r, b_matrix, d):\n",
    "    \"\"\"Ordinary differential equations describing the rate of change of\n",
    "    mill charge in each size fraction.  This is the 'General Grinding\n",
    "    Model' described in Molycop Tools spreadsheet (Eq. 3).  Note, t is\n",
    "    redundant in this case but is included for compatibility with\n",
    "    numerical solvers which are designed for the general case where dxdt\n",
    "    can be a function of time also.\n",
    "    \n",
    "    Args:\n",
    "        t (float): Time (mins).\n",
    "        x (array): Charge load (tons).\n",
    "        feed (np.ndarray): Mill feed (tons).\n",
    "        r (array): Breakage rates (selection function).\n",
    "        b_matrix (array): Breakage matrix (appearance functions).\n",
    "        d (array): Discharge grate efficiencies.\n",
    "    \"\"\"\n",
    "    A = r*(b_matrix - np.eye(b_matrix.shape[0])) - np.diag(d)\n",
    "    return feed + A @ x"
   ]
  },
  {
   "cell_type": "code",
   "execution_count": 3,
   "metadata": {},
   "outputs": [],
   "source": [
    "def solve(t, x0, dxdt, timestep_size, args, method='Radau'):\n",
    "    \"\"\"Estimates x at time t + timestep by starting at x0 and\n",
    "    using the derivate function dxdt to numerically solve the\n",
    "    initial value problem.\n",
    "    \n",
    "    Args:\n",
    "        t: (float): Initial time.\n",
    "        x0 (array): Initial x at time t (i.e. x[t]). \n",
    "        dxdt (function): Function which returns the derivative of x.\n",
    "        timestep_size (float): Timestep to increment by.\n",
    "        args (list): Additional arguments to pass to dxdt.\n",
    "    \n",
    "    Returns:\n",
    "        x2 (array): State vector at time t + timestep_size.\n",
    "    \"\"\"\n",
    "    t2 = t + timestep_size\n",
    "    sol = solve_ivp(dxdt, t_span=[t, t2], y0=x0, method=method,\n",
    "                    args=args)\n",
    "    assert sol.status == 0, \"Solver failed.\"\n",
    "\n",
    "    return sol.y[:, -1]"
   ]
  },
  {
   "cell_type": "markdown",
   "metadata": {},
   "source": [
    "## Unit Tests"
   ]
  },
  {
   "cell_type": "code",
   "execution_count": 4,
   "metadata": {},
   "outputs": [],
   "source": [
    "# Calculation example with 3 size intervals\n",
    "\n",
    "# Feed rates\n",
    "feed = np.array([ 2,  1,  0])\n",
    "\n",
    "# Discharge rate function\n",
    "d_max = 0.2  # Transport to grate\n",
    "c = np.array([  0, 0.5, 1.0])  # Grate classification function\n",
    "d = d_max * c\n",
    "\n",
    "# Breakage rates\n",
    "r = np.array([0.2, 0.25, 0.1])\n",
    "\n",
    "assert all((r + d) <= 1)\n",
    "\n",
    "# Initial charge\n",
    "x0 = np.array([30, 30, 30])\n",
    "\n",
    "# Breakage matrix\n",
    "b_matrix = np.array([\n",
    "    [  0,   0,   0],\n",
    "    [0.5,   0,   0],\n",
    "    [0.5, 1.0,   0]\n",
    "])\n",
    "\n",
    "assert all(sum(b_matrix)[:-1] == 1)\n",
    "\n",
    "n_sizes = x0.shape[0]\n",
    "assert feed.shape == (n_sizes, )\n",
    "assert d.shape == (n_sizes, )\n",
    "assert r.shape == (n_sizes, )"
   ]
  },
  {
   "cell_type": "code",
   "execution_count": 5,
   "metadata": {},
   "outputs": [
    {
     "data": {
      "text/plain": [
       "array([-4. , -6.5,  1.5])"
      ]
     },
     "execution_count": 5,
     "metadata": {},
     "output_type": "execute_result"
    }
   ],
   "source": [
    "# Test derivative calculations\n",
    "t = 0\n",
    "dxdt = f_dxdt(t, x0, feed, r, b_matrix, d)\n",
    "dxdt"
   ]
  },
  {
   "cell_type": "code",
   "execution_count": 6,
   "metadata": {},
   "outputs": [
    {
     "data": {
      "text/plain": [
       "(-4.0, -4.0)"
      ]
     },
     "execution_count": 6,
     "metadata": {},
     "output_type": "execute_result"
    }
   ],
   "source": [
    "# Rate of change of charge - size 1\n",
    "dxdt1_true = (feed[0] - x0[0] * r[0]) * (1 - d[0])\n",
    "assert dxdt[0] == dxdt1_true\n",
    "dxdt[0], dxdt1_true"
   ]
  },
  {
   "cell_type": "code",
   "execution_count": 10,
   "metadata": {},
   "outputs": [],
   "source": [
    "breakage = x0 * r\n",
    "discharge = x0 * d"
   ]
  },
  {
   "cell_type": "code",
   "execution_count": 11,
   "metadata": {},
   "outputs": [
    {
     "data": {
      "text/plain": [
       "(-6.5, -6.5)"
      ]
     },
     "execution_count": 11,
     "metadata": {},
     "output_type": "execute_result"
    }
   ],
   "source": [
    "# Rate of change of charge - size 2\n",
    "dxdt2_true = (feed[1]\n",
    "    + breakage[0] * b_matrix[1, 0]\n",
    "    - breakage[1]\n",
    "    - discharge[1]\n",
    ")\n",
    "assert dxdt[1] == dxdt2_true\n",
    "dxdt[1], dxdt2_true"
   ]
  },
  {
   "cell_type": "code",
   "execution_count": 13,
   "metadata": {},
   "outputs": [
    {
     "data": {
      "text/plain": [
       "(1.4999999999999982, 1.5)"
      ]
     },
     "execution_count": 13,
     "metadata": {},
     "output_type": "execute_result"
    }
   ],
   "source": [
    "# Rate of change of charge - size 3\n",
    "dxdt3_true = (feed[2]\n",
    "    + breakage[0] * b_matrix[2, 0]\n",
    "    + breakage[1] * b_matrix[2, 1]\n",
    "    - breakage[2]\n",
    "    - discharge[2]\n",
    ")\n",
    "assert np.isclose(dxdt[2], dxdt3_true)\n",
    "dxdt[2], dxdt3_true"
   ]
  },
  {
   "cell_type": "code",
   "execution_count": 14,
   "metadata": {},
   "outputs": [
    {
     "data": {
      "text/plain": [
       "array([28.09674836, 26.97283772, 30.46615437])"
      ]
     },
     "execution_count": 14,
     "metadata": {},
     "output_type": "execute_result"
    }
   ],
   "source": [
    "# Test solver\n",
    "t = 0\n",
    "timestep_size = 0.5\n",
    "x1 = solve(t, x0, f_dxdt, timestep_size, args=[feed, r, b_matrix, d])\n",
    "x1"
   ]
  },
  {
   "cell_type": "code",
   "execution_count": 15,
   "metadata": {},
   "outputs": [
    {
     "name": "stdout",
     "output_type": "stream",
     "text": [
      "[-3.99600267 -6.4906346   1.4876465 ] [-4.  -6.5  1.5]\n"
     ]
    }
   ],
   "source": [
    "# Test solution with difference estimates\n",
    "t = 0\n",
    "timestep_size = 0.01  # Small timestep\n",
    "x1 = solve(t, x0, f_dxdt, timestep_size, args=[feed, r, b_matrix, d])\n",
    "dxdt_est = (x1 - x0) / timestep_size\n",
    "dxdt_true = f_dxdt(t, x0, feed, r, b_matrix, d)\n",
    "\n",
    "assert np.isclose(dxdt_est, dxdt_true, atol=0.05).all()\n",
    "\n",
    "print(dxdt_est, dxdt_true)"
   ]
  },
  {
   "cell_type": "code",
   "execution_count": 16,
   "metadata": {},
   "outputs": [],
   "source": [
    "# Simulate over time\n",
    "nt = 50\n",
    "timestep_size = 0.5\n",
    "\n",
    "# Constant feedrate\n",
    "feed_rates = np.repeat(feed.reshape(1,-1), nt, axis=0)\n",
    "\n",
    "# Initialize variables\n",
    "x = np.zeros((nt, n_sizes))\n",
    "discharge_rates = np.zeros((nt, n_sizes))\n",
    "x[0] = x0\n",
    "\n",
    "t = np.arange(nt) * timestep_size\n",
    "for k in range(1, nt):\n",
    "    feed = feed_rates[k]\n",
    "    x[k, :] = solve(t[k], x[k-1], f_dxdt, timestep_size, args=[feed, r, b_matrix, d])\n",
    "    discharge_rates[k] = feed + x[k-1] - x[k]"
   ]
  },
  {
   "cell_type": "code",
   "execution_count": 17,
   "metadata": {},
   "outputs": [
    {
     "data": {
      "image/png": "[encoded data removed]",
      "text/plain": [
       "<Figure size 576x432 with 2 Axes>"
      ]
     },
     "metadata": {
      "needs_background": "light"
     },
     "output_type": "display_data"
    }
   ],
   "source": [
    "fig, axes = plt.subplots(2, 1, figsize=(8,6), sharex=True)\n",
    "\n",
    "ax = axes[0]\n",
    "for i in range(3):\n",
    "    ax.plot(t, x[:,i], '.-', label=f'$x_{i+1}$')\n",
    "ax.set_title('Mill Charge')\n",
    "ax.set_ylabel('Tons')\n",
    "ax.grid()\n",
    "ax.legend()\n",
    "\n",
    "ax = axes[1]\n",
    "ax.plot(t, feed_rates.sum(axis=1), '.-', label='feed')\n",
    "ax.plot(t, discharge_rates.sum(axis=1), '.-', label='discharge')\n",
    "ax.set_title('Feed and Discharge Rates')\n",
    "ax.set_xlabel('t')\n",
    "ax.set_ylabel('Tons per timestep')\n",
    "ax.grid()\n",
    "ax.legend()\n",
    "\n",
    "plt.tight_layout()\n",
    "plt.show()"
   ]
  },
  {
   "cell_type": "code",
   "execution_count": null,
   "metadata": {},
   "outputs": [],
   "source": []
  },
  {
   "cell_type": "code",
   "execution_count": null,
   "metadata": {},
   "outputs": [],
   "source": []
  },
  {
   "cell_type": "code",
   "execution_count": null,
   "metadata": {},
   "outputs": [],
   "source": []
  },
  {
   "cell_type": "code",
   "execution_count": null,
   "metadata": {},
   "outputs": [],
   "source": []
  },
  {
   "cell_type": "code",
   "execution_count": null,
   "metadata": {},
   "outputs": [],
   "source": []
  }
 ],
 "metadata": {
  "kernelspec": {
   "display_name": "Python [conda env:torch]",
   "language": "python",
   "name": "conda-env-torch-py"
  },
  "language_info": {
   "codemirror_mode": {
    "name": "ipython",
    "version": 3
   },
   "file_extension": ".py",
   "mimetype": "text/x-python",
   "name": "python",
   "nbconvert_exporter": "python",
   "pygments_lexer": "ipython3",
   "version": "3.7.6"
  }
 },
 "nbformat": 4,
 "nbformat_minor": 2
}
