{
 "cells": [
  {
   "cell_type": "markdown",
   "metadata": {},
   "source": [
    "# Project - Grinding Dynamic Simulation Model"
   ]
  },
  {
   "cell_type": "code",
   "execution_count": 3,
   "metadata": {},
   "outputs": [
    {
     "data": {
      "text/plain": [
       "'3.7.6'"
      ]
     },
     "execution_count": 3,
     "metadata": {},
     "output_type": "execute_result"
    }
   ],
   "source": [
    "from platform import python_version\n",
    "python_version()"
   ]
  },
  {
   "cell_type": "code",
   "execution_count": 4,
   "metadata": {},
   "outputs": [],
   "source": [
    "import os\n",
    "import numpy as np\n",
    "import pandas as pd\n",
    "import matplotlib.pyplot as plt\n",
    "from scipy.integrate import solve_ivp\n",
    "\n",
    "%matplotlib inline"
   ]
  },
  {
   "cell_type": "markdown",
   "metadata": {},
   "source": [
    "## Grinding Model Differential Equations"
   ]
  },
  {
   "cell_type": "code",
   "execution_count": 5,
   "metadata": {},
   "outputs": [],
   "source": [
    "def f_dxdt(t, x, feed, r, b_matrix, d):\n",
    "    \"\"\"Ordinary differential equations describing the rate of change of\n",
    "    mill charge in each size fraction.  This is the 'General Grinding\n",
    "    Model' described in Molycop Tools spreadsheet (Eq. 3).  Note, t is\n",
    "    redundant in this case but is included for compatibility with\n",
    "    numerical solvers which are designed for the general case where dxdt\n",
    "    can be a function of time also.\n",
    "    \n",
    "    Args:\n",
    "        t (float): Time (mins).\n",
    "        x (array): Charge load (tons).\n",
    "        feed (np.ndarray): Mill feed (tons).\n",
    "        r (array): Breakage rates (selection function).\n",
    "        b_matrix (array): Breakage matrix (appearance functions).\n",
    "        d (array): Discharge grate efficiencies.\n",
    "    \"\"\"\n",
    "    A = r*(b_matrix - np.eye(b_matrix.shape[0])) - np.diag(d)\n",
    "    return feed + A @ x"
   ]
  },
  {
   "cell_type": "code",
   "execution_count": 6,
   "metadata": {},
   "outputs": [],
   "source": [
    "def solve(t, x0, dxdt, timestep_size, args, method='Radau'):\n",
    "    \"\"\"Estimates x at time t + timestep by starting at x0 and\n",
    "    using the derivate function dxdt to numerically solve the\n",
    "    initial value problem.\n",
    "    \n",
    "    Args:\n",
    "        t: (float): Initial time.\n",
    "        x0 (array): Initial x at time t (i.e. x[t]). \n",
    "        dxdt (function): Function which returns the derivative of x.\n",
    "        timestep_size (float): Timestep to increment by.\n",
    "        args (list): Additional arguments to pass to dxdt.\n",
    "    \n",
    "    Returns:\n",
    "        x2 (array): State vector at time t + timestep_size.\n",
    "    \"\"\"\n",
    "    t2 = t + timestep_size\n",
    "    sol = solve_ivp(dxdt, t_span=[t, t2], y0=x0, method=method,\n",
    "                    args=args)\n",
    "    assert sol.status == 0, \"Solver failed.\"\n",
    "\n",
    "    return sol.y[:, -1]"
   ]
  },
  {
   "cell_type": "markdown",
   "metadata": {},
   "source": [
    "## Unit Tests"
   ]
  },
  {
   "cell_type": "code",
   "execution_count": 7,
   "metadata": {},
   "outputs": [],
   "source": [
    "# Calculation example with 3 size intervals\n",
    "\n",
    "# Feed rates\n",
    "feed = np.array([ 2,  1,  0.5])\n",
    "\n",
    "# Discharge rate function\n",
    "d_max = 0.2  # Transport to grate\n",
    "c = np.array([  0, 0.5, 1.0])  # Grate classification function\n",
    "d = d_max * c\n",
    "\n",
    "# Breakage rates\n",
    "r = np.array([0.2, 0.25, 0.0])\n",
    "\n",
    "assert r[-1] == 0.0  # r=0 for smallest size fraction\n",
    "assert all((r + d) <= 1)\n",
    "\n",
    "# Initial charge\n",
    "x0 = np.array([30, 30, 30])\n",
    "\n",
    "# Breakage matrix\n",
    "b_matrix = np.array([\n",
    "    [  0,   0,   0],\n",
    "    [0.5,   0,   0],\n",
    "    [0.5, 1.0,   0]\n",
    "])\n",
    "\n",
    "assert all(sum(b_matrix)[:-1] == 1)\n",
    "\n",
    "n_sizes = x0.shape[0]\n",
    "assert feed.shape == (n_sizes, )\n",
    "assert d.shape == (n_sizes, )\n",
    "assert r.shape == (n_sizes, )"
   ]
  },
  {
   "cell_type": "code",
   "execution_count": 8,
   "metadata": {},
   "outputs": [
    {
     "data": {
      "text/plain": [
       "array([-4. , -6.5,  5. ])"
      ]
     },
     "execution_count": 8,
     "metadata": {},
     "output_type": "execute_result"
    }
   ],
   "source": [
    "# Test derivative calculations\n",
    "t = 0\n",
    "dxdt = f_dxdt(t, x0, feed, r, b_matrix, d)\n",
    "dxdt"
   ]
  },
  {
   "cell_type": "code",
   "execution_count": 9,
   "metadata": {},
   "outputs": [
    {
     "data": {
      "text/plain": [
       "(-4.0, -4.0)"
      ]
     },
     "execution_count": 9,
     "metadata": {},
     "output_type": "execute_result"
    }
   ],
   "source": [
    "# Rate of change of charge - size 1\n",
    "dxdt1_true = (feed[0] - x0[0] * r[0]) * (1 - d[0])\n",
    "assert dxdt[0] == dxdt1_true\n",
    "dxdt[0], dxdt1_true"
   ]
  },
  {
   "cell_type": "code",
   "execution_count": 10,
   "metadata": {},
   "outputs": [],
   "source": [
    "breakage = x0 * r\n",
    "discharge = x0 * d"
   ]
  },
  {
   "cell_type": "code",
   "execution_count": 11,
   "metadata": {},
   "outputs": [
    {
     "data": {
      "text/plain": [
       "(-6.5, -6.5)"
      ]
     },
     "execution_count": 11,
     "metadata": {},
     "output_type": "execute_result"
    }
   ],
   "source": [
    "# Rate of change of charge - size 2\n",
    "dxdt2_true = (feed[1]\n",
    "    + breakage[0] * b_matrix[1, 0]\n",
    "    - breakage[1]\n",
    "    - discharge[1]\n",
    ")\n",
    "assert dxdt[1] == dxdt2_true\n",
    "dxdt[1], dxdt2_true"
   ]
  },
  {
   "cell_type": "code",
   "execution_count": 12,
   "metadata": {},
   "outputs": [
    {
     "data": {
      "text/plain": [
       "(5.0, 5.0)"
      ]
     },
     "execution_count": 12,
     "metadata": {},
     "output_type": "execute_result"
    }
   ],
   "source": [
    "# Rate of change of charge - size 3\n",
    "dxdt3_true = (feed[2]\n",
    "    + breakage[0] * b_matrix[2, 0]\n",
    "    + breakage[1] * b_matrix[2, 1]\n",
    "    - breakage[2]\n",
    "    - discharge[2]\n",
    ")\n",
    "assert np.isclose(dxdt[2], dxdt3_true)\n",
    "dxdt[2], dxdt3_true"
   ]
  },
  {
   "cell_type": "code",
   "execution_count": 13,
   "metadata": {},
   "outputs": [
    {
     "data": {
      "text/plain": [
       "array([0., 3., 6.])"
      ]
     },
     "execution_count": 13,
     "metadata": {},
     "output_type": "execute_result"
    }
   ],
   "source": [
    "# How to calculate discharge rate\n",
    "discharge_rate = d*x0\n",
    "discharge_rate"
   ]
  },
  {
   "cell_type": "code",
   "execution_count": 14,
   "metadata": {},
   "outputs": [
    {
     "data": {
      "text/plain": [
       "array([[ 2. , -4. ,  0. ],\n",
       "       [ 1. , -6.5,  3. ],\n",
       "       [ 0.5,  5. ,  6. ]])"
      ]
     },
     "execution_count": 14,
     "metadata": {},
     "output_type": "execute_result"
    }
   ],
   "source": [
    "# Mill flows\n",
    "np.stack([feed, dxdt, discharge]).T"
   ]
  },
  {
   "cell_type": "code",
   "execution_count": 15,
   "metadata": {},
   "outputs": [
    {
     "name": "stdout",
     "output_type": "stream",
     "text": [
      "3.5 -5.5 9.0\n"
     ]
    }
   ],
   "source": [
    "# Check overall mass balance\n",
    "print(feed.sum(), dxdt.sum(), discharge_rate.sum())\n",
    "assert dxdt.sum() == feed.sum() - discharge_rate.sum()"
   ]
  },
  {
   "cell_type": "code",
   "execution_count": 16,
   "metadata": {},
   "outputs": [
    {
     "data": {
      "text/plain": [
       "array([28.09674836, 26.97283772, 32.14492609])"
      ]
     },
     "execution_count": 16,
     "metadata": {},
     "output_type": "execute_result"
    }
   ],
   "source": [
    "# Test solver\n",
    "t = 0\n",
    "timestep_size = 0.5\n",
    "x1 = solve(t, x0, f_dxdt, timestep_size, args=[feed, r, b_matrix, d])\n",
    "x1"
   ]
  },
  {
   "cell_type": "code",
   "execution_count": 17,
   "metadata": {},
   "outputs": [
    {
     "name": "stdout",
     "output_type": "stream",
     "text": [
      "[-3.99600267 -6.4906346   4.98489421] [-4.  -6.5  5. ]\n"
     ]
    }
   ],
   "source": [
    "# Test solution with difference estimates\n",
    "t = 0\n",
    "timestep_size = 0.01  # Small timestep\n",
    "x1 = solve(t, x0, f_dxdt, timestep_size, args=[feed, r, b_matrix, d])\n",
    "dxdt_est = (x1 - x0) / timestep_size\n",
    "dxdt_true = f_dxdt(t, x0, feed, r, b_matrix, d)\n",
    "\n",
    "assert np.isclose(dxdt_est, dxdt_true, atol=0.05).all()\n",
    "\n",
    "print(dxdt_est, dxdt_true)"
   ]
  },
  {
   "cell_type": "markdown",
   "metadata": {},
   "source": [
    "## Simulate over time"
   ]
  },
  {
   "cell_type": "code",
   "execution_count": 18,
   "metadata": {},
   "outputs": [],
   "source": [
    "# Number of timesteps\n",
    "nt = 50\n",
    "timestep_size = 0.5\n",
    "\n",
    "# Feedrate\n",
    "feed_rates = np.repeat(feed.reshape(1,-1), nt+1, axis=0)\n",
    "\n",
    "# Increase feedrate after 30 timesteps\n",
    "feed_rates[30:] = 2 * feed_rates[30:]\n",
    "\n",
    "# Initialize variables\n",
    "x = np.zeros((nt+1, n_sizes))\n",
    "discharge_rates = np.zeros((nt+1, n_sizes))\n",
    "x[0] = x0\n",
    "\n",
    "t = np.arange(nt+1) * timestep_size\n",
    "for k in range(1, nt+1):\n",
    "    feed = feed_rates[k]\n",
    "    x[k, :] = solve(t[k], x[k-1], f_dxdt, timestep_size, args=[feed, r, b_matrix, d])\n",
    "    discharge_rates[k] = d*x[k]"
   ]
  },
  {
   "cell_type": "code",
   "execution_count": 19,
   "metadata": {},
   "outputs": [
    {
     "data": {
      "text/html": [
       "<div>\n",
       "<style scoped>\n",
       "    .dataframe tbody tr th:only-of-type {\n",
       "        vertical-align: middle;\n",
       "    }\n",
       "\n",
       "    .dataframe tbody tr th {\n",
       "        vertical-align: top;\n",
       "    }\n",
       "\n",
       "    .dataframe thead th {\n",
       "        text-align: right;\n",
       "    }\n",
       "</style>\n",
       "<table border=\"1\" class=\"dataframe\">\n",
       "  <thead>\n",
       "    <tr style=\"text-align: right;\">\n",
       "      <th></th>\n",
       "      <th>$x_1$</th>\n",
       "      <th>$x_2$</th>\n",
       "      <th>$x_3$</th>\n",
       "    </tr>\n",
       "    <tr>\n",
       "      <th>t</th>\n",
       "      <th></th>\n",
       "      <th></th>\n",
       "      <th></th>\n",
       "    </tr>\n",
       "  </thead>\n",
       "  <tbody>\n",
       "    <tr>\n",
       "      <th>0.0</th>\n",
       "      <td>30.00</td>\n",
       "      <td>30.00</td>\n",
       "      <td>30.00</td>\n",
       "    </tr>\n",
       "    <tr>\n",
       "      <th>0.5</th>\n",
       "      <td>28.10</td>\n",
       "      <td>26.97</td>\n",
       "      <td>32.14</td>\n",
       "    </tr>\n",
       "    <tr>\n",
       "      <th>1.0</th>\n",
       "      <td>26.37</td>\n",
       "      <td>24.35</td>\n",
       "      <td>33.66</td>\n",
       "    </tr>\n",
       "    <tr>\n",
       "      <th>1.5</th>\n",
       "      <td>24.82</td>\n",
       "      <td>22.07</td>\n",
       "      <td>34.67</td>\n",
       "    </tr>\n",
       "    <tr>\n",
       "      <th>2.0</th>\n",
       "      <td>23.41</td>\n",
       "      <td>20.09</td>\n",
       "      <td>35.26</td>\n",
       "    </tr>\n",
       "  </tbody>\n",
       "</table>\n",
       "</div>"
      ],
      "text/plain": [
       "     $x_1$  $x_2$  $x_3$\n",
       "t                       \n",
       "0.0  30.00  30.00  30.00\n",
       "0.5  28.10  26.97  32.14\n",
       "1.0  26.37  24.35  33.66\n",
       "1.5  24.82  22.07  34.67\n",
       "2.0  23.41  20.09  35.26"
      ]
     },
     "execution_count": 19,
     "metadata": {},
     "output_type": "execute_result"
    }
   ],
   "source": [
    "# Convert results to dataframe\n",
    "labels = [f'$x_{i+1}$' for i in range(n_sizes)]\n",
    "index = pd.Index(t, name='t')\n",
    "charge_weights = pd.DataFrame(x, columns=labels, index=index)\n",
    "charge_weights.round(2).head()"
   ]
  },
  {
   "cell_type": "code",
   "execution_count": 20,
   "metadata": {},
   "outputs": [
    {
     "data": {
      "image/png": "[encoded data removed]",
      "text/plain": [
       "<Figure size 576x432 with 2 Axes>"
      ]
     },
     "metadata": {
      "needs_background": "light"
     },
     "output_type": "display_data"
    }
   ],
   "source": [
    "fig, axes = plt.subplots(2, 1, figsize=(8,6), sharex=True)\n",
    "\n",
    "ax = axes[0]\n",
    "ax.plot(t, feed_rates.sum(axis=1), '.-', label='feed')\n",
    "ax.plot(t, discharge_rates.sum(axis=1), '.-', label='discharge')\n",
    "ax.set_title('Feed and Discharge Rates')\n",
    "ax.set_xlabel('t')\n",
    "ax.set_ylabel('Tons per timestep')\n",
    "ax.grid()\n",
    "ax.legend()\n",
    "\n",
    "ax = axes[1]\n",
    "charge_weights.plot.area(ax=ax, stacked=True)\n",
    "ax.set_title('Mill Charge')\n",
    "ax.set_ylabel('Tons')\n",
    "ax.grid()\n",
    "ax.legend()\n",
    "\n",
    "plt.tight_layout()\n",
    "plt.show()"
   ]
  },
  {
   "cell_type": "code",
   "execution_count": 21,
   "metadata": {},
   "outputs": [
    {
     "data": {
      "image/png": "[encoded data removed]",
      "text/plain": [
       "<Figure size 576x216 with 2 Axes>"
      ]
     },
     "metadata": {
      "needs_background": "light"
     },
     "output_type": "display_data"
    }
   ],
   "source": [
    "fig, axes = plt.subplots(1, 2, sharey=True, figsize=(8,3))\n",
    "\n",
    "ax = axes[0]\n",
    "pd.Series(feed_rates[-1]).plot.bar(ax=ax)\n",
    "ax.set_xlabel('Size interval')\n",
    "ax.set_ylabel('Tons/h')\n",
    "ax.set_title('Feed Rates')\n",
    "ax.grid()\n",
    "\n",
    "ax = axes[1]\n",
    "pd.Series(discharge_rates[-1]).plot.bar(ax=ax)\n",
    "ax.set_xlabel('Size interval')\n",
    "ax.set_ylabel('Tons/h')\n",
    "ax.set_title('Discharge Rates')\n",
    "ax.grid()\n",
    "\n",
    "plt.show()"
   ]
  },
  {
   "cell_type": "code",
   "execution_count": null,
   "metadata": {},
   "outputs": [],
   "source": []
  },
  {
   "cell_type": "markdown",
   "metadata": {},
   "source": [
    "## Setup Full-Scale Simulation"
   ]
  },
  {
   "cell_type": "code",
   "execution_count": 31,
   "metadata": {},
   "outputs": [],
   "source": [
    "from molycop.models import StaticBreakageFunction\n",
    "from molycop import mill_calcs"
   ]
  },
  {
   "cell_type": "code",
   "execution_count": 32,
   "metadata": {},
   "outputs": [
    {
     "data": {
      "text/html": [
       "<div>\n",
       "<style scoped>\n",
       "    .dataframe tbody tr th:only-of-type {\n",
       "        vertical-align: middle;\n",
       "    }\n",
       "\n",
       "    .dataframe tbody tr th {\n",
       "        vertical-align: top;\n",
       "    }\n",
       "\n",
       "    .dataframe thead th {\n",
       "        text-align: right;\n",
       "    }\n",
       "</style>\n",
       "<table border=\"1\" class=\"dataframe\">\n",
       "  <thead>\n",
       "    <tr style=\"text-align: right;\">\n",
       "      <th></th>\n",
       "      <th>Size</th>\n",
       "      <th>Opening</th>\n",
       "    </tr>\n",
       "    <tr>\n",
       "      <th>Size Interval</th>\n",
       "      <th></th>\n",
       "      <th></th>\n",
       "    </tr>\n",
       "  </thead>\n",
       "  <tbody>\n",
       "    <tr>\n",
       "      <th>1</th>\n",
       "      <td>16.0</td>\n",
       "      <td>406400</td>\n",
       "    </tr>\n",
       "    <tr>\n",
       "      <th>2</th>\n",
       "      <td>8.0</td>\n",
       "      <td>203200</td>\n",
       "    </tr>\n",
       "    <tr>\n",
       "      <th>3</th>\n",
       "      <td>4.0</td>\n",
       "      <td>101600</td>\n",
       "    </tr>\n",
       "    <tr>\n",
       "      <th>4</th>\n",
       "      <td>3.0</td>\n",
       "      <td>76100</td>\n",
       "    </tr>\n",
       "    <tr>\n",
       "      <th>5</th>\n",
       "      <td>2.0</td>\n",
       "      <td>50800</td>\n",
       "    </tr>\n",
       "  </tbody>\n",
       "</table>\n",
       "</div>"
      ],
      "text/plain": [
       "               Size  Opening\n",
       "Size Interval               \n",
       "1              16.0   406400\n",
       "2               8.0   203200\n",
       "3               4.0   101600\n",
       "4               3.0    76100\n",
       "5               2.0    50800"
      ]
     },
     "execution_count": 32,
     "metadata": {},
     "output_type": "execute_result"
    }
   ],
   "source": [
    "mesh_dimensions = {\n",
    "    'Size Interval': np.arange(1, 27),\n",
    "    'Size': [\n",
    "        16, 8, 4, 3, 2, 1.05, 0.742, 0.525, 0.371,\n",
    "        3, 4, 6, 8, 10, 14, 20, 28, 35, 48, 65,\n",
    "        100, 150, 200, 270, 400, -400\n",
    "    ],\n",
    "    'Opening': [\n",
    "        406400, 203200, 101600, 76100, 50800,\n",
    "        25400, 19050, 12700, 9500, 6700,\n",
    "        4750, 3350, 2360, 1700, 1180,\n",
    "        850, 600, 425, 300, 212,\n",
    "        150, 106, 75, 53, 38, 0\n",
    "    ]\n",
    "}\n",
    "\n",
    "mesh = pd.DataFrame(mesh_dimensions).set_index('Size Interval')\n",
    "mesh.head()"
   ]
  },
  {
   "cell_type": "code",
   "execution_count": 33,
   "metadata": {},
   "outputs": [
    {
     "data": {
      "text/plain": [
       "array([406400, 203200, 101600,  76100,  50800,  25400,  19050,  12700,\n",
       "         9500,   6700,   4750,   3350,   2360,   1700,   1180,    850,\n",
       "          600,    425,    300,    212,    150,    106,     75,     53,\n",
       "           38])"
      ]
     },
     "execution_count": 33,
     "metadata": {},
     "output_type": "execute_result"
    }
   ],
   "source": [
    "mesh_openings = (mesh['Opening'].iloc[:-1]).values\n",
    "mesh_openings"
   ]
  },
  {
   "cell_type": "code",
   "execution_count": 34,
   "metadata": {},
   "outputs": [],
   "source": [
    "mid_sizes = mill_calcs.calculate_mesh_mid_sizes(mesh['Opening'])"
   ]
  },
  {
   "cell_type": "code",
   "execution_count": 35,
   "metadata": {},
   "outputs": [
    {
     "data": {
      "text/plain": [
       "<molycop.models.StaticBreakageFunction at 0x1819b3c150>"
      ]
     },
     "execution_count": 35,
     "metadata": {},
     "output_type": "execute_result"
    }
   ],
   "source": [
    "# Deafult selection and breakage model from Molycop Tools SAGSim model\n",
    "selection_params = {\n",
    "    'Balls': {'alpha0': 0.00358000, 'alpha1': 0.650,\n",
    "              'alpha2': 3.500, 'dcrit': 25400},\n",
    "    'Rocks': {'alpha0': 0.00228000, 'alpha1': 0.650,\n",
    "              'alpha2': 3.500, 'dcrit': 9500},\n",
    "    'Self': {'alpha0': 0.00018, 'alpha1': 0.650}\n",
    "}\n",
    "\n",
    "breakage_params = {\n",
    "    'beta00': 0.400,\n",
    "    'beta01': 0.050,\n",
    "    'beta1': 0.650,\n",
    "    'beta2': 2.500,\n",
    "    'beta30': 0.127,\n",
    "    'beta31': 0.000\n",
    "}\n",
    "breakage_function = StaticBreakageFunction(selection_params, breakage_params)\n",
    "breakage_function"
   ]
  },
  {
   "cell_type": "code",
   "execution_count": 36,
   "metadata": {},
   "outputs": [
    {
     "data": {
      "text/plain": [
       "(25, 25)"
      ]
     },
     "execution_count": 36,
     "metadata": {},
     "output_type": "execute_result"
    }
   ],
   "source": [
    "b_matrix = breakage_function.calculate_breakage_matrix(mesh_openings)\n",
    "b_matrix.shape"
   ]
  },
  {
   "cell_type": "code",
   "execution_count": 37,
   "metadata": {},
   "outputs": [
    {
     "data": {
      "image/png": "[encoded data removed]",
      "text/plain": [
       "<Figure size 432x288 with 2 Axes>"
      ]
     },
     "metadata": {
      "needs_background": "light"
     },
     "output_type": "display_data"
    }
   ],
   "source": [
    "# Visualize B[i, j] matrix\n",
    "plt.imshow(b_matrix, cmap='viridis')\n",
    "plt.colorbar()\n",
    "plt.show()"
   ]
  },
  {
   "cell_type": "markdown",
   "metadata": {},
   "source": [
    "## Variable breakage rates model"
   ]
  },
  {
   "cell_type": "code",
   "execution_count": 47,
   "metadata": {},
   "outputs": [],
   "source": [
    "from scipy.interpolate import CubicSpline\n",
    "\n",
    "class DynamicBreakageFunctionMorrell2004:\n",
    "\n",
    "    # Data from Morrell's SAG mill model paper (2004)\n",
    "    default_selection_params = {\n",
    "        'Sizes (mm)': [0.25, 4., 16., 45., 128.],\n",
    "        'Charge Fillings (%)': {\n",
    "            'Baseline': 20,\n",
    "            'High load': 40\n",
    "        },\n",
    "        'Speeds (% Critical)': {\n",
    "            'Baseline': 68,\n",
    "            'High speed': 80\n",
    "        },\n",
    "        'Breakage Rates log(1/hour)': {\n",
    "            'Baseline': [2.15, 3.92, 3.83, 3.15, 3.97],\n",
    "            'High load': [3.09, 4.84, 3.72, 2.18, 2.99],\n",
    "            'High speed': [2.04, 3.83, 3.85, 3.55, 4.8]\n",
    "        }\n",
    "    }\n",
    "\n",
    "    default_breakage_params = {\n",
    "        'beta00': 0.400,\n",
    "        'beta01': 0.050,\n",
    "        'beta1': 0.650,\n",
    "        'beta2': 2.500,\n",
    "        'beta30': 0.127,\n",
    "        'beta31': 0.000\n",
    "    }\n",
    "\n",
    "    def __init__(self, selection_params=None, breakage_params=None):\n",
    "\n",
    "        # TODO: Replace breakage matrix with JK (A, b) method\n",
    "        if breakage_params is None:\n",
    "            breakage_params = self.default_breakage_params\n",
    "        self.breakage_params = breakage_params\n",
    "\n",
    "        if selection_params is None:\n",
    "            selection_params = self.default_selection_params\n",
    "        self.selection_params = selection_params\n",
    "\n",
    "        self.sizes = selection_params['Sizes (mm)']\n",
    "        self.load_pcts = selection_params['Charge Fillings (%)']\n",
    "        self.speed_pcts = selection_params['Speeds (% Critical)']\n",
    "        self.load_range = (self.load_pcts['High load']\n",
    "                           - self.load_pcts['Baseline'])\n",
    "        self.speed_range = (self.speed_pcts['High speed']\n",
    "                            - self.speed_pcts['Baseline'])\n",
    "        index = pd.Index(self.sizes, name='Size (mm)')\n",
    "        rate_data = selection_params['Breakage Rates log(1/hour)']\n",
    "        assert all([name in rate_data for name in\n",
    "                    ['Baseline', 'High load', 'High speed']])\n",
    "        self.breakage_rate_pts = pd.DataFrame(rate_data, index=index)\n",
    "        self.cubic_splines = None\n",
    "\n",
    "    def make_cubic_splines(self, bc_type='natural'):\n",
    "\n",
    "        self.cubic_splines = {}\n",
    "        x_pts = self.breakage_rate_pts.index\n",
    "        for label, y_pts in self.breakage_rate_pts.items():\n",
    "            # Fit spline to log10(x) and log(y)\n",
    "            cs = CubicSpline(np.log10(x_pts), y_pts, bc_type=bc_type)\n",
    "            self.cubic_splines[label] = cs\n",
    "\n",
    "    def show_cubic_splines_plot(self, show=True, filename=None,\n",
    "                                title='Predicted Breakage Rates (Morrell, 2004)',\n",
    "                                figsize=(8, 4)):\n",
    "\n",
    "        x_pts = self.breakage_rate_pts.index.values\n",
    "        x = np.logspace(np.log10(x_pts[0]), np.log10(x_pts[-1]))\n",
    "        plt.figure(figsize=figsize)\n",
    "\n",
    "        for label, y_pts in self.breakage_rate_pts.items():\n",
    "            line, = plt.plot(x_pts, y_pts, marker='o', linestyle='')\n",
    "            cs = self.cubic_splines[label]\n",
    "            plt.plot(x, cs(np.log10(x)), color=line.get_color(), label=label)\n",
    "\n",
    "        plt.title(title)\n",
    "        plt.ylabel('log(rate) (1/hr)')\n",
    "        plt.xlabel('size (mm)')\n",
    "        plt.xscale('log')\n",
    "        plt.legend()\n",
    "        plt.grid()\n",
    "        if filename:\n",
    "            plt.savefig(filename)\n",
    "        if show:\n",
    "            plt.show()\n",
    "\n",
    "    def get_breakage_rate_log(self, size, load_pct, speed_pct):\n",
    "        \"\"\"Calculates the log of the breakage rate for given size,\n",
    "        load (%) and speed (% critical).  The units are log(1/hour)\n",
    "        as per Morrell's breakage rate distribution plots (see 2004\n",
    "        paper).\n",
    "        \"\"\"\n",
    "\n",
    "        load_fraction = ((load_pct - self.load_pcts['Baseline'])\n",
    "                         / self.load_range)\n",
    "        speed_fraction = ((speed_pct - self.speed_pcts['Baseline'])\n",
    "                          / self.speed_range)\n",
    "\n",
    "        cs_baseline = self.cubic_splines['Baseline']\n",
    "        cs_high_load = self.cubic_splines['High load']\n",
    "        cs_high_speed = self.cubic_splines['High speed']\n",
    "\n",
    "        log_10_size = np.log10(size)\n",
    "        baseline_rate = cs_baseline(log_10_size)\n",
    "\n",
    "        return (baseline_rate\n",
    "                + load_fraction * (cs_high_load(log_10_size)\n",
    "                                   - baseline_rate)\n",
    "                + speed_fraction * (cs_high_speed(log_10_size)\n",
    "                                    - baseline_rate))\n",
    "\n",
    "    def get_breakage_rate(self, size, load_pct, speed_pct):\n",
    "        \"\"\"Uses the cubic splines with linear interpolation to\n",
    "        estimate the breakage rate for given size, load (%)\n",
    "        and speed (% critical).\n",
    "        \"\"\"\n",
    "\n",
    "        return np.exp(self.get_breakage_rate_log(size, load_pct, speed_pct)) / 60\n",
    "\n",
    "    def calculate_selection_matrix(self, mid_sizes, load_pct, speed_pct):\n",
    "        \"\"\"Calculates the selection matrix by interpolating\n",
    "        between two of the breakage rate cubic splines estimated\n",
    "        by Morrell (2004).\n",
    "\n",
    "        The selection matrix that is returned contains four\n",
    "        columns, one for the action of balls on particles, one\n",
    "        for rocks on particles with rocks acting as grinding\n",
    "        media, one for self-breakage of rocks, as a result\n",
    "        of their own tumbling action, and the 'Overall'\n",
    "        breakage function values that are used by the model.\n",
    "\n",
    "        Args:\n",
    "            mid_sizes (pd.Series): Pandas series containing the\n",
    "                mid-sizes of each size interval.\n",
    "            load_pct (float): Charge filling (%) .\n",
    "            speed_pct (float): Speed (% critical).\n",
    "\n",
    "        Returns:\n",
    "            s (np.array): The selection function values by size\n",
    "                interval.\n",
    "        \"\"\"\n",
    "\n",
    "        return self.get_breakage_rate(mid_sizes*1e-3, load_pct, speed_pct)\n",
    "\n",
    "    def calculate_breakage_matrix(self, mesh_openings):\n",
    "        \"\"\"Calculates the nxn breakage matrix based on the\n",
    "        parameter values in self.breakage_params.\n",
    "        \"\"\"\n",
    "        # TODO: Replace this with JK (A, b) method\n",
    "\n",
    "        beta00 = self.breakage_params['beta00']\n",
    "        beta01 = self.breakage_params['beta01']\n",
    "        beta1 = self.breakage_params['beta1']\n",
    "        beta2 = self.breakage_params['beta2']\n",
    "        beta30 = self.breakage_params['beta30']\n",
    "        beta31 = self.breakage_params['beta31']\n",
    "\n",
    "        beta0j = beta00 * (mesh_openings / 100000) ** (-beta01)\n",
    "        beta0j = beta0j.clip(None, 1)\n",
    "\n",
    "        beta3j = beta30 * (mesh_openings / 100000) ** (-beta31)\n",
    "        beta3j = beta3j.clip(None, 1)\n",
    "\n",
    "        d_chips = mesh_openings * beta3j\n",
    "\n",
    "        n = len(mesh_openings)\n",
    "\n",
    "        # Calculate cumulative breakage distribution function\n",
    "        b_cum = np.identity(n)\n",
    "        ii, jj = np.tril_indices(n, k=-1)\n",
    "        for i, j in zip(ii, jj):\n",
    "            if mesh_openings[i] < d_chips[j + 1]:\n",
    "                b_cum[i, j] = (\n",
    "                    beta0j[j + 1]\n",
    "                    * (mesh_openings[i] / d_chips[j + 1]) ** beta1\n",
    "                    + (1 - beta0j[j + 1])\n",
    "                    * (mesh_openings[i] / mesh_openings[j + 1]) ** beta2\n",
    "                )\n",
    "            else:\n",
    "                b_cum[i, j] = (\n",
    "                    beta0j[j + 1]\n",
    "                    + (1 - beta0j[j + 1])\n",
    "                    * (mesh_openings[i] / mesh_openings[j + 1]) ** beta2\n",
    "                )\n",
    "\n",
    "        # Calculate breakage matrix (differences)\n",
    "        b_matrix = np.empty(b_cum.shape)\n",
    "        b_matrix[:-1, :] = b_cum[:-1, :] - np.tril(b_cum[1:, :])\n",
    "        b_matrix[-1, :] = b_cum[-1, :]\n",
    "        b_matrix[-1, -1] = 0\n",
    "\n",
    "        # Make sure all columns add to 1 (except last one)\n",
    "        assert np.allclose(b_matrix[:, :-1].sum(axis=0), 1)\n",
    "\n",
    "        return b_matrix"
   ]
  },
  {
   "cell_type": "code",
   "execution_count": 49,
   "metadata": {},
   "outputs": [
    {
     "data": {
      "image/png": "[encoded data removed]",
      "text/plain": [
       "<Figure size 576x288 with 1 Axes>"
      ]
     },
     "metadata": {
      "needs_background": "light"
     },
     "output_type": "display_data"
    }
   ],
   "source": [
    "breakage_function = DynamicBreakageFunctionMorrell2004()\n",
    "breakage_function.make_cubic_splines()\n",
    "breakage_function.show_cubic_splines_plot()"
   ]
  },
  {
   "cell_type": "code",
   "execution_count": 67,
   "metadata": {},
   "outputs": [
    {
     "data": {
      "text/plain": [
       "'Mid-size'"
      ]
     },
     "execution_count": 67,
     "metadata": {},
     "output_type": "execute_result"
    }
   ],
   "source": [
    "mid_sizes.name"
   ]
  },
  {
   "cell_type": "code",
   "execution_count": 109,
   "metadata": {},
   "outputs": [],
   "source": [
    "def plot_rates(mid_sizes, r, ax=None, ylabel='Breakage rate (1/hr)',\n",
    "               label=None):\n",
    "    if ax is None:\n",
    "        ax = plt.gca()\n",
    "    ax.plot(mid_sizes, r, marker='.', linestyle='-', label=label)\n",
    "    ax.set_xlabel(mid_sizes.name)\n",
    "    ax.set_ylabel(ylabel)\n",
    "    ax.set_xscale('log')\n",
    "    ax.set_yscale('log')\n",
    "    return ax"
   ]
  },
  {
   "cell_type": "code",
   "execution_count": 110,
   "metadata": {},
   "outputs": [],
   "source": [
    "mid_sizes_mm = mid_sizes * 1e-3\n",
    "mid_sizes_mm.name = mid_sizes.name + ' (mm)'"
   ]
  },
  {
   "cell_type": "code",
   "execution_count": 117,
   "metadata": {},
   "outputs": [
    {
     "data": {
      "image/png": "[encoded data removed]",
      "text/plain": [
       "<Figure size 432x288 with 1 Axes>"
      ]
     },
     "metadata": {
      "needs_background": "light"
     },
     "output_type": "display_data"
    }
   ],
   "source": [
    "load_pct = 33\n",
    "for speed_pct in [70, 72, 74, 76, 78, 80]:\n",
    "    r = breakage_function.get_breakage_rate(mid_sizes_mm, load_pct, speed_pct)\n",
    "    label = f'speed = {speed_pct}'\n",
    "    plot_rates(mid_sizes_mm, r, label=label)\n",
    "plt.grid()\n",
    "plt.legend()\n",
    "plt.show()"
   ]
  },
  {
   "cell_type": "code",
   "execution_count": 118,
   "metadata": {},
   "outputs": [
    {
     "data": {
      "image/png": "[encoded data removed]",
      "text/plain": [
       "<Figure size 432x288 with 1 Axes>"
      ]
     },
     "metadata": {
      "needs_background": "light"
     },
     "output_type": "display_data"
    }
   ],
   "source": [
    "speed_pct = 78\n",
    "for load_pct in [26, 28, 30, 32, 34, 36]:\n",
    "    r = breakage_function.get_breakage_rate(mid_sizes_mm, load_pct, speed_pct)\n",
    "    label = f'load = {load_pct}'\n",
    "    plot_rates(mid_sizes_mm, r, label=label)\n",
    "plt.grid()\n",
    "plt.legend()\n",
    "plt.show()"
   ]
  },
  {
   "cell_type": "markdown",
   "metadata": {},
   "source": [
    "## Feed Size Distribution"
   ]
  },
  {
   "cell_type": "code",
   "execution_count": 122,
   "metadata": {},
   "outputs": [],
   "source": [
    "# Feed size distribution\n",
    "passing_pct = [\n",
    "    100.0, 95.48001354, 89.43643941, 80.01, 61.71896099,\n",
    "    38.35445337, 32.89878606, 27.69288619, 25.01680918, 22.44064909,\n",
    "    20.31138876, 18.40804667, 16.68227778, 15.19888032, 13.67911611,\n",
    "    12.42220099, 11.19338884, 10.07870748, 9.050354653, 8.117299674,\n",
    "    7.27326743, 6.5063266, 5.81611614, 5.191845859, 4.652694784, 0\n",
    "]\n",
    "assert passing_pct[0] == 100, \\\n",
    "    \"The top mesh size must be set to 100% passing.\"\n",
    "assert passing_pct[-1] == 0, \\\n",
    "    \"The bottom mesh size must be set to 0% passing.\""
   ]
  },
  {
   "cell_type": "code",
   "execution_count": 127,
   "metadata": {},
   "outputs": [
    {
     "data": {
      "text/plain": [
       "Size Interval\n",
       "1     0.045200\n",
       "2     0.060436\n",
       "3     0.094264\n",
       "4     0.182910\n",
       "5     0.233645\n",
       "6     0.054557\n",
       "7     0.052059\n",
       "8     0.026761\n",
       "9     0.025762\n",
       "10    0.021293\n",
       "11    0.019033\n",
       "12    0.017258\n",
       "13    0.014834\n",
       "14    0.015198\n",
       "15    0.012569\n",
       "16    0.012288\n",
       "17    0.011147\n",
       "18    0.010284\n",
       "19    0.009331\n",
       "20    0.008440\n",
       "21    0.007669\n",
       "22    0.006902\n",
       "23    0.006243\n",
       "24    0.005392\n",
       "25    0.046527\n",
       "Name: Fresh Feed, °/1, dtype: float64"
      ]
     },
     "execution_count": 127,
     "metadata": {},
     "output_type": "execute_result"
    }
   ],
   "source": [
    "def calculate_feed_size_distribution(mesh, passing_pct):\n",
    "    \"\"\"Calculates the feed size distribution (as % passing) to\n",
    "    the model's size_distributions dataframe and sets the\n",
    "    retained_pct array.\n",
    "\n",
    "    Args:\n",
    "        passing_pct (list or array): Cumulative % passing\n",
    "            values for each size interval.  The size of\n",
    "            this array should match the number of rows\n",
    "            in mesh_dimensions and the top and bottom\n",
    "            size values should be 100, 0 respectively.\n",
    "    \"\"\"\n",
    "\n",
    "    assert passing_pct[0] == 100, \\\n",
    "        \"The top mesh size must be set to 100% passing.\"\n",
    "    assert passing_pct[-1] == 0, \\\n",
    "        \"The bottom mesh size must be set to 0% passing.\"\n",
    "    passing_pct = np.array(passing_pct)\n",
    "    feed_size_distribution = passing_pct[:-1]\n",
    "    retained_pct = mill_calcs.calculate_retained_pct(passing_pct)\n",
    "    fresh_feed = pd.Series(retained_pct * 0.01, index=mesh.index[:-1],\n",
    "                           name='Fresh Feed, °/1')\n",
    "    return fresh_feed\n",
    "\n",
    "fresh_feed = calculate_feed_size_distribution(mesh, passing_pct)\n",
    "fresh_feed"
   ]
  },
  {
   "cell_type": "markdown",
   "metadata": {},
   "source": [
    "## Simulation of Full System"
   ]
  },
  {
   "cell_type": "code",
   "execution_count": null,
   "metadata": {},
   "outputs": [],
   "source": [
    "# Number of timesteps\n",
    "nt = 50\n",
    "timestep_size = 0.5\n",
    "\n",
    "# Feedrate\n",
    "feed_rates = np.repeat(fresh_feed.reshape(1,-1), nt+1, axis=0)\n",
    "\n",
    "# Increase feedrate after 30 timesteps\n",
    "#feed_rates[30:] = 2 * feed_rates[30:]\n",
    "\n",
    "# Discharge rate function\n",
    "d_max = 0.2  # Transport to grate\n",
    "c = np.array([  0, 0.5, 1.0])  # Grate classification function\n",
    "d = d_max * c\n",
    "\n",
    "# Breakage rates\n",
    "r = np.array([0.2, 0.25, 0.0])\n",
    "\n",
    "assert r[-1] == 0.0  # r=0 for smallest size fraction\n",
    "assert all((r + d) <= 1)\n",
    "\n",
    "# Initial charge\n",
    "x0 = np.array([30, 30, 30])\n",
    "n_sizes = x0.shape[0]\n",
    "\n",
    "# Initialize variables\n",
    "x = np.zeros((nt+1, n_sizes))\n",
    "discharge_rates = np.zeros((nt+1, n_sizes))\n",
    "x[0] = x0\n",
    "\n",
    "t = np.arange(nt+1) * timestep_size\n",
    "for k in range(1, nt+1):\n",
    "    feed = feed_rates[k]\n",
    "    x[k, :] = solve(t[k], x[k-1], f_dxdt, timestep_size, args=[feed, r, b_matrix, d])\n",
    "    discharge_rates[k] = d*x[k]"
   ]
  },
  {
   "cell_type": "code",
   "execution_count": null,
   "metadata": {},
   "outputs": [],
   "source": []
  }
 ],
 "metadata": {
  "kernelspec": {
   "display_name": "Python (torch)",
   "language": "python",
   "name": "torch"
  },
  "language_info": {
   "codemirror_mode": {
    "name": "ipython",
    "version": 3
   },
   "file_extension": ".py",
   "mimetype": "text/x-python",
   "name": "python",
   "nbconvert_exporter": "python",
   "pygments_lexer": "ipython3",
   "version": "3.7.6"
  }
 },
 "nbformat": 4,
 "nbformat_minor": 2
}
