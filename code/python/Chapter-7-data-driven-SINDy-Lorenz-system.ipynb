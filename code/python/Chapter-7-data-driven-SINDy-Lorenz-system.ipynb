{
 "cells": [
  {
   "cell_type": "markdown",
   "metadata": {},
   "source": [
    "# Test SINDy on Lorenz System"
   ]
  },
  {
   "cell_type": "code",
   "execution_count": 1,
   "metadata": {},
   "outputs": [],
   "source": [
    "from functools import partial\n",
    "import numpy as np\n",
    "import pandas as pd\n",
    "from scipy.integrate import odeint\n",
    "\n",
    "from sklearn.preprocessing import PolynomialFeatures\n",
    "from sklearn.linear_model import LinearRegression, Lasso, LassoCV, MultiTaskLassoCV\n",
    "from sklearn.feature_selection import SelectFromModel\n",
    "\n",
    "from lorenz import lorenz_odes, lorenz_odes_vectorized\n",
    "from sindy import polynomial_features, sparsify_dynamics_lstsq"
   ]
  },
  {
   "cell_type": "markdown",
   "metadata": {},
   "source": [
    "## Simulate Lorenz system"
   ]
  },
  {
   "cell_type": "code",
   "execution_count": 20,
   "metadata": {},
   "outputs": [],
   "source": [
    "dt = 0.01\n",
    "T = 50\n",
    "t = np.arange(dt, T + dt, dt)"
   ]
  },
  {
   "cell_type": "code",
   "execution_count": 21,
   "metadata": {},
   "outputs": [],
   "source": [
    "# Lorenz system parameters\n",
    "beta = 8 / 3\n",
    "sigma = 10\n",
    "rho = 28\n",
    "n = 3"
   ]
  },
  {
   "cell_type": "code",
   "execution_count": 22,
   "metadata": {},
   "outputs": [],
   "source": [
    "# Initial condition\n",
    "x0 = (-8, 8, 27)"
   ]
  },
  {
   "cell_type": "code",
   "execution_count": 23,
   "metadata": {},
   "outputs": [],
   "source": [
    "# Simulate using scipy.integrate.odeint method\n",
    "# Produces same results as Matlab\n",
    "fun = partial(lorenz_odes, sigma=sigma, beta=beta, rho=rho)\n",
    "rtol = 10e-12\n",
    "atol = 10e-12 * np.ones_like(x0)\n",
    "x = odeint(fun, x0, t, tfirst=True, rtol=rtol, atol=atol)\n",
    "assert x.shape == (5000, 3)"
   ]
  },
  {
   "cell_type": "code",
   "execution_count": 24,
   "metadata": {},
   "outputs": [],
   "source": [
    "# Calculate derivatives (vectorized version)\n",
    "dx = lorenz_odes_vectorized(0, x.T, sigma, beta, rho).T\n",
    "assert dx.shape == (5000, 3)"
   ]
  },
  {
   "cell_type": "code",
   "execution_count": null,
   "metadata": {},
   "outputs": [],
   "source": []
  },
  {
   "cell_type": "markdown",
   "metadata": {},
   "source": [
    "## Identify system dynamics using sparse regression"
   ]
  },
  {
   "cell_type": "code",
   "execution_count": 7,
   "metadata": {},
   "outputs": [],
   "source": [
    "lamb = 0.025  # sparsification knob lambda"
   ]
  },
  {
   "cell_type": "markdown",
   "metadata": {},
   "source": [
    "### (i) Using ordinary least-squares"
   ]
  },
  {
   "cell_type": "code",
   "execution_count": 8,
   "metadata": {},
   "outputs": [],
   "source": [
    "theta = polynomial_features(x, order=3)\n",
    "assert theta.shape == (5000, 20)"
   ]
  },
  {
   "cell_type": "code",
   "execution_count": 9,
   "metadata": {},
   "outputs": [],
   "source": [
    "# Estimate sparse dynamic model\n",
    "xi = sparsify_dynamics_lstsq(theta, dx, lamb, n)\n",
    "assert xi.shape == (20, 3)"
   ]
  },
  {
   "cell_type": "code",
   "execution_count": 10,
   "metadata": {},
   "outputs": [
    {
     "data": {
      "text/plain": [
       "array([[  0.        ,   0.        ,   0.        ],\n",
       "       [-10.        ,  28.        ,   0.        ],\n",
       "       [ 10.        ,  -1.        ,   0.        ],\n",
       "       [  0.        ,   0.        ,  -2.66666667],\n",
       "       [  0.        ,   0.        ,   0.        ],\n",
       "       [  0.        ,   0.        ,   1.        ],\n",
       "       [  0.        ,  -1.        ,   0.        ],\n",
       "       [  0.        ,   0.        ,   0.        ],\n",
       "       [  0.        ,   0.        ,   0.        ],\n",
       "       [  0.        ,   0.        ,   0.        ],\n",
       "       [  0.        ,   0.        ,   0.        ],\n",
       "       [  0.        ,   0.        ,   0.        ],\n",
       "       [  0.        ,   0.        ,   0.        ],\n",
       "       [  0.        ,   0.        ,   0.        ],\n",
       "       [  0.        ,   0.        ,   0.        ],\n",
       "       [  0.        ,   0.        ,   0.        ],\n",
       "       [  0.        ,   0.        ,   0.        ],\n",
       "       [  0.        ,   0.        ,   0.        ],\n",
       "       [  0.        ,   0.        ,   0.        ],\n",
       "       [  0.        ,   0.        ,   0.        ]])"
      ]
     },
     "execution_count": 10,
     "metadata": {},
     "output_type": "execute_result"
    }
   ],
   "source": [
    "xi"
   ]
  },
  {
   "cell_type": "markdown",
   "metadata": {},
   "source": [
    "### (ii) Using L1-based feature selection in Scikit-Learn\n",
    "\n",
    "See: https://scikit-learn.org/stable/modules/feature_selection.html#l1-based-feature-selection"
   ]
  },
  {
   "cell_type": "code",
   "execution_count": 11,
   "metadata": {},
   "outputs": [],
   "source": [
    "poly = PolynomialFeatures(3)\n",
    "theta = poly.fit_transform(x)\n",
    "assert theta.shape == (5000, 20)\n",
    "X, y = theta, dx"
   ]
  },
  {
   "cell_type": "code",
   "execution_count": 12,
   "metadata": {},
   "outputs": [
    {
     "data": {
      "text/plain": [
       "7"
      ]
     },
     "execution_count": 12,
     "metadata": {},
     "output_type": "execute_result"
    }
   ],
   "source": [
    "# Set L1 penalty\n",
    "alpha = 2  # Above 1 works best\n",
    "\n",
    "# Specify how many features to use\n",
    "max_features = 7\n",
    "\n",
    "# Find sparse model\n",
    "estimator = Lasso(normalize=True, alpha=alpha)\n",
    "selector = SelectFromModel(estimator, threshold=-np.inf, \n",
    "                           max_features=max_features)\n",
    "selector.fit(X, y)\n",
    "\n",
    "X_transform = selector.transform(X)\n",
    "n_features = selector.transform(X).shape[1]\n",
    "n_features"
   ]
  },
  {
   "cell_type": "code",
   "execution_count": 13,
   "metadata": {},
   "outputs": [
    {
     "data": {
      "text/plain": [
       "array([[  0.   ,   0.   ,   0.   ],\n",
       "       [-10.   ,  28.   ,  -0.   ],\n",
       "       [ 10.   ,  -1.   ,  -0.   ],\n",
       "       [ -0.   ,   0.   ,  -2.667],\n",
       "       [  0.   ,  -0.   ,  -0.   ],\n",
       "       [ -0.   ,   0.   ,   1.   ],\n",
       "       [ -0.   ,  -1.   ,   0.   ]])"
      ]
     },
     "execution_count": 13,
     "metadata": {},
     "output_type": "execute_result"
    }
   ],
   "source": [
    "# Fit sparse model\n",
    "estimator = LinearRegression()\n",
    "estimator.fit(X_transform, y)\n",
    "estimator.coef_.T.round(3)"
   ]
  },
  {
   "cell_type": "markdown",
   "metadata": {},
   "source": [
    "### (iii) With cross-validation"
   ]
  },
  {
   "cell_type": "code",
   "execution_count": 14,
   "metadata": {},
   "outputs": [
    {
     "data": {
      "text/plain": [
       "7"
      ]
     },
     "execution_count": 14,
     "metadata": {},
     "output_type": "execute_result"
    }
   ],
   "source": [
    "# Set L1 penalty\n",
    "alpha = 2\n",
    "\n",
    "# Specify how many features to use\n",
    "max_features = 7\n",
    "\n",
    "estimator = MultiTaskLassoCV(normalize=True, cv=5, alphas=[alpha]*4)\n",
    "\n",
    "# Set minimum threshold\n",
    "selector = SelectFromModel(estimator, threshold=-np.inf, \n",
    "                           max_features=max_features)\n",
    "selector.fit(X, y)\n",
    "\n",
    "X_transform = selector.transform(X)\n",
    "n_features = selector.transform(X).shape[1]\n",
    "n_features"
   ]
  },
  {
   "cell_type": "code",
   "execution_count": 15,
   "metadata": {},
   "outputs": [
    {
     "data": {
      "text/plain": [
       "array([[  0.   ,   0.   ,   0.   ],\n",
       "       [-10.   ,  28.   ,  -0.   ],\n",
       "       [ 10.   ,  -1.   ,  -0.   ],\n",
       "       [ -0.   ,   0.   ,  -2.667],\n",
       "       [  0.   ,  -0.   ,  -0.   ],\n",
       "       [ -0.   ,   0.   ,   1.   ],\n",
       "       [ -0.   ,  -1.   ,   0.   ]])"
      ]
     },
     "execution_count": 15,
     "metadata": {},
     "output_type": "execute_result"
    }
   ],
   "source": [
    "estimator = LinearRegression()\n",
    "estimator.fit(X_transform, y)\n",
    "estimator.coef_.T.round(3)"
   ]
  },
  {
   "cell_type": "code",
   "execution_count": null,
   "metadata": {},
   "outputs": [],
   "source": []
  },
  {
   "cell_type": "code",
   "execution_count": null,
   "metadata": {},
   "outputs": [],
   "source": []
  },
  {
   "cell_type": "code",
   "execution_count": null,
   "metadata": {},
   "outputs": [],
   "source": []
  }
 ],
 "metadata": {
  "kernelspec": {
   "display_name": "Python [conda env:torch]",
   "language": "python",
   "name": "conda-env-torch-py"
  },
  "language_info": {
   "codemirror_mode": {
    "name": "ipython",
    "version": 3
   },
   "file_extension": ".py",
   "mimetype": "text/x-python",
   "name": "python",
   "nbconvert_exporter": "python",
   "pygments_lexer": "ipython3",
   "version": "3.6.7"
  }
 },
 "nbformat": 4,
 "nbformat_minor": 2
}
