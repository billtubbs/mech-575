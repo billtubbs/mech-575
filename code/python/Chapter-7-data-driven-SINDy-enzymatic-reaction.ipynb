{
 "cells": [
  {
   "cell_type": "markdown",
   "metadata": {},
   "source": [
    "# Identifying A Simple Rational Function Using SINDy Algorithm"
   ]
  },
  {
   "cell_type": "markdown",
   "metadata": {},
   "source": [
    "Objectives:\n",
    "\n",
    "1. Simulate the Michaelis-Menten kinetics model for an enzymatic reaction\n",
    "2. Identify a nonlinear ODE from the data (using SINDy extension for rational function nonlinearities)\n",
    "2. Test the model on additional data\n",
    "3. See if noise affects the model"
   ]
  },
  {
   "cell_type": "code",
   "execution_count": 1,
   "metadata": {},
   "outputs": [],
   "source": [
    "import os\n",
    "import numpy as np\n",
    "import pandas as pd\n",
    "import matplotlib.pyplot as plt\n",
    "from scipy.integrate import odeint\n",
    "\n",
    "from sindy import polynomial_features, sparsify_dynamics_lstsq\n",
    "\n",
    "import enzyme\n",
    "from importlib import reload\n",
    "reload(enzyme)\n",
    "\n",
    "%matplotlib inline"
   ]
  },
  {
   "cell_type": "code",
   "execution_count": 2,
   "metadata": {},
   "outputs": [],
   "source": [
    "data_dir = '../../data'\n",
    "plot_dir = '../../plots'"
   ]
  },
  {
   "cell_type": "markdown",
   "metadata": {},
   "source": [
    "### Generate Data by Simulating System\n",
    "\n",
    "- The Michaelis-Menten kinetics model of enzymatic reactions"
   ]
  },
  {
   "cell_type": "code",
   "execution_count": 3,
   "metadata": {},
   "outputs": [],
   "source": [
    "# Size of system\n",
    "n = 1\n",
    "\n",
    "# Simulation settings\n",
    "dt = 0.1\n",
    "T = 4\n",
    "t = np.arange(dt, T + dt, dt)\n",
    "T = len(t)\n",
    "\n",
    "# Initial conditions\n",
    "x0 = (0.5, 1)\n",
    "\n",
    "# Simulate using scipy.integrate.odeint method\n",
    "# Produces same results as Matlab\n",
    "fun = enzyme.mmkinetics\n",
    "rtol = 10e-12\n",
    "atol = 10e-12 * np.ones_like(x0)\n",
    "x_data = odeint(fun, x0, t, tfirst=True, rtol=rtol, atol=atol)\n",
    "assert x_data.shape == (T, 2)\n",
    "\n",
    "# Calculate derivatives\n",
    "dxdt_data = fun(t, x_data)\n",
    "assert dxdt_data.shape == (T, 2)"
   ]
  },
  {
   "cell_type": "code",
   "execution_count": 4,
   "metadata": {},
   "outputs": [
    {
     "data": {
      "image/png": "[encoded data removed]",
      "text/plain": [
       "<Figure size 252x288 with 2 Axes>"
      ]
     },
     "metadata": {
      "needs_background": "light"
     },
     "output_type": "display_data"
    }
   ],
   "source": [
    "fig, axes = plt.subplots(2, 1, sharex=True,\n",
    "                         figsize=(3.5, 4))\n",
    "\n",
    "ax = axes[0]\n",
    "ax.plot(t, x_data)\n",
    "ax.set_ylabel('x')\n",
    "ax.set_title('Model simulation')\n",
    "ax.grid()\n",
    "\n",
    "ax = axes[1]\n",
    "ax.plot(t, dxdt_data)\n",
    "ax.set_xlabel('t')\n",
    "ax.set_ylabel('dx/dt')\n",
    "ax.grid()\n",
    "\n",
    "filepath = os.path.join(plot_dir, 'mm-kinetics-plot.pdf')\n",
    "plt.tight_layout()\n",
    "plt.savefig(filepath)\n",
    "plt.show()"
   ]
  },
  {
   "cell_type": "code",
   "execution_count": 35,
   "metadata": {},
   "outputs": [],
   "source": [
    "# Add noise & calculate derivative\n",
    "eps = 1e-4  # noise magnitude \n",
    "\n",
    "# Normally distributed measuement error\n",
    "xn_data = x_data + eps * np.random.randn(*x_data.shape)"
   ]
  },
  {
   "cell_type": "code",
   "execution_count": 37,
   "metadata": {},
   "outputs": [
    {
     "data": {
      "text/plain": [
       "((400, 2), (400, 2), (400, 2))"
      ]
     },
     "execution_count": 37,
     "metadata": {},
     "output_type": "execute_result"
    }
   ],
   "source": [
    "x_data.shape, dxdt_data.shape, xn_data.shape"
   ]
  },
  {
   "cell_type": "code",
   "execution_count": null,
   "metadata": {},
   "outputs": [],
   "source": []
  },
  {
   "cell_type": "code",
   "execution_count": 6,
   "metadata": {},
   "outputs": [],
   "source": [
    "#polynomial_features(x.T)"
   ]
  },
  {
   "cell_type": "code",
   "execution_count": 25,
   "metadata": {},
   "outputs": [],
   "source": [
    "# Pick one trajectory\n",
    "i = 0\n",
    "x, dxdt = x_data[:, i], dxdt_data[:, i]\n",
    "assert x.shape == (T,)\n",
    "assert dxdt.shape == (T,)\n",
    "\n",
    "theta_1 = polynomial_features(x)\n",
    "assert theta_1.shape == (T, 4)"
   ]
  },
  {
   "cell_type": "code",
   "execution_count": 32,
   "metadata": {},
   "outputs": [
    {
     "data": {
      "text/html": [
       "<div>\n",
       "<style scoped>\n",
       "    .dataframe tbody tr th:only-of-type {\n",
       "        vertical-align: middle;\n",
       "    }\n",
       "\n",
       "    .dataframe tbody tr th {\n",
       "        vertical-align: top;\n",
       "    }\n",
       "\n",
       "    .dataframe thead th {\n",
       "        text-align: right;\n",
       "    }\n",
       "</style>\n",
       "<table border=\"1\" class=\"dataframe\">\n",
       "  <thead>\n",
       "    <tr style=\"text-align: right;\">\n",
       "      <th></th>\n",
       "      <th>x</th>\n",
       "      <th>dxdt</th>\n",
       "    </tr>\n",
       "  </thead>\n",
       "  <tbody>\n",
       "    <tr>\n",
       "      <th>0</th>\n",
       "      <td>0.500000</td>\n",
       "      <td>-0.337500</td>\n",
       "    </tr>\n",
       "    <tr>\n",
       "      <th>1</th>\n",
       "      <td>0.483422</td>\n",
       "      <td>-0.325597</td>\n",
       "    </tr>\n",
       "    <tr>\n",
       "      <th>2</th>\n",
       "      <td>0.467441</td>\n",
       "      <td>-0.313636</td>\n",
       "    </tr>\n",
       "    <tr>\n",
       "      <th>3</th>\n",
       "      <td>0.452059</td>\n",
       "      <td>-0.301643</td>\n",
       "    </tr>\n",
       "    <tr>\n",
       "      <th>4</th>\n",
       "      <td>0.437277</td>\n",
       "      <td>-0.289646</td>\n",
       "    </tr>\n",
       "  </tbody>\n",
       "</table>\n",
       "</div>"
      ],
      "text/plain": [
       "          x      dxdt\n",
       "0  0.500000 -0.337500\n",
       "1  0.483422 -0.325597\n",
       "2  0.467441 -0.313636\n",
       "3  0.452059 -0.301643\n",
       "4  0.437277 -0.289646"
      ]
     },
     "execution_count": 32,
     "metadata": {},
     "output_type": "execute_result"
    }
   ],
   "source": [
    "pd.DataFrame({'x': x, 'dxdt': dxdt}).head()"
   ]
  },
  {
   "cell_type": "code",
   "execution_count": 27,
   "metadata": {},
   "outputs": [
    {
     "data": {
      "text/plain": [
       "(400, 4)"
      ]
     },
     "execution_count": 27,
     "metadata": {},
     "output_type": "execute_result"
    }
   ],
   "source": [
    "theta_2 = theta_1 * dxdt.reshape(-1, 1)\n",
    "theta_2.shape"
   ]
  },
  {
   "cell_type": "code",
   "execution_count": 29,
   "metadata": {},
   "outputs": [
    {
     "data": {
      "text/plain": [
       "array([[1.        , 0.5       , 0.25      , 0.125     ],\n",
       "       [1.        , 0.48342228, 0.2336971 , 0.11297438],\n",
       "       [1.        , 0.46744126, 0.21850133, 0.10213654],\n",
       "       [1.        , 0.45205922, 0.20435753, 0.09238171],\n",
       "       [1.        , 0.43727704, 0.19121121, 0.08361227]])"
      ]
     },
     "execution_count": 29,
     "metadata": {},
     "output_type": "execute_result"
    }
   ],
   "source": [
    "theta_1[:5, :]"
   ]
  },
  {
   "cell_type": "code",
   "execution_count": 28,
   "metadata": {},
   "outputs": [
    {
     "data": {
      "text/plain": [
       "array([[-0.3375    , -0.16875   , -0.084375  , -0.0421875 ],\n",
       "       [-0.32559713, -0.15740091, -0.0760911 , -0.03678414],\n",
       "       [-0.31363591, -0.14660636, -0.06852986, -0.03203369],\n",
       "       [-0.30164286, -0.13636044, -0.06164299, -0.02786628],\n",
       "       [-0.28964599, -0.12665554, -0.05538356, -0.02421796]])"
      ]
     },
     "execution_count": 28,
     "metadata": {},
     "output_type": "execute_result"
    }
   ],
   "source": [
    "theta_2[:5, :]"
   ]
  },
  {
   "cell_type": "code",
   "execution_count": 34,
   "metadata": {},
   "outputs": [
    {
     "data": {
      "text/plain": [
       "(400, 8)"
      ]
     },
     "execution_count": 34,
     "metadata": {},
     "output_type": "execute_result"
    }
   ],
   "source": [
    "theta = np.hstack([theta_1, theta_2])\n",
    "theta.shape"
   ]
  },
  {
   "cell_type": "code",
   "execution_count": null,
   "metadata": {},
   "outputs": [],
   "source": []
  },
  {
   "cell_type": "code",
   "execution_count": null,
   "metadata": {},
   "outputs": [],
   "source": []
  },
  {
   "cell_type": "code",
   "execution_count": null,
   "metadata": {},
   "outputs": [],
   "source": []
  },
  {
   "cell_type": "code",
   "execution_count": null,
   "metadata": {},
   "outputs": [],
   "source": []
  },
  {
   "cell_type": "code",
   "execution_count": 16,
   "metadata": {},
   "outputs": [
    {
     "ename": "IndexError",
     "evalue": "too many indices for array",
     "output_type": "error",
     "traceback": [
      "\u001b[0;31m---------------------------------------------------------------------------\u001b[0m",
      "\u001b[0;31mIndexError\u001b[0m                                Traceback (most recent call last)",
      "\u001b[0;32m<ipython-input-16-293a6899158b>\u001b[0m in \u001b[0;36m<module>\u001b[0;34m\u001b[0m\n\u001b[1;32m      3\u001b[0m \u001b[0mn\u001b[0m \u001b[0;34m=\u001b[0m \u001b[0;36m1\u001b[0m\u001b[0;34m\u001b[0m\u001b[0;34m\u001b[0m\u001b[0m\n\u001b[1;32m      4\u001b[0m \u001b[0mlamb\u001b[0m \u001b[0;34m=\u001b[0m \u001b[0;36m0.025\u001b[0m  \u001b[0;31m# sparsification knob lambda\u001b[0m\u001b[0;34m\u001b[0m\u001b[0;34m\u001b[0m\u001b[0m\n\u001b[0;32m----> 5\u001b[0;31m \u001b[0mxi\u001b[0m \u001b[0;34m=\u001b[0m \u001b[0msparsify_dynamics_lstsq\u001b[0m\u001b[0;34m(\u001b[0m\u001b[0mtheta\u001b[0m\u001b[0;34m,\u001b[0m \u001b[0mdxdt\u001b[0m\u001b[0;34m,\u001b[0m \u001b[0mlamb\u001b[0m\u001b[0;34m,\u001b[0m \u001b[0mn\u001b[0m\u001b[0;34m)\u001b[0m\u001b[0;34m\u001b[0m\u001b[0;34m\u001b[0m\u001b[0m\n\u001b[0m\u001b[1;32m      6\u001b[0m \u001b[0;32massert\u001b[0m \u001b[0mxi\u001b[0m\u001b[0;34m.\u001b[0m\u001b[0mshape\u001b[0m \u001b[0;34m==\u001b[0m \u001b[0;34m(\u001b[0m\u001b[0;36m20\u001b[0m\u001b[0;34m,\u001b[0m \u001b[0;36m3\u001b[0m\u001b[0;34m)\u001b[0m\u001b[0;34m\u001b[0m\u001b[0;34m\u001b[0m\u001b[0m\n",
      "\u001b[0;32m~/mech-575/code/python/sindy.py\u001b[0m in \u001b[0;36msparsify_dynamics_lstsq\u001b[0;34m(theta, dxdt, lamb, n)\u001b[0m\n\u001b[1;32m     64\u001b[0m         \u001b[0mxi\u001b[0m\u001b[0;34m[\u001b[0m\u001b[0msmallinds\u001b[0m\u001b[0;34m]\u001b[0m \u001b[0;34m=\u001b[0m \u001b[0;36m0\u001b[0m\u001b[0;34m\u001b[0m\u001b[0;34m\u001b[0m\u001b[0m\n\u001b[1;32m     65\u001b[0m         \u001b[0;32mfor\u001b[0m \u001b[0mind\u001b[0m \u001b[0;32min\u001b[0m \u001b[0mrange\u001b[0m\u001b[0;34m(\u001b[0m\u001b[0mn\u001b[0m\u001b[0;34m)\u001b[0m\u001b[0;34m:\u001b[0m  \u001b[0;31m# n is state dimension\u001b[0m\u001b[0;34m\u001b[0m\u001b[0;34m\u001b[0m\u001b[0m\n\u001b[0;32m---> 66\u001b[0;31m             \u001b[0mbiginds\u001b[0m \u001b[0;34m=\u001b[0m \u001b[0mnp\u001b[0m\u001b[0;34m.\u001b[0m\u001b[0mlogical_not\u001b[0m\u001b[0;34m(\u001b[0m\u001b[0msmallinds\u001b[0m\u001b[0;34m[\u001b[0m\u001b[0;34m:\u001b[0m\u001b[0;34m,\u001b[0m \u001b[0mind\u001b[0m\u001b[0;34m]\u001b[0m\u001b[0;34m)\u001b[0m\u001b[0;34m\u001b[0m\u001b[0;34m\u001b[0m\u001b[0m\n\u001b[0m\u001b[1;32m     67\u001b[0m             \u001b[0;31m# Regress dynamics onto remaining terms to find sparse xi\u001b[0m\u001b[0;34m\u001b[0m\u001b[0;34m\u001b[0m\u001b[0;34m\u001b[0m\u001b[0m\n\u001b[1;32m     68\u001b[0m             xi[biginds, ind] = np.linalg.lstsq(theta[:, biginds], dxdt[:, ind],\n",
      "\u001b[0;31mIndexError\u001b[0m: too many indices for array"
     ]
    }
   ],
   "source": [
    "# Estimate sparse dynamic model\n",
    "lamb = 0.025  # sparsification knob lambda\n",
    "xi = sparsify_dynamics_lstsq(theta, dxdt, lamb, n)\n",
    "assert xi.shape == (20, 3)"
   ]
  },
  {
   "cell_type": "code",
   "execution_count": null,
   "metadata": {},
   "outputs": [],
   "source": []
  }
 ],
 "metadata": {
  "kernelspec": {
   "display_name": "Python [conda env:torch]",
   "language": "python",
   "name": "conda-env-torch-py"
  },
  "language_info": {
   "codemirror_mode": {
    "name": "ipython",
    "version": 3
   },
   "file_extension": ".py",
   "mimetype": "text/x-python",
   "name": "python",
   "nbconvert_exporter": "python",
   "pygments_lexer": "ipython3",
   "version": "3.7.5"
  }
 },
 "nbformat": 4,
 "nbformat_minor": 2
}
