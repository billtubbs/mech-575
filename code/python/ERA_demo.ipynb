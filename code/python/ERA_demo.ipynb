{
 "cells": [
  {
   "attachments": {},
   "cell_type": "markdown",
   "metadata": {},
   "source": [
    "# Implementation of Eigensystem Realization Algorithm (ERA)"
   ]
  },
  {
   "cell_type": "code",
   "execution_count": 5,
   "metadata": {},
   "outputs": [],
   "source": [
    "import os\n",
    "import numpy as np\n",
    "import pandas as pd"
   ]
  },
  {
   "cell_type": "code",
   "execution_count": 17,
   "metadata": {},
   "outputs": [],
   "source": [
    "data_dir = '../../data'\n",
    "#os.listdir(data_dir)"
   ]
  },
  {
   "cell_type": "code",
   "execution_count": 18,
   "metadata": {},
   "outputs": [],
   "source": [
    "A = np.genfromtxt(os.path.join(data_dir, 'a.csv'), delimiter=',')\n",
    "B = np.genfromtxt(os.path.join(data_dir, 'b.csv'), delimiter=',')\n",
    "C = np.genfromtxt(os.path.join(data_dir, 'c.csv'), delimiter=',')\n",
    "D = np.genfromtxt(os.path.join(data_dir, 'd.csv'), delimiter=',')"
   ]
  },
  {
   "cell_type": "code",
   "execution_count": 23,
   "metadata": {},
   "outputs": [
    {
     "data": {
      "text/plain": [
       "((100, 100), (100, 2), (2, 100), (2, 2))"
      ]
     },
     "execution_count": 23,
     "metadata": {},
     "output_type": "execute_result"
    }
   ],
   "source": [
    "n = A.shape[0]\n",
    "n_in = B.shape[1]\n",
    "n_out = C.shape[0]\n",
    "assert A.shape == (n, n)\n",
    "assert B.shape == (n, n_in)\n",
    "assert C.shape == (n_out, n)\n",
    "assert D.shape == (n_in, n_out)\n",
    "A.shape, B.shape, C.shape, D.shape"
   ]
  },
  {
   "cell_type": "code",
   "execution_count": 24,
   "metadata": {},
   "outputs": [],
   "source": [
    "def hankel_matrix(x, n_shift):\n",
    "    \"\"\"Hankel matrix of eigen-time-delay coordinates.\n",
    "    \"\"\"\n",
    "    assert n_shift > 1\n",
    "    h = np.stack([np.roll(x, -i) for i in range(n_shift)])\n",
    "    return h[:, :-n_shift+1]\n",
    "\n",
    "h_test = hankel_matrix(np.array(range(5)), 3)\n",
    "h_true = np.array([\n",
    "    [0, 1, 2],\n",
    "    [1, 2, 3],\n",
    "    [2, 3, 4]\n",
    "])\n",
    "assert np.array_equal(h_test, h_true)"
   ]
  },
  {
   "cell_type": "code",
   "execution_count": null,
   "metadata": {},
   "outputs": [],
   "source": []
  }
 ],
 "metadata": {
  "kernelspec": {
   "display_name": "Python [conda env:torch]",
   "language": "python",
   "name": "conda-env-torch-py"
  }
 },
 "nbformat": 4,
 "nbformat_minor": 2
}
