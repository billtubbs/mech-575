{
 "cells": [
  {
   "cell_type": "code",
   "execution_count": 1,
   "metadata": {},
   "outputs": [],
   "source": [
    "import numpy as np\n",
    "import matplotlib.pyplot as plt\n",
    "from matplotlib import rcParams\n",
    "from control.matlab import *\n",
    "import slycot\n",
    "from scipy import signal,io\n",
    "import os\n",
    "from scipy.linalg import fractional_matrix_power\n",
    "from dyn_utils import hankel_matrix\n",
    "\n",
    "# Python control toolbox available at https://python-control.readthedocs.io/\n",
    "\n",
    "plt.rcParams['figure.figsize'] = [8, 8]\n",
    "plt.rcParams.update({'font.size': 18})\n"
   ]
  },
  {
   "cell_type": "code",
   "execution_count": 2,
   "metadata": {},
   "outputs": [
    {
     "data": {
      "text/plain": [
       "['a.csv',\n",
       " 'c.csv',\n",
       " 'b.csv',\n",
       " '.DS_Store',\n",
       " 'd.csv',\n",
       " 'my_face.jpg',\n",
       " 'video_data.npy',\n",
       " 'testSys.mat']"
      ]
     },
     "execution_count": 2,
     "metadata": {},
     "output_type": "execute_result"
    }
   ],
   "source": [
    "os.listdir('../../data')"
   ]
  },
  {
   "cell_type": "code",
   "execution_count": 3,
   "metadata": {},
   "outputs": [],
   "source": [
    "q = 2   # Number of inputs\n",
    "p = 2   # Number of outputs\n",
    "n = 100 # State dimension\n",
    "r = 10 # Reduced model order\n",
    "\n",
    "# This file is missing:\n",
    "#testSys_mat = io.loadmat(os.path.join('..','..','data','testSys_ABCD.mat'))\n",
    "#A = testSys_mat['A']\n",
    "#B = testSys_mat['B']\n",
    "#C = testSys_mat['C']\n",
    "#D = testSys_mat['D']\n",
    "\n",
    "# I made csv files instead\n",
    "data_dir = '../../data'\n",
    "A = np.genfromtxt(os.path.join(data_dir, 'a.csv'), delimiter=',')\n",
    "B = np.genfromtxt(os.path.join(data_dir, 'b.csv'), delimiter=',')\n",
    "C = np.genfromtxt(os.path.join(data_dir, 'c.csv'), delimiter=',')\n",
    "D = np.genfromtxt(os.path.join(data_dir, 'd.csv'), delimiter=',')\n",
    "\n",
    "sysFull = ss(A,B,C,D,1)"
   ]
  },
  {
   "cell_type": "code",
   "execution_count": 4,
   "metadata": {},
   "outputs": [],
   "source": [
    "yFull = np.zeros((r*5+2,p,q))\n",
    "tspan = np.arange(0,(r*5+2),1)\n",
    "m = len(tspan)\n",
    "\n",
    "for qi in range(q):\n",
    "    yFull[:,:,qi],t = impulse(sysFull,T=tspan,input=qi)\n",
    "\n",
    "\n",
    "YY = np.transpose(yFull,axes=(1,2,0)) # reorder to size p x q x m"
   ]
  },
  {
   "cell_type": "code",
   "execution_count": 5,
   "metadata": {},
   "outputs": [],
   "source": [
    "## ERA and OKID Function Definitions\n",
    "\n",
    "def ERA(YY,m,n,nin,nout,r):\n",
    "    Dr = np.zeros((nout,nin))\n",
    "    Y = np.zeros((nout,nin,YY.shape[2]-1))\n",
    "    for i in range(nout):\n",
    "        for j in range(nin):\n",
    "            Dr[i,j] = YY[i,j,0]\n",
    "            Y[i,j,:] = YY[i,j,1:]\n",
    "            \n",
    "    assert len(Y[:,1,1]) == nout\n",
    "    assert len(Y[1,:,1]) == nin\n",
    "    assert len(Y[1,1,:]) >= m+n\n",
    "    \n",
    "    H = np.zeros((nout*m,nin*n))\n",
    "    H2 = np.zeros((nout*m,nin*n))\n",
    "    \n",
    "    for i in range(m):\n",
    "        for j in range(n):\n",
    "            for Q in range(nout):\n",
    "                for P in range(nin):\n",
    "                    H[nout*i+Q,nin*j+P] = Y[Q,P,i+j]\n",
    "                    H2[nout*i+Q,nin*j+P] = Y[Q,P,i+j+1]\n",
    "                    \n",
    "    U,S,VT = np.linalg.svd(H,full_matrices=0)\n",
    "    V = VT.T\n",
    "    Sigma = np.diag(S[:r])\n",
    "    Ur = U[:,:r]\n",
    "    Vr = V[:,:r]\n",
    "    Ar = fractional_matrix_power(Sigma,-0.5) @ Ur.T @ H2 @ Vr @ fractional_matrix_power(Sigma,-0.5)\n",
    "    Br = fractional_matrix_power(Sigma,-0.5) @ Ur.T @ H[:,:nin]\n",
    "    Cr = H[:nout,:] @ Vr @ fractional_matrix_power(Sigma,-0.5)\n",
    "    HSVs = S\n",
    "    \n",
    "    return Ar, Br, Cr, Dr, HSVs\n",
    "\n",
    "\n",
    "def ERA_vectorized(YY, m, n, nin, nout, r):\n",
    "    \"\"\"Compute a reduced order linear dynamical system model\n",
    "    from impulse response data using the Eigensystem Realization\n",
    "    Algorithm (ERA).\n",
    "    \n",
    "    Arguments:\n",
    "        YY : Impulse response data shape (nout, nin, T)\n",
    "        nin, nout : number of inputs and outputs\n",
    "        m, n : dimensions of Hankel matrix\n",
    "        r: dimensions of reduced model\n",
    "    \"\"\"\n",
    "\n",
    "    Dr = YY[:,:,0]\n",
    "    Y = YY[:,:,1:]\n",
    "    assert Dr.shape == (nout, nin)\n",
    "    assert Y.shape[2] >= m+n\n",
    "    \n",
    "    H = np.zeros((nout*m, nin*n))\n",
    "    H2 = np.zeros((nout*m, nin*n))\n",
    "    for i in range(m):\n",
    "        for j in range(n):\n",
    "            H[nout*i:nout*(i+1), nin*j:nin*(j+1)] = Y[:, :, i+j]\n",
    "            H2[nout*i:nout*(i+1), nin*j:nin*(j+1)] = Y[:, :, i+j+1]\n",
    "    \n",
    "    U, S, VT = np.linalg.svd(H,full_matrices=0)\n",
    "    V = VT.T\n",
    "    Sigma = np.diag(S[:r])\n",
    "    Ur = U[:, :r]\n",
    "    Vr = V[:, :r]\n",
    "    Ar = fractional_matrix_power(Sigma, -0.5) @ Ur.T @ H2 @ Vr @ \\\n",
    "         fractional_matrix_power(Sigma, -0.5)\n",
    "    Br = fractional_matrix_power(Sigma, -0.5) @ Ur.T @ H[:,:nin]\n",
    "    Cr = H[:nout, :] @ Vr @ fractional_matrix_power(Sigma, -0.5)\n",
    "    HSVs = S\n",
    "    \n",
    "    return Ar, Br, Cr, Dr, HSVs\n",
    "\n",
    "\n",
    "def OKID(y,u,r):\n",
    "    # inputs:  y (sampled output), u (sampled input), r (effective system order)\n",
    "    # outputs: H (Markov parameters), M (Observer gain)\n",
    "    \n",
    "    PP = y.shape[0] # number of outputs\n",
    "    MM = y.shape[1] # number of output samples\n",
    "    QQ = u.shape[0] # number of inputs\n",
    "    lu = u.shape[1] # number of input samples\n",
    "    \n",
    "    assert MM == lu\n",
    "    \n",
    "    LL = r*5\n",
    "    \n",
    "    # Form data matrices y and V\n",
    "    V = np.zeros((QQ+(QQ+PP)*LL,MM))\n",
    "    for i in range(MM):\n",
    "        V[:QQ,i] = u[:QQ,i]\n",
    "        \n",
    "    for i in range(1,LL+1):\n",
    "        for j in range(MM-i):\n",
    "            vtemp = np.concatenate((u[:,j],y[:,j]))\n",
    "            V[QQ+(i-1)*(QQ+PP):QQ+i*(QQ+PP),i+j] = vtemp\n",
    "    \n",
    "    # Solve for observer Markov parameters Ybar\n",
    "    Ybar = y @ np.linalg.pinv(V,rcond=10**(-3))\n",
    "    \n",
    "    # Isolate system Markov parameters H, and observer gain M\n",
    "    D = Ybar[:,:QQ] # feed-through term (or D matrix) is the first term\n",
    "    \n",
    "    Y = np.zeros((PP,QQ,LL))\n",
    "    Ybar1 = np.zeros((PP,QQ,LL))\n",
    "    Ybar2 = np.zeros((PP,QQ,LL))\n",
    "    \n",
    "    for i in range(LL):\n",
    "        Ybar1[:,:,i] = Ybar[:,QQ+(QQ+PP)*i : QQ+(QQ+PP)*i+QQ]\n",
    "        Ybar2[:,:,i] = Ybar[:,QQ+(QQ+PP)*i+QQ : QQ+(QQ+PP)*(i+1)]\n",
    "    \n",
    "    Y[:,:,0] = Ybar1[:,:,0] + Ybar2[:,:,0] @ D\n",
    "    for k in range(1,LL):\n",
    "        Y[:,:,k] = Ybar1[:,:,k] + Ybar2[:,:,k] @ D\n",
    "        for i in range(k-1):\n",
    "            Y[:,:,k] += Ybar2[:,:,i] @ Y[:,:,k-i-1]\n",
    "            \n",
    "    H = np.zeros((D.shape[0],D.shape[1],LL+1))\n",
    "    H[:,:,0] = D\n",
    "    \n",
    "    for k in range(1,LL+1):\n",
    "        H[:,:,k] = Y[:,:,k-1]\n",
    "        \n",
    "    return H"
   ]
  },
  {
   "cell_type": "code",
   "execution_count": 6,
   "metadata": {},
   "outputs": [],
   "source": [
    "## Compute ERA from impulse response\n",
    "mco = int(np.floor((yFull.shape[0]-1)/2)) # m_c = m_o = (m-1)/2\n",
    "Ar, Br, Cr, Dr, HSVs = ERA(YY,mco,mco,q,p,r)\n",
    "Ar2, Br2, Cr2, Dr2, HSVs2 = ERA_vectorized(YY,mco,mco,q,p,r)\n",
    "\n",
    "assert np.array_equal(Ar, Ar2)\n",
    "assert np.array_equal(Br, Br2)\n",
    "assert np.array_equal(Cr, Cr2)\n",
    "assert np.array_equal(Dr, Dr2)\n",
    "assert np.array_equal(HSVs, HSVs2)\n",
    "\n",
    "sysERA = ss(Ar,Br,Cr,Dr,1)"
   ]
  },
  {
   "cell_type": "code",
   "execution_count": 7,
   "metadata": {},
   "outputs": [],
   "source": [
    "m = n = mco\n",
    "nin = q\n",
    "nout = p\n",
    "Dr = YY[:,:,0]\n",
    "Y = YY[:,:,1:]\n",
    "assert Dr.shape == (nout, nin)\n",
    "assert Y.shape[2] >= m+n\n",
    "\n",
    "h = hankel_matrix(Y.T, m, n+1)\n",
    "H = h[:,:-2]\n",
    "H2 = h[:,2:]\n",
    "\n",
    "assert H.shape == (50, 50)\n",
    "assert H2.shape == (50, 50)"
   ]
  },
  {
   "cell_type": "code",
   "execution_count": 8,
   "metadata": {},
   "outputs": [
    {
     "data": {
      "text/plain": [
       "True"
      ]
     },
     "execution_count": 8,
     "metadata": {},
     "output_type": "execute_result"
    }
   ],
   "source": [
    "np.array_equal(H, h[:,:-2])\n",
    "np.array_equal(H2, h[:,2:])"
   ]
  },
  {
   "cell_type": "code",
   "execution_count": 9,
   "metadata": {},
   "outputs": [
    {
     "data": {
      "text/plain": [
       "array([[ 7.71088095,  5.25967538,  1.66223156],\n",
       "       [-6.17798632,  4.71536273,  2.10706513],\n",
       "       [ 1.66223156, -1.71574197,  4.26277725],\n",
       "       [ 2.10706513,  3.5877729 , -4.80887737],\n",
       "       [ 4.26277725,  5.93954291,  1.3357039 ]])"
      ]
     },
     "execution_count": 9,
     "metadata": {},
     "output_type": "execute_result"
    }
   ],
   "source": [
    "H[:5, :3]"
   ]
  },
  {
   "cell_type": "code",
   "execution_count": 10,
   "metadata": {},
   "outputs": [
    {
     "data": {
      "text/plain": [
       "array([[ 1.66223156, -1.71574197,  4.26277725],\n",
       "       [ 2.10706513,  3.5877729 , -4.80887737],\n",
       "       [ 4.26277725,  5.93954291,  1.3357039 ],\n",
       "       [-4.80887737,  2.97997009,  2.51509526],\n",
       "       [ 1.3357039 ,  1.24350083,  2.23509732]])"
      ]
     },
     "execution_count": 10,
     "metadata": {},
     "output_type": "execute_result"
    }
   ],
   "source": [
    "H2[:5, :3]"
   ]
  },
  {
   "cell_type": "code",
   "execution_count": 11,
   "metadata": {},
   "outputs": [
    {
     "data": {
      "text/plain": [
       "array([[ 7.71088095,  5.25967538,  1.66223156],\n",
       "       [-6.17798632,  4.71536273,  2.10706513],\n",
       "       [ 1.66223156, -1.71574197,  4.26277725],\n",
       "       [ 2.10706513,  3.5877729 , -4.80887737],\n",
       "       [ 4.26277725,  5.93954291,  1.3357039 ]])"
      ]
     },
     "execution_count": 11,
     "metadata": {},
     "output_type": "execute_result"
    }
   ],
   "source": [
    "h[:5, :3]"
   ]
  },
  {
   "cell_type": "code",
   "execution_count": 12,
   "metadata": {},
   "outputs": [
    {
     "name": "stdout",
     "output_type": "stream",
     "text": [
      "(10, 2, 3)\n",
      "(3, 2, 10)\n",
      "[[0 3]\n",
      " [1 4]\n",
      " [2 5]]\n",
      "[[ 6  9]\n",
      " [ 7 10]\n",
      " [ 8 11]]\n",
      "[[12 15]\n",
      " [13 16]\n",
      " [14 17]]\n"
     ]
    }
   ],
   "source": [
    "# Some time-series data\n",
    "q = 3  # Number of inputs\n",
    "p = 2  # Number of outputs\n",
    "nt = 10  # Number of timesteps\n",
    "a = np.arange(nt*p*q).reshape(nt,p,q)\n",
    "print(a.shape)\n",
    "y = a.transpose()\n",
    "assert y.shape == (q, p, nt)\n",
    "print(y.shape)\n",
    "print(y[:,:,0])\n",
    "print(y[:,:,1])\n",
    "print(y[:,:,2])"
   ]
  },
  {
   "cell_type": "code",
   "execution_count": 13,
   "metadata": {},
   "outputs": [
    {
     "name": "stdout",
     "output_type": "stream",
     "text": [
      "[[ 0  3  6  9 12 15 18 21 24 27]\n",
      " [ 1  4  7 10 13 16 19 22 25 28]\n",
      " [ 2  5  8 11 14 17 20 23 26 29]\n",
      " [ 6  9 12 15 18 21 24 27 30 33]\n",
      " [ 7 10 13 16 19 22 25 28 31 34]\n",
      " [ 8 11 14 17 20 23 26 29 32 35]\n",
      " [12 15 18 21 24 27 30 33 36 39]\n",
      " [13 16 19 22 25 28 31 34 37 40]\n",
      " [14 17 20 23 26 29 32 35 38 41]\n",
      " [18 21 24 27 30 33 36 39 42 45]\n",
      " [19 22 25 28 31 34 37 40 43 46]\n",
      " [20 23 26 29 32 35 38 41 44 47]\n",
      " [24 27 30 33 36 39 42 45 48 51]\n",
      " [25 28 31 34 37 40 43 46 49 52]\n",
      " [26 29 32 35 38 41 44 47 50 53]]\n"
     ]
    }
   ],
   "source": [
    "# Desired Hankel matrix\n",
    "m = n = 5  # dimensions\n",
    "assert nt >= m + n - 1\n",
    "h = np.zeros((q*m, p*n), dtype=int)\n",
    "for i in range(m):\n",
    "    for j in range(n):\n",
    "        h[q*i:q*(i+1), p*j:p*(j+1)] = y[:, :, i+j]\n",
    "print(h)"
   ]
  },
  {
   "cell_type": "code",
   "execution_count": 14,
   "metadata": {},
   "outputs": [
    {
     "name": "stdout",
     "output_type": "stream",
     "text": [
      "[[ 0  3  6  9 12 15 18 21 24 27]\n",
      " [ 1  4  7 10 13 16 19 22 25 28]\n",
      " [ 2  5  8 11 14 17 20 23 26 29]\n",
      " [ 6  9 12 15 18 21 24 27 30 33]\n",
      " [ 7 10 13 16 19 22 25 28 31 34]\n",
      " [ 8 11 14 17 20 23 26 29 32 35]\n",
      " [12 15 18 21 24 27 30 33 36 39]\n",
      " [13 16 19 22 25 28 31 34 37 40]\n",
      " [14 17 20 23 26 29 32 35 38 41]\n",
      " [18 21 24 27 30 33 36 39 42 45]\n",
      " [19 22 25 28 31 34 37 40 43 46]\n",
      " [20 23 26 29 32 35 38 41 44 47]\n",
      " [24 27 30 33 36 39 42 45 48 51]\n",
      " [25 28 31 34 37 40 43 46 49 52]\n",
      " [26 29 32 35 38 41 44 47 50 53]]\n"
     ]
    }
   ],
   "source": [
    "# Alternative method using stacking\n",
    "b = np.hstack([y[:,:,i] for i in range(y.shape[2])])\n",
    "assert b.shape == (q, p*nt)\n",
    "h = np.vstack([b[:, i*p:i*p+n*p] for i in range(m)])\n",
    "print(h)"
   ]
  },
  {
   "cell_type": "code",
   "execution_count": 15,
   "metadata": {},
   "outputs": [],
   "source": [
    "from numpy.lib.stride_tricks import as_strided\n",
    "\n",
    "def hankel_using_loops(y, m, n):\n",
    "    \"\"\"Compute the Hankel matrix from impulse response data.\n",
    "    \n",
    "    Arguments\n",
    "        y : Impulse response data as array of shape (nout, nin, T).\n",
    "        m, n : Dimensions of Hankel matrix.\n",
    "    \n",
    "    Returns\n",
    "        h : Hankel matrix as m x n array.\n",
    "    \"\"\"\n",
    "    nt = y.shape[2]\n",
    "    assert nt >= m + n - 1\n",
    "    q, p = y.shape[0:2]  # number of inputs, outputs\n",
    "    h = np.zeros((q*m, p*n), dtype=int)\n",
    "    for i in range(m):\n",
    "        for j in range(n):\n",
    "            h[q*i:q*(i+1), p*j:p*(j+1)] = y[:, :, i+j]\n",
    "    return h\n",
    "\n",
    "def hankel_using_strides(y, m, n):\n",
    "    nt = y.shape[0]\n",
    "    assert nt >= m + n - 1\n",
    "    s0, s1, s2 = a.strides\n",
    "    return as_strided(a, shape=(m,q,n,p), \n",
    "                      strides=(s0,s2,s0,s1)).reshape(m*q,n*p)\n",
    "\n",
    "assert np.array_equal(\n",
    "    hankel_using_loops(y, m, n),\n",
    "    hankel_using_strides(a, m, n)\n",
    ")"
   ]
  },
  {
   "cell_type": "code",
   "execution_count": 16,
   "metadata": {},
   "outputs": [
    {
     "data": {
      "text/plain": [
       "array([[ 0,  3,  6,  9, 12, 15],\n",
       "       [ 1,  4,  7, 10, 13, 16],\n",
       "       [ 2,  5,  8, 11, 14, 17],\n",
       "       [ 6,  9, 12, 15, 18, 21],\n",
       "       [ 7, 10, 13, 16, 19, 22],\n",
       "       [ 8, 11, 14, 17, 20, 23],\n",
       "       [12, 15, 18, 21, 24, 27],\n",
       "       [13, 16, 19, 22, 25, 28],\n",
       "       [14, 17, 20, 23, 26, 29]])"
      ]
     },
     "execution_count": 16,
     "metadata": {},
     "output_type": "execute_result"
    }
   ],
   "source": [
    "hankel_using_loops(y, 3, 3)"
   ]
  },
  {
   "cell_type": "code",
   "execution_count": 17,
   "metadata": {},
   "outputs": [
    {
     "data": {
      "text/plain": [
       "array([[ 0,  3,  6,  9, 12, 15],\n",
       "       [ 1,  4,  7, 10, 13, 16],\n",
       "       [ 2,  5,  8, 11, 14, 17],\n",
       "       [ 6,  9, 12, 15, 18, 21],\n",
       "       [ 7, 10, 13, 16, 19, 22],\n",
       "       [ 8, 11, 14, 17, 20, 23],\n",
       "       [12, 15, 18, 21, 24, 27],\n",
       "       [13, 16, 19, 22, 25, 28],\n",
       "       [14, 17, 20, 23, 26, 29]])"
      ]
     },
     "execution_count": 17,
     "metadata": {},
     "output_type": "execute_result"
    }
   ],
   "source": [
    "hankel_using_strides(a, 3, 3)"
   ]
  },
  {
   "cell_type": "code",
   "execution_count": 18,
   "metadata": {},
   "outputs": [
    {
     "name": "stdout",
     "output_type": "stream",
     "text": [
      "47.1 µs ± 790 ns per loop (mean ± std. dev. of 7 runs, 10000 loops each)\n"
     ]
    }
   ],
   "source": [
    "%timeit hankel_using_loops(y, m, n)"
   ]
  },
  {
   "cell_type": "code",
   "execution_count": 19,
   "metadata": {},
   "outputs": [
    {
     "name": "stdout",
     "output_type": "stream",
     "text": [
      "18.1 µs ± 2.05 µs per loop (mean ± std. dev. of 7 runs, 10000 loops each)\n"
     ]
    }
   ],
   "source": [
    "%timeit hankel_using_strides(a, m, n)"
   ]
  },
  {
   "cell_type": "code",
   "execution_count": 20,
   "metadata": {},
   "outputs": [
    {
     "data": {
      "text/plain": [
       "148.3754512635379"
      ]
     },
     "execution_count": 20,
     "metadata": {},
     "output_type": "execute_result"
    }
   ],
   "source": [
    "4110/27.7"
   ]
  },
  {
   "cell_type": "code",
   "execution_count": 21,
   "metadata": {},
   "outputs": [],
   "source": [
    "def hankel_matrix(y, m, n):\n",
    "    \"\"\"Compute the Hankel matrix from input-output data.\n",
    "    \n",
    "    Arguments\n",
    "        y : Impulse response data as array of shape (T, nout, nin).\n",
    "        m, n : Dimensions of Hankel matrix.\n",
    "    \n",
    "    Returns\n",
    "        h : Hankel matrix as m x n array.\n",
    "    \"\"\"\n",
    "    nt = y.shape[0]\n",
    "    assert nt >= m + n - 1\n",
    "    if len(y.shape) == 1:\n",
    "        y = y.reshape(nt, 1, 1)\n",
    "        p = q = 1  # SISO system\n",
    "    elif len(y.shape) == 3:\n",
    "        p, q = y.shape[1:3]  # MIMO system\n",
    "    else:\n",
    "        raise ValueError(\"y must be 1 or 3 dimensional\")\n",
    "    s0, s1, s2 = y.strides\n",
    "    return as_strided(y, shape=(m, q, n, p), \n",
    "                      strides=(s0, s2, s0, s1)).reshape(m*q, n*p)\n",
    "\n",
    "y = np.arange(5)\n",
    "h = hankel_matrix(y, 3, 3)\n",
    "h_true = np.array([\n",
    "    [0, 1, 2],\n",
    "    [1, 2, 3],\n",
    "    [2, 3, 4]\n",
    "])\n",
    "assert np.array_equal(h, h_true)\n",
    "\n",
    "y = np.arange(5).astype(float)\n",
    "h = hankel_matrix(y, 4, 2)\n",
    "h_true = np.array([\n",
    "    [0., 1.],\n",
    "    [1., 2.],\n",
    "    [2., 3.],\n",
    "    [3., 4.]\n",
    "])\n",
    "assert np.array_equal(h, h_true)\n",
    "\n",
    "y = np.arange(20).reshape(5,2,2)\n",
    "h = hankel_matrix(y, 3, 3)\n",
    "h_true = np.array([\n",
    "    [ 0,  2,  4,  6,  8, 10],\n",
    "    [ 1,  3,  5,  7,  9, 11],\n",
    "    [ 4,  6,  8, 10, 12, 14],\n",
    "    [ 5,  7,  9, 11, 13, 15],\n",
    "    [ 8, 10, 12, 14, 16, 18],\n",
    "    [ 9, 11, 13, 15, 17, 19]\n",
    "])\n",
    "assert np.array_equal(h, h_true)\n",
    "\n",
    "y = np.arange(30).reshape(5,3,2)\n",
    "h = hankel_matrix(y, 2, 4)\n",
    "h_true = np.array([\n",
    "    [ 0,  2,  4,  6,  8, 10, 12, 14, 16, 18, 20, 22],\n",
    "    [ 1,  3,  5,  7,  9, 11, 13, 15, 17, 19, 21, 23],\n",
    "    [ 6,  8, 10, 12, 14, 16, 18, 20, 22, 24, 26, 28],\n",
    "    [ 7,  9, 11, 13, 15, 17, 19, 21, 23, 25, 27, 29]\n",
    "])\n",
    "assert np.array_equal(h, h_true)\n",
    "\n",
    "y = np.arange(30).reshape(5,3,2)  # Excess data\n",
    "h = hankel_matrix(y, 2, 3)\n",
    "h_true = np.array([\n",
    "    [ 0,  2,  4,  6,  8, 10, 12, 14, 16],\n",
    "    [ 1,  3,  5,  7,  9, 11, 13, 15, 17],\n",
    "    [ 6,  8, 10, 12, 14, 16, 18, 20, 22],\n",
    "    [ 7,  9, 11, 13, 15, 17, 19, 21, 23]\n",
    "])\n",
    "assert np.array_equal(h, h_true)"
   ]
  },
  {
   "cell_type": "code",
   "execution_count": 22,
   "metadata": {},
   "outputs": [
    {
     "data": {
      "text/plain": [
       "array([[ 0,  2,  4,  6,  8, 10, 12, 14, 16],\n",
       "       [ 1,  3,  5,  7,  9, 11, 13, 15, 17],\n",
       "       [ 6,  8, 10, 12, 14, 16, 18, 20, 22],\n",
       "       [ 7,  9, 11, 13, 15, 17, 19, 21, 23]])"
      ]
     },
     "execution_count": 22,
     "metadata": {},
     "output_type": "execute_result"
    }
   ],
   "source": [
    "y = np.arange(30).reshape(5,3,2)\n",
    "h = hankel_matrix(y, 2, 3)\n",
    "h"
   ]
  },
  {
   "cell_type": "code",
   "execution_count": 23,
   "metadata": {},
   "outputs": [
    {
     "data": {
      "text/plain": [
       "array([[[ 0,  1],\n",
       "        [ 2,  3],\n",
       "        [ 4,  5]],\n",
       "\n",
       "       [[ 6,  7],\n",
       "        [ 8,  9],\n",
       "        [10, 11]],\n",
       "\n",
       "       [[12, 13],\n",
       "        [14, 15],\n",
       "        [16, 17]],\n",
       "\n",
       "       [[18, 19],\n",
       "        [20, 21],\n",
       "        [22, 23]],\n",
       "\n",
       "       [[24, 25],\n",
       "        [26, 27],\n",
       "        [28, 29]]])"
      ]
     },
     "execution_count": 23,
     "metadata": {},
     "output_type": "execute_result"
    }
   ],
   "source": [
    "y = np.arange(30).reshape(5,3,2)\n",
    "y"
   ]
  },
  {
   "cell_type": "code",
   "execution_count": 24,
   "metadata": {},
   "outputs": [
    {
     "name": "stdout",
     "output_type": "stream",
     "text": [
      "14.9 µs ± 222 ns per loop (mean ± std. dev. of 7 runs, 100000 loops each)\n"
     ]
    }
   ],
   "source": [
    "y = np.arange(100)\n",
    "%timeit hankel_matrix(y, 50, 50)"
   ]
  },
  {
   "cell_type": "code",
   "execution_count": 25,
   "metadata": {},
   "outputs": [],
   "source": [
    "def hankel_matrix_with_delay(x, n_rows):\n",
    "    \"\"\"Hankel matrix of eigen-time-delay coordinates.\n",
    "    \"\"\"\n",
    "    assert n_rows > 1\n",
    "    h = np.stack([np.roll(x, -i) for i in range(n_rows)])\n",
    "    return h[:, :-n_rows+1]\n",
    "\n",
    "h_test = hankel_matrix_with_delay(np.array(range(5)), 3)\n",
    "h_true = np.array([\n",
    "    [0, 1, 2],\n",
    "    [1, 2, 3],\n",
    "    [2, 3, 4]\n",
    "])\n",
    "assert np.array_equal(h_test, h_true)"
   ]
  },
  {
   "cell_type": "code",
   "execution_count": 26,
   "metadata": {},
   "outputs": [
    {
     "name": "stdout",
     "output_type": "stream",
     "text": [
      "1.46 ms ± 18.9 µs per loop (mean ± std. dev. of 7 runs, 1000 loops each)\n"
     ]
    }
   ],
   "source": [
    "y = np.arange(100)\n",
    "%timeit hankel_matrix_with_delay(y, 50)"
   ]
  },
  {
   "cell_type": "code",
   "execution_count": 27,
   "metadata": {},
   "outputs": [
    {
     "name": "stdout",
     "output_type": "stream",
     "text": [
      "15.3 µs ± 563 ns per loop (mean ± std. dev. of 7 runs, 100000 loops each)\n"
     ]
    }
   ],
   "source": [
    "%timeit hankel_matrix(y, 50, 50)"
   ]
  },
  {
   "cell_type": "code",
   "execution_count": 28,
   "metadata": {},
   "outputs": [
    {
     "data": {
      "text/plain": [
       "(100,)"
      ]
     },
     "execution_count": 28,
     "metadata": {},
     "output_type": "execute_result"
    }
   ],
   "source": [
    "y.shape"
   ]
  },
  {
   "cell_type": "code",
   "execution_count": 29,
   "metadata": {},
   "outputs": [
    {
     "ename": "ValueError",
     "evalue": "shapes (100,2) and (3,) not aligned: 2 (dim 1) != 3 (dim 0)",
     "output_type": "error",
     "traceback": [
      "\u001b[0;31m---------------------------------------------------------------------------\u001b[0m",
      "\u001b[0;31mValueError\u001b[0m                                Traceback (most recent call last)",
      "\u001b[0;32m<ipython-input-29-543ca514f42e>\u001b[0m in \u001b[0;36m<module>\u001b[0;34m\u001b[0m\n\u001b[1;32m      1\u001b[0m \u001b[0;31m## Compute random input simulation for OKID\u001b[0m\u001b[0;34m\u001b[0m\u001b[0;34m\u001b[0m\u001b[0;34m\u001b[0m\u001b[0m\n\u001b[1;32m      2\u001b[0m \u001b[0muRandom\u001b[0m \u001b[0;34m=\u001b[0m \u001b[0mnp\u001b[0m\u001b[0;34m.\u001b[0m\u001b[0mrandom\u001b[0m\u001b[0;34m.\u001b[0m\u001b[0mrandn\u001b[0m\u001b[0;34m(\u001b[0m\u001b[0mq\u001b[0m\u001b[0;34m,\u001b[0m\u001b[0;36m200\u001b[0m\u001b[0;34m)\u001b[0m \u001b[0;31m# Random forcing input\u001b[0m\u001b[0;34m\u001b[0m\u001b[0;34m\u001b[0m\u001b[0m\n\u001b[0;32m----> 3\u001b[0;31m \u001b[0myRandom\u001b[0m \u001b[0;34m=\u001b[0m \u001b[0mlsim\u001b[0m\u001b[0;34m(\u001b[0m\u001b[0msysFull\u001b[0m\u001b[0;34m,\u001b[0m\u001b[0muRandom\u001b[0m\u001b[0;34m,\u001b[0m\u001b[0mrange\u001b[0m\u001b[0;34m(\u001b[0m\u001b[0;36m200\u001b[0m\u001b[0;34m)\u001b[0m\u001b[0;34m)\u001b[0m\u001b[0;34m[\u001b[0m\u001b[0;36m0\u001b[0m\u001b[0;34m]\u001b[0m\u001b[0;34m.\u001b[0m\u001b[0mT\u001b[0m \u001b[0;31m# Output\u001b[0m\u001b[0;34m\u001b[0m\u001b[0;34m\u001b[0m\u001b[0m\n\u001b[0m",
      "\u001b[0;32m/anaconda3/envs/torch/lib/python3.7/site-packages/control/matlab/timeresp.py\u001b[0m in \u001b[0;36mlsim\u001b[0;34m(sys, U, T, X0)\u001b[0m\n\u001b[1;32m    271\u001b[0m     '''\n\u001b[1;32m    272\u001b[0m     \u001b[0;32mfrom\u001b[0m \u001b[0;34m.\u001b[0m\u001b[0;34m.\u001b[0m\u001b[0mtimeresp\u001b[0m \u001b[0;32mimport\u001b[0m \u001b[0mforced_response\u001b[0m\u001b[0;34m\u001b[0m\u001b[0;34m\u001b[0m\u001b[0m\n\u001b[0;32m--> 273\u001b[0;31m     \u001b[0mT\u001b[0m\u001b[0;34m,\u001b[0m \u001b[0myout\u001b[0m\u001b[0;34m,\u001b[0m \u001b[0mxout\u001b[0m \u001b[0;34m=\u001b[0m \u001b[0mforced_response\u001b[0m\u001b[0;34m(\u001b[0m\u001b[0msys\u001b[0m\u001b[0;34m,\u001b[0m \u001b[0mT\u001b[0m\u001b[0;34m,\u001b[0m \u001b[0mU\u001b[0m\u001b[0;34m,\u001b[0m \u001b[0mX0\u001b[0m\u001b[0;34m,\u001b[0m \u001b[0mtranspose\u001b[0m \u001b[0;34m=\u001b[0m \u001b[0;32mTrue\u001b[0m\u001b[0;34m)\u001b[0m\u001b[0;34m\u001b[0m\u001b[0;34m\u001b[0m\u001b[0m\n\u001b[0m\u001b[1;32m    274\u001b[0m     \u001b[0;32mreturn\u001b[0m \u001b[0myout\u001b[0m\u001b[0;34m,\u001b[0m \u001b[0mT\u001b[0m\u001b[0;34m,\u001b[0m \u001b[0mxout\u001b[0m\u001b[0;34m\u001b[0m\u001b[0;34m\u001b[0m\u001b[0m\n",
      "\u001b[0;32m/anaconda3/envs/torch/lib/python3.7/site-packages/control/timeresp.py\u001b[0m in \u001b[0;36mforced_response\u001b[0;34m(sys, T, U, X0, transpose, interpolate)\u001b[0m\n\u001b[1;32m    352\u001b[0m         \u001b[0;31m# Use signal processing toolbox for the discrete time simulation\u001b[0m\u001b[0;34m\u001b[0m\u001b[0;34m\u001b[0m\u001b[0;34m\u001b[0m\u001b[0m\n\u001b[1;32m    353\u001b[0m         \u001b[0;31m# Transpose the input to match toolbox convention\u001b[0m\u001b[0;34m\u001b[0m\u001b[0;34m\u001b[0m\u001b[0;34m\u001b[0m\u001b[0m\n\u001b[0;32m--> 354\u001b[0;31m         \u001b[0mtout\u001b[0m\u001b[0;34m,\u001b[0m \u001b[0myout\u001b[0m\u001b[0;34m,\u001b[0m \u001b[0mxout\u001b[0m \u001b[0;34m=\u001b[0m \u001b[0msp\u001b[0m\u001b[0;34m.\u001b[0m\u001b[0msignal\u001b[0m\u001b[0;34m.\u001b[0m\u001b[0mdlsim\u001b[0m\u001b[0;34m(\u001b[0m\u001b[0mdsys\u001b[0m\u001b[0;34m,\u001b[0m \u001b[0mnp\u001b[0m\u001b[0;34m.\u001b[0m\u001b[0mtranspose\u001b[0m\u001b[0;34m(\u001b[0m\u001b[0mU\u001b[0m\u001b[0;34m)\u001b[0m\u001b[0;34m,\u001b[0m \u001b[0mT\u001b[0m\u001b[0;34m,\u001b[0m \u001b[0mX0\u001b[0m\u001b[0;34m)\u001b[0m\u001b[0;34m\u001b[0m\u001b[0;34m\u001b[0m\u001b[0m\n\u001b[0m\u001b[1;32m    355\u001b[0m \u001b[0;34m\u001b[0m\u001b[0m\n\u001b[1;32m    356\u001b[0m         \u001b[0;32mif\u001b[0m \u001b[0;32mnot\u001b[0m \u001b[0minterpolate\u001b[0m\u001b[0;34m:\u001b[0m\u001b[0;34m\u001b[0m\u001b[0;34m\u001b[0m\u001b[0m\n",
      "\u001b[0;32m/anaconda3/envs/torch/lib/python3.7/site-packages/scipy/signal/ltisys.py\u001b[0m in \u001b[0;36mdlsim\u001b[0;34m(system, u, t, x0)\u001b[0m\n\u001b[1;32m   3366\u001b[0m     \u001b[0;32mfor\u001b[0m \u001b[0mi\u001b[0m \u001b[0;32min\u001b[0m \u001b[0mrange\u001b[0m\u001b[0;34m(\u001b[0m\u001b[0;36m0\u001b[0m\u001b[0;34m,\u001b[0m \u001b[0mout_samples\u001b[0m \u001b[0;34m-\u001b[0m \u001b[0;36m1\u001b[0m\u001b[0;34m)\u001b[0m\u001b[0;34m:\u001b[0m\u001b[0;34m\u001b[0m\u001b[0;34m\u001b[0m\u001b[0m\n\u001b[1;32m   3367\u001b[0m         xout[i+1, :] = (np.dot(system.A, xout[i, :]) +\n\u001b[0;32m-> 3368\u001b[0;31m                         np.dot(system.B, u_dt[i, :]))\n\u001b[0m\u001b[1;32m   3369\u001b[0m         yout[i, :] = (np.dot(system.C, xout[i, :]) +\n\u001b[1;32m   3370\u001b[0m                       np.dot(system.D, u_dt[i, :]))\n",
      "\u001b[0;32m<__array_function__ internals>\u001b[0m in \u001b[0;36mdot\u001b[0;34m(*args, **kwargs)\u001b[0m\n",
      "\u001b[0;31mValueError\u001b[0m: shapes (100,2) and (3,) not aligned: 2 (dim 1) != 3 (dim 0)"
     ]
    }
   ],
   "source": [
    "## Compute random input simulation for OKID\n",
    "uRandom = np.random.randn(q,200) # Random forcing input\n",
    "yRandom = lsim(sysFull,uRandom,range(200))[0].T # Output"
   ]
  },
  {
   "cell_type": "code",
   "execution_count": null,
   "metadata": {},
   "outputs": [],
   "source": [
    "## Compute OKID and then ERA\n",
    "H = OKID(yRandom,uRandom,r)\n",
    "mco = int(np.floor((H.shape[2]-1)/2)) # m_c = m_o\n",
    "Ar,Br,Cr,Dr,HSVs = ERA(H,mco,mco,q,p,r)\n",
    "sysERAOKID = ss(Ar,Br,Cr,Dr,1)"
   ]
  },
  {
   "cell_type": "code",
   "execution_count": null,
   "metadata": {},
   "outputs": [],
   "source": [
    "## Plot impulse responses for all methods\n",
    "\n",
    "y1 = np.zeros((200,p,q))\n",
    "y2 = np.zeros((100,p,q))\n",
    "y3 = np.zeros((100,p,q))\n",
    "\n",
    "for qi in range(q):\n",
    "    y1[:,:,qi],t1 = impulse(sysFull,np.arange(200),input=qi)\n",
    "    y2[:,:,qi],t2 = impulse(sysERA,np.arange(100),input=qi)\n",
    "    y3[:,:,qi],t3 = impulse(sysERAOKID,np.arange(100),input=qi)\n",
    "\n",
    "fig, axs = plt.subplots(2,2, figsize=(9,5))\n",
    "axs = axs.reshape(-1)\n",
    "\n",
    "axs[0].step(t1,y1[:,0,0],linewidth=2)\n",
    "axs[0].step(t2,y2[:,0,0],linewidth=1.2)\n",
    "axs[0].step(t3,y3[:,0,0],linewidth=1)\n",
    "axs[0].set_ylabel('$y_1$')\n",
    "axs[0].set_title('$u_1$')\n",
    "axs[0].grid()\n",
    "\n",
    "axs[1].step(t1,y1[:,0,1],linewidth=2)\n",
    "axs[1].step(t2,y2[:,0,1],linewidth=1.2)\n",
    "axs[1].step(t3,y3[:,0,1],linewidth=1)\n",
    "axs[1].set_title('$u_2$')\n",
    "axs[1].grid()\n",
    "\n",
    "axs[2].step(t1,y1[:,1,0],linewidth=2)\n",
    "axs[2].step(t2,y2[:,1,0],linewidth=1.2)\n",
    "axs[2].step(t3,y3[:,1,0],linewidth=1)\n",
    "axs[2].set_ylabel('$y_2$')\n",
    "axs[2].grid()\n",
    "\n",
    "axs[3].step(t1,y1[:,1,1],linewidth=2,label='Full model, n=100')\n",
    "axs[3].step(t2,y2[:,1,1],linewidth=1.2,label='ERA, r={}'.format(r))\n",
    "axs[3].step(t3,y3[:,1,1],linewidth=1,label='ERA/OKID, r={}'.format(r))\n",
    "axs[3].legend(prop={'size': 12})\n",
    "axs[3].grid()\n",
    "\n",
    "for ax in axs:\n",
    "    ax.set_xlim(0,60)\n",
    "\n",
    "# Put a legend to the right of the current axis\n",
    "axs[3].legend(loc='center left', bbox_to_anchor=(1, 0.5))\n",
    "\n",
    "plt.show()"
   ]
  },
  {
   "cell_type": "code",
   "execution_count": null,
   "metadata": {},
   "outputs": [],
   "source": [
    "## Plot input/output pair for OKID\n",
    "fig,axs = plt.subplots(2)\n",
    "\n",
    "axs[0].set_title('Inputs')\n",
    "axs[0].step(range(uRandom.shape[1]),uRandom[0,:],label='u1')\n",
    "axs[0].step(range(uRandom.shape[1]),uRandom[1,:],label='u2')\n",
    "axs[0].set_xlabel('t')\n",
    "axs[0].set_ylabel('u')\n",
    "\n",
    "axs[1].set_title('Outputs')\n",
    "axs[1].step(range(yRandom.shape[1]),uRandom[0,:],label='y1')\n",
    "axs[1].step(range(yRandom.shape[1]),uRandom[1,:],label='y2')\n",
    "axs[1].set_xlabel('t')\n",
    "axs[1].set_ylabel('y')\n",
    "\n",
    "for ax in axs:\n",
    "    ax.legend(prop={'size': 12})\n",
    "\n",
    "\n",
    "plt.show()"
   ]
  },
  {
   "cell_type": "code",
   "execution_count": null,
   "metadata": {},
   "outputs": [],
   "source": [
    "uRandom.shape"
   ]
  },
  {
   "cell_type": "code",
   "execution_count": null,
   "metadata": {},
   "outputs": [],
   "source": []
  }
 ],
 "metadata": {
  "kernelspec": {
   "display_name": "Python [conda env:torch]",
   "language": "python",
   "name": "conda-env-torch-py"
  },
  "language_info": {
   "codemirror_mode": {
    "name": "ipython",
    "version": 3
   },
   "file_extension": ".py",
   "mimetype": "text/x-python",
   "name": "python",
   "nbconvert_exporter": "python",
   "pygments_lexer": "ipython3",
   "version": "3.7.6"
  }
 },
 "nbformat": 4,
 "nbformat_minor": 2
}
