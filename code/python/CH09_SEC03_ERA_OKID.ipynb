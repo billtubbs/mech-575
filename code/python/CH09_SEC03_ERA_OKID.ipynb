{
 "cells": [
  {
   "cell_type": "code",
   "execution_count": 1,
   "metadata": {},
   "outputs": [],
   "source": [
    "import numpy as np\n",
    "import matplotlib.pyplot as plt\n",
    "from matplotlib import rcParams\n",
    "from control.matlab import *\n",
    "import slycot\n",
    "from scipy import signal,io\n",
    "import os\n",
    "from scipy.linalg import fractional_matrix_power\n",
    "from dyn_utils import hankel_matrix\n",
    "\n",
    "# Python control toolbox available at https://python-control.readthedocs.io/\n",
    "\n",
    "plt.rcParams['figure.figsize'] = [8, 8]\n",
    "plt.rcParams.update({'font.size': 18})\n"
   ]
  },
  {
   "cell_type": "code",
   "execution_count": 2,
   "metadata": {},
   "outputs": [
    {
     "data": {
      "text/plain": [
       "['a.csv',\n",
       " 'c.csv',\n",
       " 'b.csv',\n",
       " '.DS_Store',\n",
       " 'd.csv',\n",
       " 'my_face.jpg',\n",
       " 'video_data.npy',\n",
       " 'testSys.mat']"
      ]
     },
     "execution_count": 2,
     "metadata": {},
     "output_type": "execute_result"
    }
   ],
   "source": [
    "os.listdir('../../data')"
   ]
  },
  {
   "cell_type": "code",
   "execution_count": 3,
   "metadata": {},
   "outputs": [],
   "source": [
    "q = 2   # Number of inputs\n",
    "p = 2   # Number of outputs\n",
    "n = 100 # State dimension\n",
    "r = 10 # Reduced model order\n",
    "\n",
    "# This file is missing:\n",
    "#testSys_mat = io.loadmat(os.path.join('..','..','data','testSys_ABCD.mat'))\n",
    "#A = testSys_mat['A']\n",
    "#B = testSys_mat['B']\n",
    "#C = testSys_mat['C']\n",
    "#D = testSys_mat['D']\n",
    "\n",
    "# I made csv files instead\n",
    "data_dir = '../../data'\n",
    "A = np.genfromtxt(os.path.join(data_dir, 'a.csv'), delimiter=',')\n",
    "B = np.genfromtxt(os.path.join(data_dir, 'b.csv'), delimiter=',')\n",
    "C = np.genfromtxt(os.path.join(data_dir, 'c.csv'), delimiter=',')\n",
    "D = np.genfromtxt(os.path.join(data_dir, 'd.csv'), delimiter=',')\n",
    "\n",
    "sysFull = ss(A,B,C,D,1)"
   ]
  },
  {
   "cell_type": "code",
   "execution_count": 4,
   "metadata": {},
   "outputs": [],
   "source": [
    "yFull = np.zeros((r*5+2,p,q))\n",
    "tspan = np.arange(0,(r*5+2),1)\n",
    "m = len(tspan)\n",
    "\n",
    "for qi in range(q):\n",
    "    yFull[:,:,qi],t = impulse(sysFull,T=tspan,input=qi)\n",
    "\n",
    "\n",
    "YY = np.transpose(yFull,axes=(1,2,0)) # reorder to size p x q x m"
   ]
  },
  {
   "cell_type": "code",
   "execution_count": 5,
   "metadata": {},
   "outputs": [],
   "source": [
    "## ERA and OKID Function Definitions\n",
    "\n",
    "def ERA(YY,m,n,nin,nout,r):\n",
    "    Dr = np.zeros((nout,nin))\n",
    "    Y = np.zeros((nout,nin,YY.shape[2]-1))\n",
    "    for i in range(nout):\n",
    "        for j in range(nin):\n",
    "            Dr[i,j] = YY[i,j,0]\n",
    "            Y[i,j,:] = YY[i,j,1:]\n",
    "            \n",
    "    assert len(Y[:,1,1]) == nout\n",
    "    assert len(Y[1,:,1]) == nin\n",
    "    assert len(Y[1,1,:]) >= m+n\n",
    "    \n",
    "    H = np.zeros((nout*m,nin*n))\n",
    "    H2 = np.zeros((nout*m,nin*n))\n",
    "    \n",
    "    for i in range(m):\n",
    "        for j in range(n):\n",
    "            for Q in range(nout):\n",
    "                for P in range(nin):\n",
    "                    H[nout*i+Q,nin*j+P] = Y[Q,P,i+j]\n",
    "                    H2[nout*i+Q,nin*j+P] = Y[Q,P,i+j+1]\n",
    "                    \n",
    "    U,S,VT = np.linalg.svd(H,full_matrices=0)\n",
    "    V = VT.T\n",
    "    Sigma = np.diag(S[:r])\n",
    "    Ur = U[:,:r]\n",
    "    Vr = V[:,:r]\n",
    "    Ar = fractional_matrix_power(Sigma,-0.5) @ Ur.T @ H2 @ Vr @ fractional_matrix_power(Sigma,-0.5)\n",
    "    Br = fractional_matrix_power(Sigma,-0.5) @ Ur.T @ H[:,:nin]\n",
    "    Cr = H[:nout,:] @ Vr @ fractional_matrix_power(Sigma,-0.5)\n",
    "    HSVs = S\n",
    "    \n",
    "    return Ar, Br, Cr, Dr, HSVs\n",
    "\n",
    "\n",
    "def ERA_vectorized(YY, m, n, nin, nout, r):\n",
    "    \"\"\"Compute a reduced order linear dynamical system model\n",
    "    from impulse response data using the Eigensystem Realization\n",
    "    Algorithm (ERA).\n",
    "    \n",
    "    Arguments:\n",
    "        YY : Impulse response data shape (nout, nin, T)\n",
    "        nin, nout : number of inputs and outputs\n",
    "        m, n : dimensions of Hankel matrix\n",
    "        r: dimensions of reduced model\n",
    "    \"\"\"\n",
    "\n",
    "    Dr = YY[:,:,0]\n",
    "    Y = YY[:,:,1:]\n",
    "    assert Dr.shape == (nout, nin)\n",
    "    assert Y.shape[2] >= m+n\n",
    "    \n",
    "    H = np.zeros((nout*m, nin*n))\n",
    "    H2 = np.zeros((nout*m, nin*n))\n",
    "    for i in range(m):\n",
    "        for j in range(n):\n",
    "            H[nout*i:nout*(i+1), nin*j:nin*(j+1)] = Y[:, :, i+j]\n",
    "            H2[nout*i:nout*(i+1), nin*j:nin*(j+1)] = Y[:, :, i+j+1]\n",
    "    \n",
    "    U, S, VT = np.linalg.svd(H,full_matrices=0)\n",
    "    V = VT.T\n",
    "    Sigma = np.diag(S[:r])\n",
    "    Ur = U[:, :r]\n",
    "    Vr = V[:, :r]\n",
    "    Ar = fractional_matrix_power(Sigma, -0.5) @ Ur.T @ H2 @ Vr @ \\\n",
    "         fractional_matrix_power(Sigma, -0.5)\n",
    "    Br = fractional_matrix_power(Sigma, -0.5) @ Ur.T @ H[:,:nin]\n",
    "    Cr = H[:nout, :] @ Vr @ fractional_matrix_power(Sigma, -0.5)\n",
    "    HSVs = S\n",
    "    \n",
    "    return Ar, Br, Cr, Dr, HSVs\n",
    "\n",
    "\n",
    "def OKID(y,u,r):\n",
    "    # inputs:  y (sampled output), u (sampled input), r (effective system order)\n",
    "    # outputs: H (Markov parameters), M (Observer gain)\n",
    "    \n",
    "    PP = y.shape[0] # number of outputs\n",
    "    MM = y.shape[1] # number of output samples\n",
    "    QQ = u.shape[0] # number of inputs\n",
    "    lu = u.shape[1] # number of input samples\n",
    "    \n",
    "    assert MM == lu\n",
    "    \n",
    "    LL = r*5\n",
    "    \n",
    "    # Form data matrices y and V\n",
    "    V = np.zeros((QQ+(QQ+PP)*LL,MM))\n",
    "    for i in range(MM):\n",
    "        V[:QQ,i] = u[:QQ,i]\n",
    "        \n",
    "    for i in range(1,LL+1):\n",
    "        for j in range(MM-i):\n",
    "            vtemp = np.concatenate((u[:,j],y[:,j]))\n",
    "            V[QQ+(i-1)*(QQ+PP):QQ+i*(QQ+PP),i+j] = vtemp\n",
    "    \n",
    "    # Solve for observer Markov parameters Ybar\n",
    "    Ybar = y @ np.linalg.pinv(V,rcond=10**(-3))\n",
    "    \n",
    "    # Isolate system Markov parameters H, and observer gain M\n",
    "    D = Ybar[:,:QQ] # feed-through term (or D matrix) is the first term\n",
    "    \n",
    "    Y = np.zeros((PP,QQ,LL))\n",
    "    Ybar1 = np.zeros((PP,QQ,LL))\n",
    "    Ybar2 = np.zeros((PP,QQ,LL))\n",
    "    \n",
    "    for i in range(LL):\n",
    "        Ybar1[:,:,i] = Ybar[:,QQ+(QQ+PP)*i : QQ+(QQ+PP)*i+QQ]\n",
    "        Ybar2[:,:,i] = Ybar[:,QQ+(QQ+PP)*i+QQ : QQ+(QQ+PP)*(i+1)]\n",
    "    \n",
    "    Y[:,:,0] = Ybar1[:,:,0] + Ybar2[:,:,0] @ D\n",
    "    for k in range(1,LL):\n",
    "        Y[:,:,k] = Ybar1[:,:,k] + Ybar2[:,:,k] @ D\n",
    "        for i in range(k-1):\n",
    "            Y[:,:,k] += Ybar2[:,:,i] @ Y[:,:,k-i-1]\n",
    "            \n",
    "    H = np.zeros((D.shape[0],D.shape[1],LL+1))\n",
    "    H[:,:,0] = D\n",
    "    \n",
    "    for k in range(1,LL+1):\n",
    "        H[:,:,k] = Y[:,:,k-1]\n",
    "        \n",
    "    return H"
   ]
  },
  {
   "cell_type": "code",
   "execution_count": 6,
   "metadata": {},
   "outputs": [],
   "source": [
    "## Compute ERA from impulse response\n",
    "mco = int(np.floor((yFull.shape[0]-1)/2)) # m_c = m_o = (m-1)/2\n",
    "Ar, Br, Cr, Dr, HSVs = ERA(YY,mco,mco,q,p,r)\n",
    "Ar2, Br2, Cr2, Dr2, HSVs2 = ERA_vectorized(YY,mco,mco,q,p,r)\n",
    "\n",
    "assert np.array_equal(Ar, Ar2)\n",
    "assert np.array_equal(Br, Br2)\n",
    "assert np.array_equal(Cr, Cr2)\n",
    "assert np.array_equal(Dr, Dr2)\n",
    "assert np.array_equal(HSVs, HSVs2)\n",
    "\n",
    "sysERA = ss(Ar,Br,Cr,Dr,1)"
   ]
  },
  {
   "cell_type": "code",
   "execution_count": 7,
   "metadata": {},
   "outputs": [],
   "source": [
    "m = n = mco\n",
    "nin = q\n",
    "nout = p\n",
    "Dr = YY[:,:,0]\n",
    "Y = YY[:,:,1:]\n",
    "assert Dr.shape == (nout, nin)\n",
    "assert Y.shape[2] >= m+n\n",
    "\n",
    "h = hankel_matrix(Y.T, m, n+1)\n",
    "H = h[:,:-2]\n",
    "H2 = h[:,2:]\n",
    "\n",
    "assert H.shape == (50, 50)\n",
    "assert H2.shape == (50, 50)"
   ]
  },
  {
   "cell_type": "code",
   "execution_count": 8,
   "metadata": {},
   "outputs": [
    {
     "data": {
      "text/plain": [
       "array([[ 7.71088095,  5.25967538,  1.66223156],\n",
       "       [-6.17798632,  4.71536273,  2.10706513],\n",
       "       [ 1.66223156, -1.71574197,  4.26277725],\n",
       "       [ 2.10706513,  3.5877729 , -4.80887737],\n",
       "       [ 4.26277725,  5.93954291,  1.3357039 ]])"
      ]
     },
     "execution_count": 8,
     "metadata": {},
     "output_type": "execute_result"
    }
   ],
   "source": [
    "H[:5, :3]"
   ]
  },
  {
   "cell_type": "code",
   "execution_count": 9,
   "metadata": {},
   "outputs": [
    {
     "data": {
      "text/plain": [
       "array([[ 1.66223156, -1.71574197,  4.26277725],\n",
       "       [ 2.10706513,  3.5877729 , -4.80887737],\n",
       "       [ 4.26277725,  5.93954291,  1.3357039 ],\n",
       "       [-4.80887737,  2.97997009,  2.51509526],\n",
       "       [ 1.3357039 ,  1.24350083,  2.23509732]])"
      ]
     },
     "execution_count": 9,
     "metadata": {},
     "output_type": "execute_result"
    }
   ],
   "source": [
    "H2[:5, :3]"
   ]
  },
  {
   "cell_type": "code",
   "execution_count": 10,
   "metadata": {},
   "outputs": [],
   "source": [
    "## Compute random input simulation for OKID\n",
    "uRandom = np.random.randn(q,200) # Random forcing input\n",
    "yRandom = lsim(sysFull,uRandom,range(200))[0].T # Output"
   ]
  },
  {
   "cell_type": "code",
   "execution_count": 11,
   "metadata": {},
   "outputs": [],
   "source": [
    "## Compute OKID and then ERA\n",
    "H = OKID(yRandom,uRandom,r)\n",
    "mco = int(np.floor((H.shape[2]-1)/2)) # m_c = m_o\n",
    "Ar,Br,Cr,Dr,HSVs = ERA(H,mco,mco,q,p,r)\n",
    "sysERAOKID = ss(Ar,Br,Cr,Dr,1)"
   ]
  },
  {
   "cell_type": "code",
   "execution_count": 12,
   "metadata": {},
   "outputs": [
    {
     "data": {
      "image/png": "[encoded data removed]",
      "text/plain": [
       "<Figure size 648x360 with 4 Axes>"
      ]
     },
     "metadata": {
      "needs_background": "light"
     },
     "output_type": "display_data"
    }
   ],
   "source": [
    "## Plot impulse responses for all methods\n",
    "\n",
    "y1 = np.zeros((200,p,q))\n",
    "y2 = np.zeros((100,p,q))\n",
    "y3 = np.zeros((100,p,q))\n",
    "\n",
    "for qi in range(q):\n",
    "    y1[:,:,qi],t1 = impulse(sysFull,np.arange(200),input=qi)\n",
    "    y2[:,:,qi],t2 = impulse(sysERA,np.arange(100),input=qi)\n",
    "    y3[:,:,qi],t3 = impulse(sysERAOKID,np.arange(100),input=qi)\n",
    "\n",
    "fig, axs = plt.subplots(2,2, figsize=(9,5))\n",
    "axs = axs.reshape(-1)\n",
    "\n",
    "axs[0].step(t1,y1[:,0,0],linewidth=2)\n",
    "axs[0].step(t2,y2[:,0,0],linewidth=1.2)\n",
    "axs[0].step(t3,y3[:,0,0],linewidth=1)\n",
    "axs[0].set_ylabel('$y_1$')\n",
    "axs[0].set_title('$u_1$')\n",
    "axs[0].grid()\n",
    "\n",
    "axs[1].step(t1,y1[:,0,1],linewidth=2)\n",
    "axs[1].step(t2,y2[:,0,1],linewidth=1.2)\n",
    "axs[1].step(t3,y3[:,0,1],linewidth=1)\n",
    "axs[1].set_title('$u_2$')\n",
    "axs[1].grid()\n",
    "\n",
    "axs[2].step(t1,y1[:,1,0],linewidth=2)\n",
    "axs[2].step(t2,y2[:,1,0],linewidth=1.2)\n",
    "axs[2].step(t3,y3[:,1,0],linewidth=1)\n",
    "axs[2].set_ylabel('$y_2$')\n",
    "axs[2].grid()\n",
    "\n",
    "axs[3].step(t1,y1[:,1,1],linewidth=2,label='Full model, n=100')\n",
    "axs[3].step(t2,y2[:,1,1],linewidth=1.2,label='ERA, r={}'.format(r))\n",
    "axs[3].step(t3,y3[:,1,1],linewidth=1,label='ERA/OKID, r={}'.format(r))\n",
    "axs[3].legend(prop={'size': 12})\n",
    "axs[3].grid()\n",
    "\n",
    "for ax in axs:\n",
    "    ax.set_xlim(0,60)\n",
    "\n",
    "# Put a legend to the right of the current axis\n",
    "axs[3].legend(loc='center left', bbox_to_anchor=(1, 0.5))\n",
    "\n",
    "plt.show()"
   ]
  },
  {
   "cell_type": "code",
   "execution_count": 13,
   "metadata": {},
   "outputs": [
    {
     "data": {
      "image/png": "[encoded data removed]",
      "text/plain": [
       "<Figure size 432x288 with 2 Axes>"
      ]
     },
     "metadata": {
      "needs_background": "light"
     },
     "output_type": "display_data"
    }
   ],
   "source": [
    "## Plot input/output pair for OKID\n",
    "fig,axs = plt.subplots(2)\n",
    "\n",
    "axs[0].set_title('Inputs')\n",
    "axs[0].step(range(uRandom.shape[1]),uRandom[0,:],label='u1')\n",
    "axs[0].step(range(uRandom.shape[1]),uRandom[1,:],label='u2')\n",
    "axs[0].set_xlabel('t')\n",
    "axs[0].set_ylabel('u')\n",
    "\n",
    "axs[1].set_title('Outputs')\n",
    "axs[1].step(range(yRandom.shape[1]),uRandom[0,:],label='y1')\n",
    "axs[1].step(range(yRandom.shape[1]),uRandom[1,:],label='y2')\n",
    "axs[1].set_xlabel('t')\n",
    "axs[1].set_ylabel('y')\n",
    "\n",
    "for ax in axs:\n",
    "    ax.legend(prop={'size': 12})\n",
    "\n",
    "\n",
    "plt.show()"
   ]
  },
  {
   "cell_type": "code",
   "execution_count": null,
   "metadata": {},
   "outputs": [],
   "source": []
  },
  {
   "cell_type": "code",
   "execution_count": null,
   "metadata": {},
   "outputs": [],
   "source": []
  },
  {
   "cell_type": "code",
   "execution_count": null,
   "metadata": {},
   "outputs": [],
   "source": []
  },
  {
   "cell_type": "code",
   "execution_count": null,
   "metadata": {},
   "outputs": [],
   "source": []
  }
 ],
 "metadata": {
  "kernelspec": {
   "display_name": "Python [conda env:torch]",
   "language": "python",
   "name": "conda-env-torch-py"
  },
  "language_info": {
   "codemirror_mode": {
    "name": "ipython",
    "version": 3
   },
   "file_extension": ".py",
   "mimetype": "text/x-python",
   "name": "python",
   "nbconvert_exporter": "python",
   "pygments_lexer": "ipython3",
   "version": "3.7.6"
  }
 },
 "nbformat": 4,
 "nbformat_minor": 2
}
